{
 "cells": [
  {
   "cell_type": "markdown",
   "metadata": {},
   "source": [
    "Probar los endpoint API de Render:\n",
    "\n",
    "API1 : https://proyecto-ml-steam.onrender.com/PlayTimeGenre/Valve\n",
    "\n",
    "API2 : https://proyecto-ml-steam.onrender.com/UserForGenre/Action\n",
    "\n",
    "API3 : https://proyecto-ml-steam.onrender.com/UsersRecommend/2012\n",
    "\n",
    "API4 : https://proyecto-ml-steam.onrender.com/UsersWorstDeveloper/2012\n",
    "\n",
    "API5 : https://proyecto-ml-steam.onrender.com/sentiment_analysis/Valve\n",
    "\n",
    "API6 : https://proyecto-ml-steam.onrender.com/recomendacion_juego/10"
   ]
  },
  {
   "cell_type": "markdown",
   "metadata": {},
   "source": [
    "pruebas api entoro local\n",
    "\n",
    "para lanzar el entorno virtual\n",
    "\n",
    "Abi un cmd\n",
    "\n",
    "C:\\Users\\frank\\OneDrive\\Documentos\\GitHub\\Proyecto-ML-STEAM>cd venv\n",
    "\n",
    "uvicorn main:app --host 0.0.0.0 --port 10000\n",
    "\n",
    "C:\\Users\\frank\\OneDrive\\Documentos\\GitHub\\Proyecto-ML-STEAM\\venv>cd scripts\n",
    "\n",
    "C:\\Users\\frank\\OneDrive\\Documentos\\GitHub\\Proyecto-ML-STEAM\\venv\\Scripts>activate\n",
    "\n",
    "C:\\Users\\frank\\OneDrive\\Documentos\\GitHub\\Proyecto-ML-STEAM\\venv\\Scripts>cd..\n",
    "\n",
    "C:\\Users\\frank\\OneDrive\\Documentos\\GitHub\\Proyecto-ML-STEAM\\venv> uvicorn main:app --reload\n",
    "\n",
    "API1 : http://127.0.0.1:8000/PlayTimeGenre/Valve\n",
    "\n",
    "API2 : http://127.0.0.1:8000/UserForGenre/Action\n",
    "\n",
    "API3 : http://127.0.0.1:8000/UsersRecommend/2012\n",
    "\n",
    "API4 : http://127.0.0.1:8000/UsersWorstDeveloper/2012\n",
    "\n",
    "API5 : http://127.0.0.1:8000/sentiment_analysis/Valve\n",
    "\n",
    "API6 : http://127.0.0.1:8000/recomendacion_juego/10"
   ]
  },
  {
   "cell_type": "code",
   "execution_count": null,
   "metadata": {},
   "outputs": [],
   "source": []
  }
 ],
 "metadata": {
  "language_info": {
   "name": "python"
  }
 },
 "nbformat": 4,
 "nbformat_minor": 2
}
