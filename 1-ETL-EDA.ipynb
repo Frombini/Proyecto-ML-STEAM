{
 "cells": [
  {
   "cell_type": "markdown",
   "metadata": {},
   "source": [
    "                                        ## lectura de JSON y cracion de DataFrames ##"
   ]
  },
  {
   "cell_type": "markdown",
   "metadata": {},
   "source": [
    "Importamos librerias para trabajar"
   ]
  },
  {
   "cell_type": "code",
   "execution_count": 158,
   "metadata": {},
   "outputs": [],
   "source": [
    "import json\n",
    "import pandas as pd\n",
    "import numpy as np\n",
    "import os\n",
    "import ast"
   ]
  },
  {
   "cell_type": "markdown",
   "metadata": {},
   "source": [
    "Ruta relativa"
   ]
  },
  {
   "cell_type": "code",
   "execution_count": 159,
   "metadata": {},
   "outputs": [],
   "source": [
    "# creamos las variables para las Rutas relativas a los archivos JSON\n",
    "\n",
    "ruta_AUS_User_Reviews = os.path.join('JSON', 'australian_user_reviews.json')\n",
    "\n",
    "ruta_AUS_User_Items = os.path.join('JSON', 'australian_users_items.json')\n",
    "\n",
    "ruta_Output_Steam_Games = os.path.join('JSON', 'output_steam_games.json')"
   ]
  },
  {
   "cell_type": "markdown",
   "metadata": {},
   "source": [
    "Leemos los archivos .JSON y los cargamos a un Dataframe"
   ]
  },
  {
   "cell_type": "code",
   "execution_count": 160,
   "metadata": {},
   "outputs": [],
   "source": [
    "# vamos a leer el contenido del archivo JSON (australian_user_reviews.json)\n",
    "with open(ruta_AUS_User_Reviews, 'r', encoding='utf-8') as f:\n",
    "    data = f.readlines()\n",
    "\n",
    "# vamos a convertir las lineas en registros\n",
    "records = [eval(line.strip()) for line in data]\n",
    "\n",
    "# Creamos el DataFrame a partir de los records o registros\n",
    "df_UserReviews= pd.DataFrame(records)"
   ]
  },
  {
   "cell_type": "code",
   "execution_count": 161,
   "metadata": {},
   "outputs": [],
   "source": [
    "# vamos a leer el contenido del archivo JSON (australian_users_items.json)\n",
    "rows = []\n",
    "with open (ruta_AUS_User_Items, encoding='MacRoman') as f:\n",
    "    for line in f.readlines():\n",
    "        rows.append(ast.literal_eval(line))\n",
    "\n",
    "# Creamos el DataFrame a partir de los records o registros\n",
    "df_UserItems = pd.DataFrame(rows)"
   ]
  },
  {
   "cell_type": "code",
   "execution_count": 162,
   "metadata": {},
   "outputs": [],
   "source": [
    "# vamos a leer el contenido del archivo JSON (output_steam_games.json)\n",
    "\n",
    "# Creamos el DataFrame a partir leer el .json\n",
    "df_OutputSteamGames=pd.read_json(ruta_Output_Steam_Games,lines=True, encoding='MacRoman')"
   ]
  },
  {
   "cell_type": "markdown",
   "metadata": {},
   "source": [
    "Chequeamos los dataframes creados anteriormente y procesedemos a desanidar las columnas anidadas"
   ]
  },
  {
   "cell_type": "markdown",
   "metadata": {},
   "source": [
    "                                                df_UserReviews"
   ]
  },
  {
   "cell_type": "code",
   "execution_count": 163,
   "metadata": {},
   "outputs": [
    {
     "name": "stdout",
     "output_type": "stream",
     "text": [
      "<class 'pandas.core.frame.DataFrame'>\n",
      "RangeIndex: 25799 entries, 0 to 25798\n",
      "Data columns (total 3 columns):\n",
      " #   Column    Non-Null Count  Dtype \n",
      "---  ------    --------------  ----- \n",
      " 0   user_id   25799 non-null  object\n",
      " 1   user_url  25799 non-null  object\n",
      " 2   reviews   25799 non-null  object\n",
      "dtypes: object(3)\n",
      "memory usage: 604.8+ KB\n"
     ]
    }
   ],
   "source": [
    "# Podemos verificar la estructura y tipo de dato del dataframe\n",
    "df_UserReviews.info()"
   ]
  },
  {
   "cell_type": "code",
   "execution_count": 164,
   "metadata": {},
   "outputs": [
    {
     "data": {
      "text/html": [
       "<div>\n",
       "<style scoped>\n",
       "    .dataframe tbody tr th:only-of-type {\n",
       "        vertical-align: middle;\n",
       "    }\n",
       "\n",
       "    .dataframe tbody tr th {\n",
       "        vertical-align: top;\n",
       "    }\n",
       "\n",
       "    .dataframe thead th {\n",
       "        text-align: right;\n",
       "    }\n",
       "</style>\n",
       "<table border=\"1\" class=\"dataframe\">\n",
       "  <thead>\n",
       "    <tr style=\"text-align: right;\">\n",
       "      <th></th>\n",
       "      <th>user_id</th>\n",
       "      <th>user_url</th>\n",
       "      <th>reviews</th>\n",
       "    </tr>\n",
       "  </thead>\n",
       "  <tbody>\n",
       "    <tr>\n",
       "      <th>0</th>\n",
       "      <td>76561197970982479</td>\n",
       "      <td>http://steamcommunity.com/profiles/76561197970...</td>\n",
       "      <td>[{'funny': '', 'posted': 'Posted November 5, 2...</td>\n",
       "    </tr>\n",
       "    <tr>\n",
       "      <th>1</th>\n",
       "      <td>js41637</td>\n",
       "      <td>http://steamcommunity.com/id/js41637</td>\n",
       "      <td>[{'funny': '', 'posted': 'Posted June 24, 2014...</td>\n",
       "    </tr>\n",
       "    <tr>\n",
       "      <th>2</th>\n",
       "      <td>evcentric</td>\n",
       "      <td>http://steamcommunity.com/id/evcentric</td>\n",
       "      <td>[{'funny': '', 'posted': 'Posted February 3.',...</td>\n",
       "    </tr>\n",
       "    <tr>\n",
       "      <th>3</th>\n",
       "      <td>doctr</td>\n",
       "      <td>http://steamcommunity.com/id/doctr</td>\n",
       "      <td>[{'funny': '', 'posted': 'Posted October 14, 2...</td>\n",
       "    </tr>\n",
       "    <tr>\n",
       "      <th>4</th>\n",
       "      <td>maplemage</td>\n",
       "      <td>http://steamcommunity.com/id/maplemage</td>\n",
       "      <td>[{'funny': '3 people found this review funny',...</td>\n",
       "    </tr>\n",
       "  </tbody>\n",
       "</table>\n",
       "</div>"
      ],
      "text/plain": [
       "             user_id                                           user_url  \\\n",
       "0  76561197970982479  http://steamcommunity.com/profiles/76561197970...   \n",
       "1            js41637               http://steamcommunity.com/id/js41637   \n",
       "2          evcentric             http://steamcommunity.com/id/evcentric   \n",
       "3              doctr                 http://steamcommunity.com/id/doctr   \n",
       "4          maplemage             http://steamcommunity.com/id/maplemage   \n",
       "\n",
       "                                             reviews  \n",
       "0  [{'funny': '', 'posted': 'Posted November 5, 2...  \n",
       "1  [{'funny': '', 'posted': 'Posted June 24, 2014...  \n",
       "2  [{'funny': '', 'posted': 'Posted February 3.',...  \n",
       "3  [{'funny': '', 'posted': 'Posted October 14, 2...  \n",
       "4  [{'funny': '3 people found this review funny',...  "
      ]
     },
     "execution_count": 164,
     "metadata": {},
     "output_type": "execute_result"
    }
   ],
   "source": [
    "# Chequeamos como quedo el Dataframe df_UserReviews\n",
    "df_UserReviews.head()"
   ]
  },
  {
   "cell_type": "markdown",
   "metadata": {},
   "source": [
    "Como podemos ver en el dataframe, en la columna reviews, los datos se encuentran anidados, por ende procederemos a desanidar los datos y cargarlos en el dataframe"
   ]
  },
  {
   "cell_type": "code",
   "execution_count": 165,
   "metadata": {},
   "outputs": [],
   "source": [
    "# Desanidamos la columna review\n",
    "desanidado = []\n",
    "for index, row in df_UserReviews.iterrows():\n",
    "    user_id = row['user_id']\n",
    "    user_url = row['user_url']\n",
    "    for review_dict in row['reviews']:\n",
    "        review_dict['user_id'] = user_id\n",
    "        review_dict['user_url'] = user_url\n",
    "        desanidado.append(review_dict)\n",
    "\n",
    "df_UserReviews = pd.DataFrame(desanidado)"
   ]
  },
  {
   "cell_type": "code",
   "execution_count": 166,
   "metadata": {},
   "outputs": [
    {
     "data": {
      "text/html": [
       "<div>\n",
       "<style scoped>\n",
       "    .dataframe tbody tr th:only-of-type {\n",
       "        vertical-align: middle;\n",
       "    }\n",
       "\n",
       "    .dataframe tbody tr th {\n",
       "        vertical-align: top;\n",
       "    }\n",
       "\n",
       "    .dataframe thead th {\n",
       "        text-align: right;\n",
       "    }\n",
       "</style>\n",
       "<table border=\"1\" class=\"dataframe\">\n",
       "  <thead>\n",
       "    <tr style=\"text-align: right;\">\n",
       "      <th></th>\n",
       "      <th>funny</th>\n",
       "      <th>posted</th>\n",
       "      <th>last_edited</th>\n",
       "      <th>item_id</th>\n",
       "      <th>helpful</th>\n",
       "      <th>recommend</th>\n",
       "      <th>review</th>\n",
       "      <th>user_id</th>\n",
       "      <th>user_url</th>\n",
       "    </tr>\n",
       "  </thead>\n",
       "  <tbody>\n",
       "    <tr>\n",
       "      <th>0</th>\n",
       "      <td></td>\n",
       "      <td>Posted November 5, 2011.</td>\n",
       "      <td></td>\n",
       "      <td>1250</td>\n",
       "      <td>No ratings yet</td>\n",
       "      <td>True</td>\n",
       "      <td>Simple yet with great replayability. In my opi...</td>\n",
       "      <td>76561197970982479</td>\n",
       "      <td>http://steamcommunity.com/profiles/76561197970...</td>\n",
       "    </tr>\n",
       "    <tr>\n",
       "      <th>1</th>\n",
       "      <td></td>\n",
       "      <td>Posted July 15, 2011.</td>\n",
       "      <td></td>\n",
       "      <td>22200</td>\n",
       "      <td>No ratings yet</td>\n",
       "      <td>True</td>\n",
       "      <td>It's unique and worth a playthrough.</td>\n",
       "      <td>76561197970982479</td>\n",
       "      <td>http://steamcommunity.com/profiles/76561197970...</td>\n",
       "    </tr>\n",
       "    <tr>\n",
       "      <th>2</th>\n",
       "      <td></td>\n",
       "      <td>Posted April 21, 2011.</td>\n",
       "      <td></td>\n",
       "      <td>43110</td>\n",
       "      <td>No ratings yet</td>\n",
       "      <td>True</td>\n",
       "      <td>Great atmosphere. The gunplay can be a bit chu...</td>\n",
       "      <td>76561197970982479</td>\n",
       "      <td>http://steamcommunity.com/profiles/76561197970...</td>\n",
       "    </tr>\n",
       "    <tr>\n",
       "      <th>3</th>\n",
       "      <td></td>\n",
       "      <td>Posted June 24, 2014.</td>\n",
       "      <td></td>\n",
       "      <td>251610</td>\n",
       "      <td>15 of 20 people (75%) found this review helpful</td>\n",
       "      <td>True</td>\n",
       "      <td>I know what you think when you see this title ...</td>\n",
       "      <td>js41637</td>\n",
       "      <td>http://steamcommunity.com/id/js41637</td>\n",
       "    </tr>\n",
       "    <tr>\n",
       "      <th>4</th>\n",
       "      <td></td>\n",
       "      <td>Posted September 8, 2013.</td>\n",
       "      <td></td>\n",
       "      <td>227300</td>\n",
       "      <td>0 of 1 people (0%) found this review helpful</td>\n",
       "      <td>True</td>\n",
       "      <td>For a simple (it's actually not all that simpl...</td>\n",
       "      <td>js41637</td>\n",
       "      <td>http://steamcommunity.com/id/js41637</td>\n",
       "    </tr>\n",
       "  </tbody>\n",
       "</table>\n",
       "</div>"
      ],
      "text/plain": [
       "  funny                     posted last_edited item_id  \\\n",
       "0         Posted November 5, 2011.                1250   \n",
       "1            Posted July 15, 2011.               22200   \n",
       "2           Posted April 21, 2011.               43110   \n",
       "3            Posted June 24, 2014.              251610   \n",
       "4        Posted September 8, 2013.              227300   \n",
       "\n",
       "                                           helpful  recommend  \\\n",
       "0                                   No ratings yet       True   \n",
       "1                                   No ratings yet       True   \n",
       "2                                   No ratings yet       True   \n",
       "3  15 of 20 people (75%) found this review helpful       True   \n",
       "4     0 of 1 people (0%) found this review helpful       True   \n",
       "\n",
       "                                              review            user_id  \\\n",
       "0  Simple yet with great replayability. In my opi...  76561197970982479   \n",
       "1               It's unique and worth a playthrough.  76561197970982479   \n",
       "2  Great atmosphere. The gunplay can be a bit chu...  76561197970982479   \n",
       "3  I know what you think when you see this title ...            js41637   \n",
       "4  For a simple (it's actually not all that simpl...            js41637   \n",
       "\n",
       "                                            user_url  \n",
       "0  http://steamcommunity.com/profiles/76561197970...  \n",
       "1  http://steamcommunity.com/profiles/76561197970...  \n",
       "2  http://steamcommunity.com/profiles/76561197970...  \n",
       "3               http://steamcommunity.com/id/js41637  \n",
       "4               http://steamcommunity.com/id/js41637  "
      ]
     },
     "execution_count": 166,
     "metadata": {},
     "output_type": "execute_result"
    }
   ],
   "source": [
    "# Volvemos a chequear el dataframe df_UserReviews\n",
    "df_UserReviews.head()"
   ]
  },
  {
   "cell_type": "markdown",
   "metadata": {},
   "source": [
    "                                            df_UserItems"
   ]
  },
  {
   "cell_type": "code",
   "execution_count": 167,
   "metadata": {},
   "outputs": [
    {
     "name": "stdout",
     "output_type": "stream",
     "text": [
      "<class 'pandas.core.frame.DataFrame'>\n",
      "RangeIndex: 88310 entries, 0 to 88309\n",
      "Data columns (total 5 columns):\n",
      " #   Column       Non-Null Count  Dtype \n",
      "---  ------       --------------  ----- \n",
      " 0   user_id      88310 non-null  object\n",
      " 1   items_count  88310 non-null  int64 \n",
      " 2   steam_id     88310 non-null  object\n",
      " 3   user_url     88310 non-null  object\n",
      " 4   items        88310 non-null  object\n",
      "dtypes: int64(1), object(4)\n",
      "memory usage: 3.4+ MB\n"
     ]
    }
   ],
   "source": [
    "df_UserItems.info()"
   ]
  },
  {
   "cell_type": "code",
   "execution_count": 168,
   "metadata": {},
   "outputs": [
    {
     "data": {
      "text/html": [
       "<div>\n",
       "<style scoped>\n",
       "    .dataframe tbody tr th:only-of-type {\n",
       "        vertical-align: middle;\n",
       "    }\n",
       "\n",
       "    .dataframe tbody tr th {\n",
       "        vertical-align: top;\n",
       "    }\n",
       "\n",
       "    .dataframe thead th {\n",
       "        text-align: right;\n",
       "    }\n",
       "</style>\n",
       "<table border=\"1\" class=\"dataframe\">\n",
       "  <thead>\n",
       "    <tr style=\"text-align: right;\">\n",
       "      <th></th>\n",
       "      <th>user_id</th>\n",
       "      <th>items_count</th>\n",
       "      <th>steam_id</th>\n",
       "      <th>user_url</th>\n",
       "      <th>items</th>\n",
       "    </tr>\n",
       "  </thead>\n",
       "  <tbody>\n",
       "    <tr>\n",
       "      <th>0</th>\n",
       "      <td>76561197970982479</td>\n",
       "      <td>277</td>\n",
       "      <td>76561197970982479</td>\n",
       "      <td>http://steamcommunity.com/profiles/76561197970...</td>\n",
       "      <td>[{'item_id': '10', 'item_name': 'Counter-Strik...</td>\n",
       "    </tr>\n",
       "    <tr>\n",
       "      <th>1</th>\n",
       "      <td>js41637</td>\n",
       "      <td>888</td>\n",
       "      <td>76561198035864385</td>\n",
       "      <td>http://steamcommunity.com/id/js41637</td>\n",
       "      <td>[{'item_id': '10', 'item_name': 'Counter-Strik...</td>\n",
       "    </tr>\n",
       "    <tr>\n",
       "      <th>2</th>\n",
       "      <td>evcentric</td>\n",
       "      <td>137</td>\n",
       "      <td>76561198007712555</td>\n",
       "      <td>http://steamcommunity.com/id/evcentric</td>\n",
       "      <td>[{'item_id': '1200', 'item_name': 'Red Orchest...</td>\n",
       "    </tr>\n",
       "    <tr>\n",
       "      <th>3</th>\n",
       "      <td>Riot-Punch</td>\n",
       "      <td>328</td>\n",
       "      <td>76561197963445855</td>\n",
       "      <td>http://steamcommunity.com/id/Riot-Punch</td>\n",
       "      <td>[{'item_id': '10', 'item_name': 'Counter-Strik...</td>\n",
       "    </tr>\n",
       "    <tr>\n",
       "      <th>4</th>\n",
       "      <td>doctr</td>\n",
       "      <td>541</td>\n",
       "      <td>76561198002099482</td>\n",
       "      <td>http://steamcommunity.com/id/doctr</td>\n",
       "      <td>[{'item_id': '300', 'item_name': 'Day of Defea...</td>\n",
       "    </tr>\n",
       "  </tbody>\n",
       "</table>\n",
       "</div>"
      ],
      "text/plain": [
       "             user_id  items_count           steam_id  \\\n",
       "0  76561197970982479          277  76561197970982479   \n",
       "1            js41637          888  76561198035864385   \n",
       "2          evcentric          137  76561198007712555   \n",
       "3         Riot-Punch          328  76561197963445855   \n",
       "4              doctr          541  76561198002099482   \n",
       "\n",
       "                                            user_url  \\\n",
       "0  http://steamcommunity.com/profiles/76561197970...   \n",
       "1               http://steamcommunity.com/id/js41637   \n",
       "2             http://steamcommunity.com/id/evcentric   \n",
       "3            http://steamcommunity.com/id/Riot-Punch   \n",
       "4                 http://steamcommunity.com/id/doctr   \n",
       "\n",
       "                                               items  \n",
       "0  [{'item_id': '10', 'item_name': 'Counter-Strik...  \n",
       "1  [{'item_id': '10', 'item_name': 'Counter-Strik...  \n",
       "2  [{'item_id': '1200', 'item_name': 'Red Orchest...  \n",
       "3  [{'item_id': '10', 'item_name': 'Counter-Strik...  \n",
       "4  [{'item_id': '300', 'item_name': 'Day of Defea...  "
      ]
     },
     "execution_count": 168,
     "metadata": {},
     "output_type": "execute_result"
    }
   ],
   "source": [
    "# Chequeamos como quedo el Dataframe df_UserItems\n",
    "df_UserItems.head()"
   ]
  },
  {
   "cell_type": "markdown",
   "metadata": {},
   "source": [
    "Como se ve en este Dataframe tambien estan anidados datos en la columna items. procedemos a desanidar la misma"
   ]
  },
  {
   "cell_type": "code",
   "execution_count": 169,
   "metadata": {},
   "outputs": [],
   "source": [
    "# Desanidamos la columna items\n",
    "\n",
    "desanidado = []\n",
    "for index, row in df_UserItems.iterrows():\n",
    "    user_id = row['user_id']\n",
    "    user_url = row['user_url']\n",
    "    user_items_count = row['items_count']\n",
    "    for df_items_dict in row['items']:\n",
    "        df_items_dict['user_id'] = user_id\n",
    "        df_items_dict['user_url'] = user_url\n",
    "        df_items_dict['items_count'] = user_items_count\n",
    "        desanidado.append(df_items_dict)\n",
    "\n",
    "df_UserItems = pd.DataFrame(desanidado)"
   ]
  },
  {
   "cell_type": "code",
   "execution_count": 170,
   "metadata": {},
   "outputs": [
    {
     "data": {
      "text/html": [
       "<div>\n",
       "<style scoped>\n",
       "    .dataframe tbody tr th:only-of-type {\n",
       "        vertical-align: middle;\n",
       "    }\n",
       "\n",
       "    .dataframe tbody tr th {\n",
       "        vertical-align: top;\n",
       "    }\n",
       "\n",
       "    .dataframe thead th {\n",
       "        text-align: right;\n",
       "    }\n",
       "</style>\n",
       "<table border=\"1\" class=\"dataframe\">\n",
       "  <thead>\n",
       "    <tr style=\"text-align: right;\">\n",
       "      <th></th>\n",
       "      <th>item_id</th>\n",
       "      <th>item_name</th>\n",
       "      <th>playtime_forever</th>\n",
       "      <th>playtime_2weeks</th>\n",
       "      <th>user_id</th>\n",
       "      <th>user_url</th>\n",
       "      <th>items_count</th>\n",
       "    </tr>\n",
       "  </thead>\n",
       "  <tbody>\n",
       "    <tr>\n",
       "      <th>0</th>\n",
       "      <td>10</td>\n",
       "      <td>Counter-Strike</td>\n",
       "      <td>6</td>\n",
       "      <td>0</td>\n",
       "      <td>76561197970982479</td>\n",
       "      <td>http://steamcommunity.com/profiles/76561197970...</td>\n",
       "      <td>277</td>\n",
       "    </tr>\n",
       "    <tr>\n",
       "      <th>1</th>\n",
       "      <td>20</td>\n",
       "      <td>Team Fortress Classic</td>\n",
       "      <td>0</td>\n",
       "      <td>0</td>\n",
       "      <td>76561197970982479</td>\n",
       "      <td>http://steamcommunity.com/profiles/76561197970...</td>\n",
       "      <td>277</td>\n",
       "    </tr>\n",
       "    <tr>\n",
       "      <th>2</th>\n",
       "      <td>30</td>\n",
       "      <td>Day of Defeat</td>\n",
       "      <td>7</td>\n",
       "      <td>0</td>\n",
       "      <td>76561197970982479</td>\n",
       "      <td>http://steamcommunity.com/profiles/76561197970...</td>\n",
       "      <td>277</td>\n",
       "    </tr>\n",
       "    <tr>\n",
       "      <th>3</th>\n",
       "      <td>40</td>\n",
       "      <td>Deathmatch Classic</td>\n",
       "      <td>0</td>\n",
       "      <td>0</td>\n",
       "      <td>76561197970982479</td>\n",
       "      <td>http://steamcommunity.com/profiles/76561197970...</td>\n",
       "      <td>277</td>\n",
       "    </tr>\n",
       "    <tr>\n",
       "      <th>4</th>\n",
       "      <td>50</td>\n",
       "      <td>Half-Life: Opposing Force</td>\n",
       "      <td>0</td>\n",
       "      <td>0</td>\n",
       "      <td>76561197970982479</td>\n",
       "      <td>http://steamcommunity.com/profiles/76561197970...</td>\n",
       "      <td>277</td>\n",
       "    </tr>\n",
       "  </tbody>\n",
       "</table>\n",
       "</div>"
      ],
      "text/plain": [
       "  item_id                  item_name  playtime_forever  playtime_2weeks  \\\n",
       "0      10             Counter-Strike                 6                0   \n",
       "1      20      Team Fortress Classic                 0                0   \n",
       "2      30              Day of Defeat                 7                0   \n",
       "3      40         Deathmatch Classic                 0                0   \n",
       "4      50  Half-Life: Opposing Force                 0                0   \n",
       "\n",
       "             user_id                                           user_url  \\\n",
       "0  76561197970982479  http://steamcommunity.com/profiles/76561197970...   \n",
       "1  76561197970982479  http://steamcommunity.com/profiles/76561197970...   \n",
       "2  76561197970982479  http://steamcommunity.com/profiles/76561197970...   \n",
       "3  76561197970982479  http://steamcommunity.com/profiles/76561197970...   \n",
       "4  76561197970982479  http://steamcommunity.com/profiles/76561197970...   \n",
       "\n",
       "   items_count  \n",
       "0          277  \n",
       "1          277  \n",
       "2          277  \n",
       "3          277  \n",
       "4          277  "
      ]
     },
     "execution_count": 170,
     "metadata": {},
     "output_type": "execute_result"
    }
   ],
   "source": [
    "# Volvemos a chequear el dataframe df_UserItems\n",
    "df_UserItems.head()"
   ]
  },
  {
   "cell_type": "markdown",
   "metadata": {},
   "source": [
    "                                            df_OutputSteamGames"
   ]
  },
  {
   "cell_type": "code",
   "execution_count": 171,
   "metadata": {},
   "outputs": [
    {
     "name": "stdout",
     "output_type": "stream",
     "text": [
      "<class 'pandas.core.frame.DataFrame'>\n",
      "RangeIndex: 120445 entries, 0 to 120444\n",
      "Data columns (total 13 columns):\n",
      " #   Column        Non-Null Count  Dtype  \n",
      "---  ------        --------------  -----  \n",
      " 0   publisher     24083 non-null  object \n",
      " 1   genres        28852 non-null  object \n",
      " 2   app_name      32133 non-null  object \n",
      " 3   title         30085 non-null  object \n",
      " 4   url           32135 non-null  object \n",
      " 5   release_date  30068 non-null  object \n",
      " 6   tags          31972 non-null  object \n",
      " 7   reviews_url   32133 non-null  object \n",
      " 8   specs         31465 non-null  object \n",
      " 9   price         30758 non-null  object \n",
      " 10  early_access  32135 non-null  float64\n",
      " 11  id            32133 non-null  float64\n",
      " 12  developer     28836 non-null  object \n",
      "dtypes: float64(2), object(11)\n",
      "memory usage: 11.9+ MB\n"
     ]
    }
   ],
   "source": [
    "df_OutputSteamGames.info()"
   ]
  },
  {
   "cell_type": "code",
   "execution_count": 172,
   "metadata": {},
   "outputs": [
    {
     "data": {
      "text/html": [
       "<div>\n",
       "<style scoped>\n",
       "    .dataframe tbody tr th:only-of-type {\n",
       "        vertical-align: middle;\n",
       "    }\n",
       "\n",
       "    .dataframe tbody tr th {\n",
       "        vertical-align: top;\n",
       "    }\n",
       "\n",
       "    .dataframe thead th {\n",
       "        text-align: right;\n",
       "    }\n",
       "</style>\n",
       "<table border=\"1\" class=\"dataframe\">\n",
       "  <thead>\n",
       "    <tr style=\"text-align: right;\">\n",
       "      <th></th>\n",
       "      <th>publisher</th>\n",
       "      <th>genres</th>\n",
       "      <th>app_name</th>\n",
       "      <th>title</th>\n",
       "      <th>url</th>\n",
       "      <th>release_date</th>\n",
       "      <th>tags</th>\n",
       "      <th>reviews_url</th>\n",
       "      <th>specs</th>\n",
       "      <th>price</th>\n",
       "      <th>early_access</th>\n",
       "      <th>id</th>\n",
       "      <th>developer</th>\n",
       "    </tr>\n",
       "  </thead>\n",
       "  <tbody>\n",
       "    <tr>\n",
       "      <th>0</th>\n",
       "      <td>None</td>\n",
       "      <td>None</td>\n",
       "      <td>None</td>\n",
       "      <td>None</td>\n",
       "      <td>None</td>\n",
       "      <td>None</td>\n",
       "      <td>None</td>\n",
       "      <td>None</td>\n",
       "      <td>None</td>\n",
       "      <td>None</td>\n",
       "      <td>NaN</td>\n",
       "      <td>NaN</td>\n",
       "      <td>None</td>\n",
       "    </tr>\n",
       "    <tr>\n",
       "      <th>1</th>\n",
       "      <td>None</td>\n",
       "      <td>None</td>\n",
       "      <td>None</td>\n",
       "      <td>None</td>\n",
       "      <td>None</td>\n",
       "      <td>None</td>\n",
       "      <td>None</td>\n",
       "      <td>None</td>\n",
       "      <td>None</td>\n",
       "      <td>None</td>\n",
       "      <td>NaN</td>\n",
       "      <td>NaN</td>\n",
       "      <td>None</td>\n",
       "    </tr>\n",
       "    <tr>\n",
       "      <th>2</th>\n",
       "      <td>None</td>\n",
       "      <td>None</td>\n",
       "      <td>None</td>\n",
       "      <td>None</td>\n",
       "      <td>None</td>\n",
       "      <td>None</td>\n",
       "      <td>None</td>\n",
       "      <td>None</td>\n",
       "      <td>None</td>\n",
       "      <td>None</td>\n",
       "      <td>NaN</td>\n",
       "      <td>NaN</td>\n",
       "      <td>None</td>\n",
       "    </tr>\n",
       "    <tr>\n",
       "      <th>3</th>\n",
       "      <td>None</td>\n",
       "      <td>None</td>\n",
       "      <td>None</td>\n",
       "      <td>None</td>\n",
       "      <td>None</td>\n",
       "      <td>None</td>\n",
       "      <td>None</td>\n",
       "      <td>None</td>\n",
       "      <td>None</td>\n",
       "      <td>None</td>\n",
       "      <td>NaN</td>\n",
       "      <td>NaN</td>\n",
       "      <td>None</td>\n",
       "    </tr>\n",
       "    <tr>\n",
       "      <th>4</th>\n",
       "      <td>None</td>\n",
       "      <td>None</td>\n",
       "      <td>None</td>\n",
       "      <td>None</td>\n",
       "      <td>None</td>\n",
       "      <td>None</td>\n",
       "      <td>None</td>\n",
       "      <td>None</td>\n",
       "      <td>None</td>\n",
       "      <td>None</td>\n",
       "      <td>NaN</td>\n",
       "      <td>NaN</td>\n",
       "      <td>None</td>\n",
       "    </tr>\n",
       "  </tbody>\n",
       "</table>\n",
       "</div>"
      ],
      "text/plain": [
       "  publisher genres app_name title   url release_date  tags reviews_url specs  \\\n",
       "0      None   None     None  None  None         None  None        None  None   \n",
       "1      None   None     None  None  None         None  None        None  None   \n",
       "2      None   None     None  None  None         None  None        None  None   \n",
       "3      None   None     None  None  None         None  None        None  None   \n",
       "4      None   None     None  None  None         None  None        None  None   \n",
       "\n",
       "  price  early_access  id developer  \n",
       "0  None           NaN NaN      None  \n",
       "1  None           NaN NaN      None  \n",
       "2  None           NaN NaN      None  \n",
       "3  None           NaN NaN      None  \n",
       "4  None           NaN NaN      None  "
      ]
     },
     "execution_count": 172,
     "metadata": {},
     "output_type": "execute_result"
    }
   ],
   "source": [
    "# Chequeamos como quedo el Dataframe df_OutputSteamGames\n",
    "df_OutputSteamGames.head()"
   ]
  },
  {
   "cell_type": "code",
   "execution_count": 173,
   "metadata": {},
   "outputs": [
    {
     "data": {
      "text/html": [
       "<div>\n",
       "<style scoped>\n",
       "    .dataframe tbody tr th:only-of-type {\n",
       "        vertical-align: middle;\n",
       "    }\n",
       "\n",
       "    .dataframe tbody tr th {\n",
       "        vertical-align: top;\n",
       "    }\n",
       "\n",
       "    .dataframe thead th {\n",
       "        text-align: right;\n",
       "    }\n",
       "</style>\n",
       "<table border=\"1\" class=\"dataframe\">\n",
       "  <thead>\n",
       "    <tr style=\"text-align: right;\">\n",
       "      <th></th>\n",
       "      <th>publisher</th>\n",
       "      <th>genres</th>\n",
       "      <th>app_name</th>\n",
       "      <th>title</th>\n",
       "      <th>url</th>\n",
       "      <th>release_date</th>\n",
       "      <th>tags</th>\n",
       "      <th>reviews_url</th>\n",
       "      <th>specs</th>\n",
       "      <th>price</th>\n",
       "      <th>early_access</th>\n",
       "      <th>id</th>\n",
       "      <th>developer</th>\n",
       "    </tr>\n",
       "  </thead>\n",
       "  <tbody>\n",
       "    <tr>\n",
       "      <th>120440</th>\n",
       "      <td>Ghost_RUS Games</td>\n",
       "      <td>[Casual, Indie, Simulation, Strategy]</td>\n",
       "      <td>Colony On Mars</td>\n",
       "      <td>Colony On Mars</td>\n",
       "      <td>http://store.steampowered.com/app/773640/Colon...</td>\n",
       "      <td>2018-01-04</td>\n",
       "      <td>[Strategy, Indie, Casual, Simulation]</td>\n",
       "      <td>http://steamcommunity.com/app/773640/reviews/?...</td>\n",
       "      <td>[Single-player, Steam Achievements]</td>\n",
       "      <td>1.99</td>\n",
       "      <td>0.0</td>\n",
       "      <td>773640.0</td>\n",
       "      <td>Nikita \"Ghost_RUS\"</td>\n",
       "    </tr>\n",
       "    <tr>\n",
       "      <th>120441</th>\n",
       "      <td>Sacada</td>\n",
       "      <td>[Casual, Indie, Strategy]</td>\n",
       "      <td>LOGistICAL: South Africa</td>\n",
       "      <td>LOGistICAL: South Africa</td>\n",
       "      <td>http://store.steampowered.com/app/733530/LOGis...</td>\n",
       "      <td>2018-01-04</td>\n",
       "      <td>[Strategy, Indie, Casual]</td>\n",
       "      <td>http://steamcommunity.com/app/733530/reviews/?...</td>\n",
       "      <td>[Single-player, Steam Achievements, Steam Clou...</td>\n",
       "      <td>4.99</td>\n",
       "      <td>0.0</td>\n",
       "      <td>733530.0</td>\n",
       "      <td>Sacada</td>\n",
       "    </tr>\n",
       "    <tr>\n",
       "      <th>120442</th>\n",
       "      <td>Laush Studio</td>\n",
       "      <td>[Indie, Racing, Simulation]</td>\n",
       "      <td>Russian Roads</td>\n",
       "      <td>Russian Roads</td>\n",
       "      <td>http://store.steampowered.com/app/610660/Russi...</td>\n",
       "      <td>2018-01-04</td>\n",
       "      <td>[Indie, Simulation, Racing]</td>\n",
       "      <td>http://steamcommunity.com/app/610660/reviews/?...</td>\n",
       "      <td>[Single-player, Steam Achievements, Steam Trad...</td>\n",
       "      <td>1.99</td>\n",
       "      <td>0.0</td>\n",
       "      <td>610660.0</td>\n",
       "      <td>Laush Dmitriy Sergeevich</td>\n",
       "    </tr>\n",
       "    <tr>\n",
       "      <th>120443</th>\n",
       "      <td>SIXNAILS</td>\n",
       "      <td>[Casual, Indie]</td>\n",
       "      <td>EXIT 2 - Directions</td>\n",
       "      <td>EXIT 2 - Directions</td>\n",
       "      <td>http://store.steampowered.com/app/658870/EXIT_...</td>\n",
       "      <td>2017-09-02</td>\n",
       "      <td>[Indie, Casual, Puzzle, Singleplayer, Atmosphe...</td>\n",
       "      <td>http://steamcommunity.com/app/658870/reviews/?...</td>\n",
       "      <td>[Single-player, Steam Achievements, Steam Cloud]</td>\n",
       "      <td>4.99</td>\n",
       "      <td>0.0</td>\n",
       "      <td>658870.0</td>\n",
       "      <td>xropi,stev3ns</td>\n",
       "    </tr>\n",
       "    <tr>\n",
       "      <th>120444</th>\n",
       "      <td>None</td>\n",
       "      <td>None</td>\n",
       "      <td>Maze Run VR</td>\n",
       "      <td>None</td>\n",
       "      <td>http://store.steampowered.com/app/681550/Maze_...</td>\n",
       "      <td>None</td>\n",
       "      <td>[Early Access, Adventure, Indie, Action, Simul...</td>\n",
       "      <td>http://steamcommunity.com/app/681550/reviews/?...</td>\n",
       "      <td>[Single-player, Stats, Steam Leaderboards, HTC...</td>\n",
       "      <td>4.99</td>\n",
       "      <td>1.0</td>\n",
       "      <td>681550.0</td>\n",
       "      <td>None</td>\n",
       "    </tr>\n",
       "  </tbody>\n",
       "</table>\n",
       "</div>"
      ],
      "text/plain": [
       "              publisher                                 genres  \\\n",
       "120440  Ghost_RUS Games  [Casual, Indie, Simulation, Strategy]   \n",
       "120441           Sacada              [Casual, Indie, Strategy]   \n",
       "120442     Laush Studio            [Indie, Racing, Simulation]   \n",
       "120443         SIXNAILS                        [Casual, Indie]   \n",
       "120444             None                                   None   \n",
       "\n",
       "                        app_name                     title  \\\n",
       "120440            Colony On Mars            Colony On Mars   \n",
       "120441  LOGistICAL: South Africa  LOGistICAL: South Africa   \n",
       "120442             Russian Roads             Russian Roads   \n",
       "120443       EXIT 2 - Directions       EXIT 2 - Directions   \n",
       "120444               Maze Run VR                      None   \n",
       "\n",
       "                                                      url release_date  \\\n",
       "120440  http://store.steampowered.com/app/773640/Colon...   2018-01-04   \n",
       "120441  http://store.steampowered.com/app/733530/LOGis...   2018-01-04   \n",
       "120442  http://store.steampowered.com/app/610660/Russi...   2018-01-04   \n",
       "120443  http://store.steampowered.com/app/658870/EXIT_...   2017-09-02   \n",
       "120444  http://store.steampowered.com/app/681550/Maze_...         None   \n",
       "\n",
       "                                                     tags  \\\n",
       "120440              [Strategy, Indie, Casual, Simulation]   \n",
       "120441                          [Strategy, Indie, Casual]   \n",
       "120442                        [Indie, Simulation, Racing]   \n",
       "120443  [Indie, Casual, Puzzle, Singleplayer, Atmosphe...   \n",
       "120444  [Early Access, Adventure, Indie, Action, Simul...   \n",
       "\n",
       "                                              reviews_url  \\\n",
       "120440  http://steamcommunity.com/app/773640/reviews/?...   \n",
       "120441  http://steamcommunity.com/app/733530/reviews/?...   \n",
       "120442  http://steamcommunity.com/app/610660/reviews/?...   \n",
       "120443  http://steamcommunity.com/app/658870/reviews/?...   \n",
       "120444  http://steamcommunity.com/app/681550/reviews/?...   \n",
       "\n",
       "                                                    specs price  early_access  \\\n",
       "120440                [Single-player, Steam Achievements]  1.99           0.0   \n",
       "120441  [Single-player, Steam Achievements, Steam Clou...  4.99           0.0   \n",
       "120442  [Single-player, Steam Achievements, Steam Trad...  1.99           0.0   \n",
       "120443   [Single-player, Steam Achievements, Steam Cloud]  4.99           0.0   \n",
       "120444  [Single-player, Stats, Steam Leaderboards, HTC...  4.99           1.0   \n",
       "\n",
       "              id                 developer  \n",
       "120440  773640.0        Nikita \"Ghost_RUS\"  \n",
       "120441  733530.0                    Sacada  \n",
       "120442  610660.0  Laush Dmitriy Sergeevich  \n",
       "120443  658870.0             xropi,stev3ns  \n",
       "120444  681550.0                      None  "
      ]
     },
     "execution_count": 173,
     "metadata": {},
     "output_type": "execute_result"
    }
   ],
   "source": [
    "# Chequeamos como quedo el Dataframe df_OutputSteamGames los registros del final del df\n",
    "df_OutputSteamGames.tail()"
   ]
  },
  {
   "cell_type": "markdown",
   "metadata": {},
   "source": [
    "                                    Proceso de Transformacion de datos"
   ]
  },
  {
   "cell_type": "markdown",
   "metadata": {},
   "source": [
    "En este paso empezaremos la transformación de datos.\n",
    "En esta etapa vamos a evaluar el Dataframe y analizar que columnas son relevantes, tambien vamos a chequear datos nulos y rellenar filas con nulos para los campos que lo precisan."
   ]
  },
  {
   "cell_type": "markdown",
   "metadata": {},
   "source": [
    "Empezamos a analizar el Dataframe df_UserItems"
   ]
  },
  {
   "cell_type": "code",
   "execution_count": 174,
   "metadata": {},
   "outputs": [
    {
     "data": {
      "text/html": [
       "<div>\n",
       "<style scoped>\n",
       "    .dataframe tbody tr th:only-of-type {\n",
       "        vertical-align: middle;\n",
       "    }\n",
       "\n",
       "    .dataframe tbody tr th {\n",
       "        vertical-align: top;\n",
       "    }\n",
       "\n",
       "    .dataframe thead th {\n",
       "        text-align: right;\n",
       "    }\n",
       "</style>\n",
       "<table border=\"1\" class=\"dataframe\">\n",
       "  <thead>\n",
       "    <tr style=\"text-align: right;\">\n",
       "      <th></th>\n",
       "      <th>item_id</th>\n",
       "      <th>item_name</th>\n",
       "      <th>playtime_forever</th>\n",
       "      <th>playtime_2weeks</th>\n",
       "      <th>user_id</th>\n",
       "      <th>user_url</th>\n",
       "      <th>items_count</th>\n",
       "    </tr>\n",
       "  </thead>\n",
       "  <tbody>\n",
       "    <tr>\n",
       "      <th>587715</th>\n",
       "      <td>4000</td>\n",
       "      <td>Garry's Mod</td>\n",
       "      <td>642773</td>\n",
       "      <td>7299</td>\n",
       "      <td>wolop</td>\n",
       "      <td>http://steamcommunity.com/id/wolop</td>\n",
       "      <td>107</td>\n",
       "    </tr>\n",
       "    <tr>\n",
       "      <th>2499068</th>\n",
       "      <td>212200</td>\n",
       "      <td>Mabinogi</td>\n",
       "      <td>635295</td>\n",
       "      <td>0</td>\n",
       "      <td>Evilutional</td>\n",
       "      <td>http://steamcommunity.com/id/Evilutional</td>\n",
       "      <td>78</td>\n",
       "    </tr>\n",
       "    <tr>\n",
       "      <th>4075729</th>\n",
       "      <td>42710</td>\n",
       "      <td>Call of Duty: Black Ops - Multiplayer</td>\n",
       "      <td>632452</td>\n",
       "      <td>8126</td>\n",
       "      <td>76561198019826668</td>\n",
       "      <td>http://steamcommunity.com/profiles/76561198019...</td>\n",
       "      <td>12</td>\n",
       "    </tr>\n",
       "    <tr>\n",
       "      <th>1495340</th>\n",
       "      <td>4000</td>\n",
       "      <td>Garry's Mod</td>\n",
       "      <td>613411</td>\n",
       "      <td>588</td>\n",
       "      <td>76561198039832932</td>\n",
       "      <td>http://steamcommunity.com/profiles/76561198039...</td>\n",
       "      <td>90</td>\n",
       "    </tr>\n",
       "    <tr>\n",
       "      <th>1836985</th>\n",
       "      <td>72200</td>\n",
       "      <td>Universe Sandbox</td>\n",
       "      <td>600068</td>\n",
       "      <td>0</td>\n",
       "      <td>tsunamitad</td>\n",
       "      <td>http://steamcommunity.com/id/tsunamitad</td>\n",
       "      <td>793</td>\n",
       "    </tr>\n",
       "  </tbody>\n",
       "</table>\n",
       "</div>"
      ],
      "text/plain": [
       "        item_id                              item_name  playtime_forever  \\\n",
       "587715     4000                            Garry's Mod            642773   \n",
       "2499068  212200                               Mabinogi            635295   \n",
       "4075729   42710  Call of Duty: Black Ops - Multiplayer            632452   \n",
       "1495340    4000                            Garry's Mod            613411   \n",
       "1836985   72200                       Universe Sandbox            600068   \n",
       "\n",
       "         playtime_2weeks            user_id  \\\n",
       "587715              7299              wolop   \n",
       "2499068                0        Evilutional   \n",
       "4075729             8126  76561198019826668   \n",
       "1495340              588  76561198039832932   \n",
       "1836985                0         tsunamitad   \n",
       "\n",
       "                                                  user_url  items_count  \n",
       "587715                  http://steamcommunity.com/id/wolop          107  \n",
       "2499068           http://steamcommunity.com/id/Evilutional           78  \n",
       "4075729  http://steamcommunity.com/profiles/76561198019...           12  \n",
       "1495340  http://steamcommunity.com/profiles/76561198039...           90  \n",
       "1836985            http://steamcommunity.com/id/tsunamitad          793  "
      ]
     },
     "execution_count": 174,
     "metadata": {},
     "output_type": "execute_result"
    }
   ],
   "source": [
    "# Vizualizamos el dataframe para evaluar que columnas son utiles\n",
    "df_UserItems.sort_values(by='playtime_forever', ascending=False).head()"
   ]
  },
  {
   "cell_type": "markdown",
   "metadata": {},
   "source": [
    "Eliminar Columnas No Necesarias"
   ]
  },
  {
   "cell_type": "code",
   "execution_count": 175,
   "metadata": {},
   "outputs": [],
   "source": [
    "# Eliminamos las columnas que no son utiles para el desarrollo del proyecto\n",
    "df_UserItems = df_UserItems.drop(['user_url', 'playtime_2weeks'], axis=1)"
   ]
  },
  {
   "cell_type": "code",
   "execution_count": 176,
   "metadata": {},
   "outputs": [
    {
     "data": {
      "text/html": [
       "<div>\n",
       "<style scoped>\n",
       "    .dataframe tbody tr th:only-of-type {\n",
       "        vertical-align: middle;\n",
       "    }\n",
       "\n",
       "    .dataframe tbody tr th {\n",
       "        vertical-align: top;\n",
       "    }\n",
       "\n",
       "    .dataframe thead th {\n",
       "        text-align: right;\n",
       "    }\n",
       "</style>\n",
       "<table border=\"1\" class=\"dataframe\">\n",
       "  <thead>\n",
       "    <tr style=\"text-align: right;\">\n",
       "      <th></th>\n",
       "      <th>item_id</th>\n",
       "      <th>item_name</th>\n",
       "      <th>playtime_forever</th>\n",
       "      <th>user_id</th>\n",
       "      <th>items_count</th>\n",
       "    </tr>\n",
       "  </thead>\n",
       "  <tbody>\n",
       "    <tr>\n",
       "      <th>0</th>\n",
       "      <td>10</td>\n",
       "      <td>Counter-Strike</td>\n",
       "      <td>6</td>\n",
       "      <td>76561197970982479</td>\n",
       "      <td>277</td>\n",
       "    </tr>\n",
       "    <tr>\n",
       "      <th>1</th>\n",
       "      <td>20</td>\n",
       "      <td>Team Fortress Classic</td>\n",
       "      <td>0</td>\n",
       "      <td>76561197970982479</td>\n",
       "      <td>277</td>\n",
       "    </tr>\n",
       "    <tr>\n",
       "      <th>2</th>\n",
       "      <td>30</td>\n",
       "      <td>Day of Defeat</td>\n",
       "      <td>7</td>\n",
       "      <td>76561197970982479</td>\n",
       "      <td>277</td>\n",
       "    </tr>\n",
       "    <tr>\n",
       "      <th>3</th>\n",
       "      <td>40</td>\n",
       "      <td>Deathmatch Classic</td>\n",
       "      <td>0</td>\n",
       "      <td>76561197970982479</td>\n",
       "      <td>277</td>\n",
       "    </tr>\n",
       "    <tr>\n",
       "      <th>4</th>\n",
       "      <td>50</td>\n",
       "      <td>Half-Life: Opposing Force</td>\n",
       "      <td>0</td>\n",
       "      <td>76561197970982479</td>\n",
       "      <td>277</td>\n",
       "    </tr>\n",
       "  </tbody>\n",
       "</table>\n",
       "</div>"
      ],
      "text/plain": [
       "  item_id                  item_name  playtime_forever            user_id  \\\n",
       "0      10             Counter-Strike                 6  76561197970982479   \n",
       "1      20      Team Fortress Classic                 0  76561197970982479   \n",
       "2      30              Day of Defeat                 7  76561197970982479   \n",
       "3      40         Deathmatch Classic                 0  76561197970982479   \n",
       "4      50  Half-Life: Opposing Force                 0  76561197970982479   \n",
       "\n",
       "   items_count  \n",
       "0          277  \n",
       "1          277  \n",
       "2          277  \n",
       "3          277  \n",
       "4          277  "
      ]
     },
     "execution_count": 176,
     "metadata": {},
     "output_type": "execute_result"
    }
   ],
   "source": [
    "# Chequeamos como quedo df_UserItems\n",
    "df_UserItems.head()"
   ]
  },
  {
   "cell_type": "markdown",
   "metadata": {},
   "source": [
    "Verificamos los valores nulos del Dataframe"
   ]
  },
  {
   "cell_type": "code",
   "execution_count": 177,
   "metadata": {},
   "outputs": [
    {
     "name": "stdout",
     "output_type": "stream",
     "text": [
      "item_id             0\n",
      "item_name           0\n",
      "playtime_forever    0\n",
      "user_id             0\n",
      "items_count         0\n",
      "dtype: int64\n"
     ]
    }
   ],
   "source": [
    "# Verificamos valores nulos en cada columna\n",
    "valores_nulos_por_columna = df_UserItems.isnull().sum()\n",
    "\n",
    "# imprimimos los resultados\n",
    "print(valores_nulos_por_columna)"
   ]
  },
  {
   "cell_type": "markdown",
   "metadata": {},
   "source": [
    "Verificamos los valores duplicados"
   ]
  },
  {
   "cell_type": "code",
   "execution_count": 178,
   "metadata": {},
   "outputs": [
    {
     "name": "stdout",
     "output_type": "stream",
     "text": [
      "        item_id                             item_name  playtime_forever  \\\n",
      "164294       20                 Team Fortress Classic                 5   \n",
      "164295       50             Half-Life: Opposing Force                 0   \n",
      "164296       70                             Half-Life                 0   \n",
      "164297      130                 Half-Life: Blue Shift                 0   \n",
      "164298      220                           Half-Life 2               198   \n",
      "...         ...                                   ...               ...   \n",
      "4898223  213670  South Park‚Ñ¢: The Stick of Truth‚Ñ¢               725   \n",
      "4898224  221910                   The Stanley Parable                53   \n",
      "4898225  261030          The Walking Dead: Season Two               253   \n",
      "4898226  273110         Counter-Strike Nexon: Zombies                 0   \n",
      "4898227     730      Counter-Strike: Global Offensive                 0   \n",
      "\n",
      "                   user_id  items_count  \n",
      "164294              Nikiad          109  \n",
      "164295              Nikiad          109  \n",
      "164296              Nikiad          109  \n",
      "164297              Nikiad          109  \n",
      "164298              Nikiad          109  \n",
      "...                    ...          ...  \n",
      "4898223  76561198080057659           39  \n",
      "4898224  76561198080057659           39  \n",
      "4898225  76561198080057659           39  \n",
      "4898226  76561198080057659           39  \n",
      "4898227  76561198080057659           39  \n",
      "\n",
      "[59117 rows x 5 columns]\n"
     ]
    }
   ],
   "source": [
    "# Verificamos filas duplicadas en el dataframe\n",
    "duplicados = df_UserItems.duplicated()\n",
    "\n",
    "# Mostramos los duplicados\n",
    "print(df_UserItems[duplicados])"
   ]
  },
  {
   "cell_type": "code",
   "execution_count": 179,
   "metadata": {},
   "outputs": [
    {
     "name": "stdout",
     "output_type": "stream",
     "text": [
      "Número de filas: 5153209, Número de columnas: 5\n"
     ]
    }
   ],
   "source": [
    "# Con este codigo obtenemos el número de filas y columnas usando shape\n",
    "num_filas, num_columnas = df_UserItems.shape\n",
    "print(f'Número de filas: {num_filas}, Número de columnas: {num_columnas}')"
   ]
  },
  {
   "cell_type": "code",
   "execution_count": 180,
   "metadata": {},
   "outputs": [],
   "source": [
    "# Procedemos a borrar los duplicados\n",
    "df_UserItems.drop_duplicates(inplace=True)"
   ]
  },
  {
   "cell_type": "code",
   "execution_count": 181,
   "metadata": {},
   "outputs": [
    {
     "name": "stdout",
     "output_type": "stream",
     "text": [
      "Número de filas: 5094092, Número de columnas: 5\n"
     ]
    }
   ],
   "source": [
    "# Obtenemos el número de filas y columnas usando shape que nos quedo despues de dropear duplicados\n",
    "num_filas, num_columnas = df_UserItems.shape\n",
    "print(f'Número de filas: {num_filas}, Número de columnas: {num_columnas}')"
   ]
  },
  {
   "cell_type": "markdown",
   "metadata": {},
   "source": [
    "Reorganizar y renombrar columnas"
   ]
  },
  {
   "cell_type": "code",
   "execution_count": 182,
   "metadata": {},
   "outputs": [],
   "source": [
    "# vamos a renombrar las columnas en una manera standard y siguiendo buenas practicas \n",
    "df_UserItems = df_UserItems.rename(columns={'item_id': 'ItemId'})\n",
    "df_UserItems = df_UserItems.rename(columns={'item_name': 'ItemName'})\n",
    "df_UserItems = df_UserItems.rename(columns={'playtime_forever': 'PlaytimeForever'})\n",
    "df_UserItems = df_UserItems.rename(columns={'user_id': 'UserId'})\n",
    "df_UserItems = df_UserItems.rename(columns={'items_count': 'ItemsCount'})"
   ]
  },
  {
   "cell_type": "code",
   "execution_count": 183,
   "metadata": {},
   "outputs": [
    {
     "name": "stdout",
     "output_type": "stream",
     "text": [
      "<class 'pandas.core.frame.DataFrame'>\n",
      "Int64Index: 5094092 entries, 0 to 5153208\n",
      "Data columns (total 5 columns):\n",
      " #   Column           Dtype \n",
      "---  ------           ----- \n",
      " 0   ItemId           object\n",
      " 1   ItemName         object\n",
      " 2   PlaytimeForever  int64 \n",
      " 3   UserId           object\n",
      " 4   ItemsCount       int64 \n",
      "dtypes: int64(2), object(3)\n",
      "memory usage: 233.2+ MB\n"
     ]
    }
   ],
   "source": [
    "# chequeamos los cambios en el nombre de la columna y chequeamos los tipos de datos de las columnas\n",
    "df_UserItems.info()"
   ]
  },
  {
   "cell_type": "markdown",
   "metadata": {},
   "source": [
    "Convertir tipos de datos"
   ]
  },
  {
   "cell_type": "code",
   "execution_count": 184,
   "metadata": {},
   "outputs": [
    {
     "data": {
      "text/plain": [
       "ItemId             object\n",
       "ItemName           object\n",
       "PlaytimeForever     int64\n",
       "UserId             object\n",
       "ItemsCount          int64\n",
       "dtype: object"
      ]
     },
     "execution_count": 184,
     "metadata": {},
     "output_type": "execute_result"
    }
   ],
   "source": [
    "# chequeamos los tipos de datos del dataframe\n",
    "df_UserItems.dtypes"
   ]
  },
  {
   "cell_type": "markdown",
   "metadata": {},
   "source": [
    "Corremos el siguiente codigo para chequear si los valores de la columna ItemId son enteros ya que son los ids de los titulos y considero importante chequear"
   ]
  },
  {
   "cell_type": "code",
   "execution_count": 185,
   "metadata": {},
   "outputs": [
    {
     "name": "stdout",
     "output_type": "stream",
     "text": [
      "Empty DataFrame\n",
      "Columns: [ItemId, ItemName, PlaytimeForever, UserId, ItemsCount]\n",
      "Index: []\n"
     ]
    }
   ],
   "source": [
    "# 'ItemId' es la columna que deseas verificar\n",
    "df_UserItems['ItemId'] = pd.to_numeric(df_UserItems['ItemId'], errors='coerce')\n",
    "\n",
    "# Filtramos las filas que no son enteros\n",
    "es_entero = df_UserItems['ItemId'].notnull() & (df_UserItems['ItemId'] % 1 == 0)\n",
    "resultados = df_UserItems[~es_entero]\n",
    "\n",
    "# Mostrar los resultados\n",
    "print(resultados)"
   ]
  },
  {
   "cell_type": "markdown",
   "metadata": {},
   "source": [
    "un DataFrame vacío, indica que no se encontraron filas que cumplieran con la condición especificada en tu filtro. En otras palabras, todos los valores en la columna 'ItemId' parecen ser numéricos (o NaN después de la conversión) y cumplen con la condición de ser enteros."
   ]
  },
  {
   "cell_type": "code",
   "execution_count": 186,
   "metadata": {},
   "outputs": [],
   "source": [
    "# cambiamos el tipo de dato de la columna ItemId a int\n",
    "df_UserItems['ItemId'] = df_UserItems['ItemId'].astype(int)"
   ]
  },
  {
   "cell_type": "code",
   "execution_count": 187,
   "metadata": {},
   "outputs": [],
   "source": [
    "# cambiamos el tipo de dato de la columna ItemsCount a int\n",
    "df_UserItems['ItemsCount'] = df_UserItems['ItemsCount'].astype(int)"
   ]
  },
  {
   "cell_type": "code",
   "execution_count": 188,
   "metadata": {},
   "outputs": [],
   "source": [
    "# cambiamos el tipo de dato de la columna PlaytimeForever a int\n",
    "df_UserItems['PlaytimeForever'] = df_UserItems['PlaytimeForever'].astype(int)"
   ]
  },
  {
   "cell_type": "code",
   "execution_count": 189,
   "metadata": {},
   "outputs": [],
   "source": [
    "# cambiamos el tipo de dato de la columna UserId a str\n",
    "df_UserItems['UserId'] = df_UserItems['UserId'].astype(str)"
   ]
  },
  {
   "cell_type": "code",
   "execution_count": 190,
   "metadata": {},
   "outputs": [],
   "source": [
    "# cambiamos el tipo de dato de la columna ItemName a str\n",
    "df_UserItems['ItemName'] = df_UserItems['ItemName'].astype(str)"
   ]
  },
  {
   "cell_type": "markdown",
   "metadata": {},
   "source": [
    "**Observacion:**\n",
    "\n",
    "En Python, el tipo de datos de texto se conoce como secuencia de caracteres (string). En Pandas se los conoce como objetos (object). Las secuencias de caracteres pueden contener números y / o caracteres."
   ]
  },
  {
   "cell_type": "markdown",
   "metadata": {},
   "source": [
    "chequeamos como nos quedaron los cambios de tipo de datos"
   ]
  },
  {
   "cell_type": "code",
   "execution_count": 191,
   "metadata": {},
   "outputs": [
    {
     "name": "stdout",
     "output_type": "stream",
     "text": [
      "ItemId              int32\n",
      "ItemName           object\n",
      "PlaytimeForever     int32\n",
      "UserId             object\n",
      "ItemsCount          int32\n",
      "dtype: object\n"
     ]
    }
   ],
   "source": [
    "# chequeamos los tipos de datos del dataframe\n",
    "tipos_de_datos = df_UserItems.dtypes\n",
    "print(tipos_de_datos)"
   ]
  },
  {
   "cell_type": "code",
   "execution_count": 192,
   "metadata": {},
   "outputs": [
    {
     "data": {
      "text/html": [
       "<div>\n",
       "<style scoped>\n",
       "    .dataframe tbody tr th:only-of-type {\n",
       "        vertical-align: middle;\n",
       "    }\n",
       "\n",
       "    .dataframe tbody tr th {\n",
       "        vertical-align: top;\n",
       "    }\n",
       "\n",
       "    .dataframe thead th {\n",
       "        text-align: right;\n",
       "    }\n",
       "</style>\n",
       "<table border=\"1\" class=\"dataframe\">\n",
       "  <thead>\n",
       "    <tr style=\"text-align: right;\">\n",
       "      <th></th>\n",
       "      <th>ItemId</th>\n",
       "      <th>ItemName</th>\n",
       "      <th>PlaytimeForever</th>\n",
       "      <th>UserId</th>\n",
       "      <th>ItemsCount</th>\n",
       "    </tr>\n",
       "  </thead>\n",
       "  <tbody>\n",
       "    <tr>\n",
       "      <th>0</th>\n",
       "      <td>10</td>\n",
       "      <td>Counter-Strike</td>\n",
       "      <td>6</td>\n",
       "      <td>76561197970982479</td>\n",
       "      <td>277</td>\n",
       "    </tr>\n",
       "    <tr>\n",
       "      <th>1</th>\n",
       "      <td>20</td>\n",
       "      <td>Team Fortress Classic</td>\n",
       "      <td>0</td>\n",
       "      <td>76561197970982479</td>\n",
       "      <td>277</td>\n",
       "    </tr>\n",
       "    <tr>\n",
       "      <th>2</th>\n",
       "      <td>30</td>\n",
       "      <td>Day of Defeat</td>\n",
       "      <td>7</td>\n",
       "      <td>76561197970982479</td>\n",
       "      <td>277</td>\n",
       "    </tr>\n",
       "    <tr>\n",
       "      <th>3</th>\n",
       "      <td>40</td>\n",
       "      <td>Deathmatch Classic</td>\n",
       "      <td>0</td>\n",
       "      <td>76561197970982479</td>\n",
       "      <td>277</td>\n",
       "    </tr>\n",
       "    <tr>\n",
       "      <th>4</th>\n",
       "      <td>50</td>\n",
       "      <td>Half-Life: Opposing Force</td>\n",
       "      <td>0</td>\n",
       "      <td>76561197970982479</td>\n",
       "      <td>277</td>\n",
       "    </tr>\n",
       "  </tbody>\n",
       "</table>\n",
       "</div>"
      ],
      "text/plain": [
       "   ItemId                   ItemName  PlaytimeForever             UserId  \\\n",
       "0      10             Counter-Strike                6  76561197970982479   \n",
       "1      20      Team Fortress Classic                0  76561197970982479   \n",
       "2      30              Day of Defeat                7  76561197970982479   \n",
       "3      40         Deathmatch Classic                0  76561197970982479   \n",
       "4      50  Half-Life: Opposing Force                0  76561197970982479   \n",
       "\n",
       "   ItemsCount  \n",
       "0         277  \n",
       "1         277  \n",
       "2         277  \n",
       "3         277  \n",
       "4         277  "
      ]
     },
     "execution_count": 192,
     "metadata": {},
     "output_type": "execute_result"
    }
   ],
   "source": [
    "# chequeamos como nos quedo el dataframe df_UserItems con los procesos de transformacion realizados\n",
    "df_UserItems.head()"
   ]
  },
  {
   "cell_type": "markdown",
   "metadata": {},
   "source": [
    "**Aclaracion:**\n",
    "\n",
    "la columna PlaytimeForever representa la cantidad de MINUTOS que el usuario juego ese juego desde que lo compro y descargo.\n",
    "esta representado en minutos, pero divinedo la columna sobre 60 , obtenemos la cantidad de horas jugadas totales de ese usuario en ese juego"
   ]
  },
  {
   "cell_type": "markdown",
   "metadata": {},
   "source": [
    "Ahora guardamos el Dataframe en un .csv ya con los procesos de transformacion realizados"
   ]
  },
  {
   "cell_type": "code",
   "execution_count": 193,
   "metadata": {},
   "outputs": [],
   "source": [
    "# Definimos la ruta relativa\n",
    "ruta_relativa = os.path.join('Datasets-Limpios', 'user_items.parquet')\n",
    "\n",
    "# Guardamos el DataFrame en un archivo CSV con la ruta relativa\n",
    "df_UserItems.to_parquet(ruta_relativa, index=False)"
   ]
  },
  {
   "cell_type": "markdown",
   "metadata": {},
   "source": [
    "-----------------------------------------------------------------------------------------------------------------------"
   ]
  },
  {
   "cell_type": "markdown",
   "metadata": {},
   "source": [
    "Analizamos el Dataframe df_OutputSteamGames"
   ]
  },
  {
   "cell_type": "code",
   "execution_count": 194,
   "metadata": {},
   "outputs": [
    {
     "data": {
      "text/html": [
       "<div>\n",
       "<style scoped>\n",
       "    .dataframe tbody tr th:only-of-type {\n",
       "        vertical-align: middle;\n",
       "    }\n",
       "\n",
       "    .dataframe tbody tr th {\n",
       "        vertical-align: top;\n",
       "    }\n",
       "\n",
       "    .dataframe thead th {\n",
       "        text-align: right;\n",
       "    }\n",
       "</style>\n",
       "<table border=\"1\" class=\"dataframe\">\n",
       "  <thead>\n",
       "    <tr style=\"text-align: right;\">\n",
       "      <th></th>\n",
       "      <th>publisher</th>\n",
       "      <th>genres</th>\n",
       "      <th>app_name</th>\n",
       "      <th>title</th>\n",
       "      <th>url</th>\n",
       "      <th>release_date</th>\n",
       "      <th>tags</th>\n",
       "      <th>reviews_url</th>\n",
       "      <th>specs</th>\n",
       "      <th>price</th>\n",
       "      <th>early_access</th>\n",
       "      <th>id</th>\n",
       "      <th>developer</th>\n",
       "    </tr>\n",
       "  </thead>\n",
       "  <tbody>\n",
       "    <tr>\n",
       "      <th>0</th>\n",
       "      <td>None</td>\n",
       "      <td>None</td>\n",
       "      <td>None</td>\n",
       "      <td>None</td>\n",
       "      <td>None</td>\n",
       "      <td>None</td>\n",
       "      <td>None</td>\n",
       "      <td>None</td>\n",
       "      <td>None</td>\n",
       "      <td>None</td>\n",
       "      <td>NaN</td>\n",
       "      <td>NaN</td>\n",
       "      <td>None</td>\n",
       "    </tr>\n",
       "    <tr>\n",
       "      <th>1</th>\n",
       "      <td>None</td>\n",
       "      <td>None</td>\n",
       "      <td>None</td>\n",
       "      <td>None</td>\n",
       "      <td>None</td>\n",
       "      <td>None</td>\n",
       "      <td>None</td>\n",
       "      <td>None</td>\n",
       "      <td>None</td>\n",
       "      <td>None</td>\n",
       "      <td>NaN</td>\n",
       "      <td>NaN</td>\n",
       "      <td>None</td>\n",
       "    </tr>\n",
       "    <tr>\n",
       "      <th>2</th>\n",
       "      <td>None</td>\n",
       "      <td>None</td>\n",
       "      <td>None</td>\n",
       "      <td>None</td>\n",
       "      <td>None</td>\n",
       "      <td>None</td>\n",
       "      <td>None</td>\n",
       "      <td>None</td>\n",
       "      <td>None</td>\n",
       "      <td>None</td>\n",
       "      <td>NaN</td>\n",
       "      <td>NaN</td>\n",
       "      <td>None</td>\n",
       "    </tr>\n",
       "    <tr>\n",
       "      <th>3</th>\n",
       "      <td>None</td>\n",
       "      <td>None</td>\n",
       "      <td>None</td>\n",
       "      <td>None</td>\n",
       "      <td>None</td>\n",
       "      <td>None</td>\n",
       "      <td>None</td>\n",
       "      <td>None</td>\n",
       "      <td>None</td>\n",
       "      <td>None</td>\n",
       "      <td>NaN</td>\n",
       "      <td>NaN</td>\n",
       "      <td>None</td>\n",
       "    </tr>\n",
       "    <tr>\n",
       "      <th>4</th>\n",
       "      <td>None</td>\n",
       "      <td>None</td>\n",
       "      <td>None</td>\n",
       "      <td>None</td>\n",
       "      <td>None</td>\n",
       "      <td>None</td>\n",
       "      <td>None</td>\n",
       "      <td>None</td>\n",
       "      <td>None</td>\n",
       "      <td>None</td>\n",
       "      <td>NaN</td>\n",
       "      <td>NaN</td>\n",
       "      <td>None</td>\n",
       "    </tr>\n",
       "  </tbody>\n",
       "</table>\n",
       "</div>"
      ],
      "text/plain": [
       "  publisher genres app_name title   url release_date  tags reviews_url specs  \\\n",
       "0      None   None     None  None  None         None  None        None  None   \n",
       "1      None   None     None  None  None         None  None        None  None   \n",
       "2      None   None     None  None  None         None  None        None  None   \n",
       "3      None   None     None  None  None         None  None        None  None   \n",
       "4      None   None     None  None  None         None  None        None  None   \n",
       "\n",
       "  price  early_access  id developer  \n",
       "0  None           NaN NaN      None  \n",
       "1  None           NaN NaN      None  \n",
       "2  None           NaN NaN      None  \n",
       "3  None           NaN NaN      None  \n",
       "4  None           NaN NaN      None  "
      ]
     },
     "execution_count": 194,
     "metadata": {},
     "output_type": "execute_result"
    }
   ],
   "source": [
    "# chequeamos el dataset df_outputSteamgames\n",
    "df_OutputSteamGames.head()"
   ]
  },
  {
   "cell_type": "markdown",
   "metadata": {},
   "source": [
    "Verificamos que varias filas no contienen datos y hay que eliminarlas"
   ]
  },
  {
   "cell_type": "code",
   "execution_count": 195,
   "metadata": {},
   "outputs": [],
   "source": [
    "# Borramos las filas donde todos los valores son None o nan\n",
    "df_OutputSteamGames.dropna(how='all', inplace=True)"
   ]
  },
  {
   "cell_type": "code",
   "execution_count": 196,
   "metadata": {},
   "outputs": [
    {
     "data": {
      "text/html": [
       "<div>\n",
       "<style scoped>\n",
       "    .dataframe tbody tr th:only-of-type {\n",
       "        vertical-align: middle;\n",
       "    }\n",
       "\n",
       "    .dataframe tbody tr th {\n",
       "        vertical-align: top;\n",
       "    }\n",
       "\n",
       "    .dataframe thead th {\n",
       "        text-align: right;\n",
       "    }\n",
       "</style>\n",
       "<table border=\"1\" class=\"dataframe\">\n",
       "  <thead>\n",
       "    <tr style=\"text-align: right;\">\n",
       "      <th></th>\n",
       "      <th>publisher</th>\n",
       "      <th>genres</th>\n",
       "      <th>app_name</th>\n",
       "      <th>title</th>\n",
       "      <th>url</th>\n",
       "      <th>release_date</th>\n",
       "      <th>tags</th>\n",
       "      <th>reviews_url</th>\n",
       "      <th>specs</th>\n",
       "      <th>price</th>\n",
       "      <th>early_access</th>\n",
       "      <th>id</th>\n",
       "      <th>developer</th>\n",
       "    </tr>\n",
       "  </thead>\n",
       "  <tbody>\n",
       "    <tr>\n",
       "      <th>88310</th>\n",
       "      <td>Kotoshiro</td>\n",
       "      <td>[Action, Casual, Indie, Simulation, Strategy]</td>\n",
       "      <td>Lost Summoner Kitty</td>\n",
       "      <td>Lost Summoner Kitty</td>\n",
       "      <td>http://store.steampowered.com/app/761140/Lost_...</td>\n",
       "      <td>2018-01-04</td>\n",
       "      <td>[Strategy, Action, Indie, Casual, Simulation]</td>\n",
       "      <td>http://steamcommunity.com/app/761140/reviews/?...</td>\n",
       "      <td>[Single-player]</td>\n",
       "      <td>4.99</td>\n",
       "      <td>0.0</td>\n",
       "      <td>761140.0</td>\n",
       "      <td>Kotoshiro</td>\n",
       "    </tr>\n",
       "    <tr>\n",
       "      <th>88311</th>\n",
       "      <td>Making Fun, Inc.</td>\n",
       "      <td>[Free to Play, Indie, RPG, Strategy]</td>\n",
       "      <td>Ironbound</td>\n",
       "      <td>Ironbound</td>\n",
       "      <td>http://store.steampowered.com/app/643980/Ironb...</td>\n",
       "      <td>2018-01-04</td>\n",
       "      <td>[Free to Play, Strategy, Indie, RPG, Card Game...</td>\n",
       "      <td>http://steamcommunity.com/app/643980/reviews/?...</td>\n",
       "      <td>[Single-player, Multi-player, Online Multi-Pla...</td>\n",
       "      <td>Free To Play</td>\n",
       "      <td>0.0</td>\n",
       "      <td>643980.0</td>\n",
       "      <td>Secret Level SRL</td>\n",
       "    </tr>\n",
       "    <tr>\n",
       "      <th>88312</th>\n",
       "      <td>Poolians.com</td>\n",
       "      <td>[Casual, Free to Play, Indie, Simulation, Sports]</td>\n",
       "      <td>Real Pool 3D - Poolians</td>\n",
       "      <td>Real Pool 3D - Poolians</td>\n",
       "      <td>http://store.steampowered.com/app/670290/Real_...</td>\n",
       "      <td>2017-07-24</td>\n",
       "      <td>[Free to Play, Simulation, Sports, Casual, Ind...</td>\n",
       "      <td>http://steamcommunity.com/app/670290/reviews/?...</td>\n",
       "      <td>[Single-player, Multi-player, Online Multi-Pla...</td>\n",
       "      <td>Free to Play</td>\n",
       "      <td>0.0</td>\n",
       "      <td>670290.0</td>\n",
       "      <td>Poolians.com</td>\n",
       "    </tr>\n",
       "    <tr>\n",
       "      <th>88313</th>\n",
       "      <td>彼岸领域</td>\n",
       "      <td>[Action, Adventure, Casual]</td>\n",
       "      <td>弹炸人2222</td>\n",
       "      <td>弹炸人2222</td>\n",
       "      <td>http://store.steampowered.com/app/767400/2222/</td>\n",
       "      <td>2017-12-07</td>\n",
       "      <td>[Action, Adventure, Casual]</td>\n",
       "      <td>http://steamcommunity.com/app/767400/reviews/?...</td>\n",
       "      <td>[Single-player]</td>\n",
       "      <td>0.99</td>\n",
       "      <td>0.0</td>\n",
       "      <td>767400.0</td>\n",
       "      <td>彼岸领域</td>\n",
       "    </tr>\n",
       "    <tr>\n",
       "      <th>88314</th>\n",
       "      <td>None</td>\n",
       "      <td>None</td>\n",
       "      <td>Log Challenge</td>\n",
       "      <td>None</td>\n",
       "      <td>http://store.steampowered.com/app/773570/Log_C...</td>\n",
       "      <td>None</td>\n",
       "      <td>[Action, Indie, Casual, Sports]</td>\n",
       "      <td>http://steamcommunity.com/app/773570/reviews/?...</td>\n",
       "      <td>[Single-player, Full controller support, HTC V...</td>\n",
       "      <td>2.99</td>\n",
       "      <td>0.0</td>\n",
       "      <td>773570.0</td>\n",
       "      <td>None</td>\n",
       "    </tr>\n",
       "  </tbody>\n",
       "</table>\n",
       "</div>"
      ],
      "text/plain": [
       "              publisher                                             genres  \\\n",
       "88310         Kotoshiro      [Action, Casual, Indie, Simulation, Strategy]   \n",
       "88311  Making Fun, Inc.               [Free to Play, Indie, RPG, Strategy]   \n",
       "88312      Poolians.com  [Casual, Free to Play, Indie, Simulation, Sports]   \n",
       "88313              彼岸领域                        [Action, Adventure, Casual]   \n",
       "88314              None                                               None   \n",
       "\n",
       "                      app_name                    title  \\\n",
       "88310      Lost Summoner Kitty      Lost Summoner Kitty   \n",
       "88311                Ironbound                Ironbound   \n",
       "88312  Real Pool 3D - Poolians  Real Pool 3D - Poolians   \n",
       "88313                  弹炸人2222                  弹炸人2222   \n",
       "88314            Log Challenge                     None   \n",
       "\n",
       "                                                     url release_date  \\\n",
       "88310  http://store.steampowered.com/app/761140/Lost_...   2018-01-04   \n",
       "88311  http://store.steampowered.com/app/643980/Ironb...   2018-01-04   \n",
       "88312  http://store.steampowered.com/app/670290/Real_...   2017-07-24   \n",
       "88313     http://store.steampowered.com/app/767400/2222/   2017-12-07   \n",
       "88314  http://store.steampowered.com/app/773570/Log_C...         None   \n",
       "\n",
       "                                                    tags  \\\n",
       "88310      [Strategy, Action, Indie, Casual, Simulation]   \n",
       "88311  [Free to Play, Strategy, Indie, RPG, Card Game...   \n",
       "88312  [Free to Play, Simulation, Sports, Casual, Ind...   \n",
       "88313                        [Action, Adventure, Casual]   \n",
       "88314                    [Action, Indie, Casual, Sports]   \n",
       "\n",
       "                                             reviews_url  \\\n",
       "88310  http://steamcommunity.com/app/761140/reviews/?...   \n",
       "88311  http://steamcommunity.com/app/643980/reviews/?...   \n",
       "88312  http://steamcommunity.com/app/670290/reviews/?...   \n",
       "88313  http://steamcommunity.com/app/767400/reviews/?...   \n",
       "88314  http://steamcommunity.com/app/773570/reviews/?...   \n",
       "\n",
       "                                                   specs         price  \\\n",
       "88310                                    [Single-player]          4.99   \n",
       "88311  [Single-player, Multi-player, Online Multi-Pla...  Free To Play   \n",
       "88312  [Single-player, Multi-player, Online Multi-Pla...  Free to Play   \n",
       "88313                                    [Single-player]          0.99   \n",
       "88314  [Single-player, Full controller support, HTC V...          2.99   \n",
       "\n",
       "       early_access        id         developer  \n",
       "88310           0.0  761140.0         Kotoshiro  \n",
       "88311           0.0  643980.0  Secret Level SRL  \n",
       "88312           0.0  670290.0      Poolians.com  \n",
       "88313           0.0  767400.0              彼岸领域  \n",
       "88314           0.0  773570.0              None  "
      ]
     },
     "execution_count": 196,
     "metadata": {},
     "output_type": "execute_result"
    }
   ],
   "source": [
    "# Chequeamos el dataframe para ver como quedo\n",
    "df_OutputSteamGames.head()"
   ]
  },
  {
   "cell_type": "markdown",
   "metadata": {},
   "source": [
    "Verificamos los valores duplicados dentro de df_OutptSteamGames"
   ]
  },
  {
   "cell_type": "code",
   "execution_count": 197,
   "metadata": {},
   "outputs": [
    {
     "name": "stdout",
     "output_type": "stream",
     "text": [
      "Número de filas: 32135, Número de columnas: 13\n"
     ]
    }
   ],
   "source": [
    "# Obtenemos el número de filas y columnas usando shape\n",
    "num_filas, num_columnas = df_OutputSteamGames.shape\n",
    "print(f'Número de filas: {num_filas}, Número de columnas: {num_columnas}')"
   ]
  },
  {
   "cell_type": "code",
   "execution_count": 198,
   "metadata": {},
   "outputs": [
    {
     "data": {
      "text/plain": [
       "Index(['publisher', 'genres', 'app_name', 'title', 'url', 'release_date',\n",
       "       'tags', 'reviews_url', 'specs', 'price', 'early_access', 'id',\n",
       "       'developer'],\n",
       "      dtype='object')"
      ]
     },
     "execution_count": 198,
     "metadata": {},
     "output_type": "execute_result"
    }
   ],
   "source": [
    "df_OutputSteamGames.columns"
   ]
  },
  {
   "cell_type": "code",
   "execution_count": 199,
   "metadata": {},
   "outputs": [
    {
     "name": "stdout",
     "output_type": "stream",
     "text": [
      "Empty DataFrame\n",
      "Columns: [publisher, genres, app_name, title, url, release_date, tags, reviews_url, specs, price, early_access, id, developer]\n",
      "Index: []\n"
     ]
    }
   ],
   "source": [
    "# Verificamos filas duplicadas en el dataframe\n",
    "columnas_a_verificar = ['publisher', 'app_name', 'title', 'url', 'release_date',\n",
    "                        'reviews_url', 'price', 'early_access', 'id',\n",
    "                        'developer']\n",
    "duplicados_en_columnas = df_OutputSteamGames.duplicated(subset=columnas_a_verificar)\n",
    "\n",
    "# Mostramos los duplicados\n",
    "print(df_OutputSteamGames[duplicados_en_columnas])"
   ]
  },
  {
   "cell_type": "markdown",
   "metadata": {},
   "source": [
    "Verificamos sacando las listas que no hay valores duplicados"
   ]
  },
  {
   "cell_type": "markdown",
   "metadata": {},
   "source": [
    "Vemos los valores nulos del Dataframe"
   ]
  },
  {
   "cell_type": "code",
   "execution_count": 200,
   "metadata": {},
   "outputs": [
    {
     "data": {
      "text/plain": [
       "publisher       8052\n",
       "genres          3283\n",
       "app_name           2\n",
       "title           2050\n",
       "url                0\n",
       "release_date    2067\n",
       "tags             163\n",
       "reviews_url        2\n",
       "specs            670\n",
       "price           1377\n",
       "early_access       0\n",
       "id                 2\n",
       "developer       3299\n",
       "dtype: int64"
      ]
     },
     "execution_count": 200,
     "metadata": {},
     "output_type": "execute_result"
    }
   ],
   "source": [
    "# Chequemos el dataframe para ver la cantidad de valores nulos\n",
    "df_OutputSteamGames.isnull().sum()"
   ]
  },
  {
   "cell_type": "code",
   "execution_count": 201,
   "metadata": {},
   "outputs": [
    {
     "data": {
      "text/plain": [
       "32135"
      ]
     },
     "execution_count": 201,
     "metadata": {},
     "output_type": "execute_result"
    }
   ],
   "source": [
    "len(df_OutputSteamGames)"
   ]
  },
  {
   "cell_type": "markdown",
   "metadata": {},
   "source": [
    "**Nota:** \n",
    "\n",
    "Podemos ver en el campo 'genres' los valores faltantes son 3283, pero la informacion que falta podriamos sacarla del campo 'tags', solo que habria que obtener de ese campo los datos del genero y no el resto. Esa podria ser una buena solucion al problema.\n",
    "\n",
    "Vemos que en el campo app_name y title contienen una informacion redundante, ya que los dos campos describen el titulo de la aplicacion solo que en dos formatos diferentes.\n",
    "En este caso podemos utilizar el campo app_name para identificar el titulo del producto porque como vemos en los datos nulos o faltantes en ese campo solo tiene 2 faltantes.\n",
    "\n",
    "Hay que chequear el formato de la fecha de release_date\n",
    "\n",
    "el Campo 'developer' es importante conteniendo solo 3299 faltantes de 32135 totales."
   ]
  },
  {
   "cell_type": "markdown",
   "metadata": {},
   "source": [
    "Eliminar Columnas No Necesarias"
   ]
  },
  {
   "cell_type": "code",
   "execution_count": 202,
   "metadata": {},
   "outputs": [
    {
     "data": {
      "text/plain": [
       "Index(['publisher', 'genres', 'app_name', 'title', 'url', 'release_date',\n",
       "       'tags', 'reviews_url', 'specs', 'price', 'early_access', 'id',\n",
       "       'developer'],\n",
       "      dtype='object')"
      ]
     },
     "execution_count": 202,
     "metadata": {},
     "output_type": "execute_result"
    }
   ],
   "source": [
    "df_OutputSteamGames.columns"
   ]
  },
  {
   "cell_type": "code",
   "execution_count": 203,
   "metadata": {},
   "outputs": [],
   "source": [
    "# Eliminamos las columnas que no son utiles para el desarrollo del proyecto\n",
    "df_OutputSteamGames.drop(columns=[\"publisher\",\"title\",\"url\",\"early_access\",\"reviews_url\",\"specs\"], inplace=True)"
   ]
  },
  {
   "cell_type": "code",
   "execution_count": 204,
   "metadata": {},
   "outputs": [
    {
     "data": {
      "text/html": [
       "<div>\n",
       "<style scoped>\n",
       "    .dataframe tbody tr th:only-of-type {\n",
       "        vertical-align: middle;\n",
       "    }\n",
       "\n",
       "    .dataframe tbody tr th {\n",
       "        vertical-align: top;\n",
       "    }\n",
       "\n",
       "    .dataframe thead th {\n",
       "        text-align: right;\n",
       "    }\n",
       "</style>\n",
       "<table border=\"1\" class=\"dataframe\">\n",
       "  <thead>\n",
       "    <tr style=\"text-align: right;\">\n",
       "      <th></th>\n",
       "      <th>genres</th>\n",
       "      <th>app_name</th>\n",
       "      <th>release_date</th>\n",
       "      <th>tags</th>\n",
       "      <th>price</th>\n",
       "      <th>id</th>\n",
       "      <th>developer</th>\n",
       "    </tr>\n",
       "  </thead>\n",
       "  <tbody>\n",
       "    <tr>\n",
       "      <th>88310</th>\n",
       "      <td>[Action, Casual, Indie, Simulation, Strategy]</td>\n",
       "      <td>Lost Summoner Kitty</td>\n",
       "      <td>2018-01-04</td>\n",
       "      <td>[Strategy, Action, Indie, Casual, Simulation]</td>\n",
       "      <td>4.99</td>\n",
       "      <td>761140.0</td>\n",
       "      <td>Kotoshiro</td>\n",
       "    </tr>\n",
       "    <tr>\n",
       "      <th>88311</th>\n",
       "      <td>[Free to Play, Indie, RPG, Strategy]</td>\n",
       "      <td>Ironbound</td>\n",
       "      <td>2018-01-04</td>\n",
       "      <td>[Free to Play, Strategy, Indie, RPG, Card Game...</td>\n",
       "      <td>Free To Play</td>\n",
       "      <td>643980.0</td>\n",
       "      <td>Secret Level SRL</td>\n",
       "    </tr>\n",
       "    <tr>\n",
       "      <th>88312</th>\n",
       "      <td>[Casual, Free to Play, Indie, Simulation, Sports]</td>\n",
       "      <td>Real Pool 3D - Poolians</td>\n",
       "      <td>2017-07-24</td>\n",
       "      <td>[Free to Play, Simulation, Sports, Casual, Ind...</td>\n",
       "      <td>Free to Play</td>\n",
       "      <td>670290.0</td>\n",
       "      <td>Poolians.com</td>\n",
       "    </tr>\n",
       "    <tr>\n",
       "      <th>88313</th>\n",
       "      <td>[Action, Adventure, Casual]</td>\n",
       "      <td>弹炸人2222</td>\n",
       "      <td>2017-12-07</td>\n",
       "      <td>[Action, Adventure, Casual]</td>\n",
       "      <td>0.99</td>\n",
       "      <td>767400.0</td>\n",
       "      <td>彼岸领域</td>\n",
       "    </tr>\n",
       "    <tr>\n",
       "      <th>88314</th>\n",
       "      <td>None</td>\n",
       "      <td>Log Challenge</td>\n",
       "      <td>None</td>\n",
       "      <td>[Action, Indie, Casual, Sports]</td>\n",
       "      <td>2.99</td>\n",
       "      <td>773570.0</td>\n",
       "      <td>None</td>\n",
       "    </tr>\n",
       "  </tbody>\n",
       "</table>\n",
       "</div>"
      ],
      "text/plain": [
       "                                                  genres  \\\n",
       "88310      [Action, Casual, Indie, Simulation, Strategy]   \n",
       "88311               [Free to Play, Indie, RPG, Strategy]   \n",
       "88312  [Casual, Free to Play, Indie, Simulation, Sports]   \n",
       "88313                        [Action, Adventure, Casual]   \n",
       "88314                                               None   \n",
       "\n",
       "                      app_name release_date  \\\n",
       "88310      Lost Summoner Kitty   2018-01-04   \n",
       "88311                Ironbound   2018-01-04   \n",
       "88312  Real Pool 3D - Poolians   2017-07-24   \n",
       "88313                  弹炸人2222   2017-12-07   \n",
       "88314            Log Challenge         None   \n",
       "\n",
       "                                                    tags         price  \\\n",
       "88310      [Strategy, Action, Indie, Casual, Simulation]          4.99   \n",
       "88311  [Free to Play, Strategy, Indie, RPG, Card Game...  Free To Play   \n",
       "88312  [Free to Play, Simulation, Sports, Casual, Ind...  Free to Play   \n",
       "88313                        [Action, Adventure, Casual]          0.99   \n",
       "88314                    [Action, Indie, Casual, Sports]          2.99   \n",
       "\n",
       "             id         developer  \n",
       "88310  761140.0         Kotoshiro  \n",
       "88311  643980.0  Secret Level SRL  \n",
       "88312  670290.0      Poolians.com  \n",
       "88313  767400.0              彼岸领域  \n",
       "88314  773570.0              None  "
      ]
     },
     "execution_count": 204,
     "metadata": {},
     "output_type": "execute_result"
    }
   ],
   "source": [
    "# Chequeamos como quedo el Dataframe\n",
    "df_OutputSteamGames.head()"
   ]
  },
  {
   "cell_type": "markdown",
   "metadata": {},
   "source": [
    "Reorganizamos y renombramos las columnas"
   ]
  },
  {
   "cell_type": "code",
   "execution_count": 205,
   "metadata": {},
   "outputs": [
    {
     "data": {
      "text/plain": [
       "Index(['ItemId', 'ItemName', 'PlaytimeForever', 'UserId', 'ItemsCount'], dtype='object')"
      ]
     },
     "execution_count": 205,
     "metadata": {},
     "output_type": "execute_result"
    }
   ],
   "source": [
    "# chequeamos la columnas nombradas anteriormente para df_UserItems\n",
    "df_UserItems.columns"
   ]
  },
  {
   "cell_type": "code",
   "execution_count": 206,
   "metadata": {},
   "outputs": [
    {
     "data": {
      "text/plain": [
       "Index(['genres', 'app_name', 'release_date', 'tags', 'price', 'id',\n",
       "       'developer'],\n",
       "      dtype='object')"
      ]
     },
     "execution_count": 206,
     "metadata": {},
     "output_type": "execute_result"
    }
   ],
   "source": [
    "#chequeamos los nombres de las columnas\n",
    "df_OutputSteamGames.columns"
   ]
  },
  {
   "cell_type": "code",
   "execution_count": 207,
   "metadata": {},
   "outputs": [],
   "source": [
    "# vamos a renombrar las columnas en una manera standard y siguiendo buenas practicas \n",
    "df_OutputSteamGames = df_OutputSteamGames.rename(columns={'genres': 'Genres'}) \n",
    "df_OutputSteamGames = df_OutputSteamGames.rename(columns={'app_name': 'Title'})\n",
    "df_OutputSteamGames = df_OutputSteamGames.rename(columns={'release_date': 'ReleaseDate'})\n",
    "df_OutputSteamGames = df_OutputSteamGames.rename(columns={'price': 'Price'})\n",
    "df_OutputSteamGames = df_OutputSteamGames.rename(columns={'id': 'ItemId'})\n",
    "df_OutputSteamGames = df_OutputSteamGames.rename(columns={'developer': 'Developer'})\n",
    "df_OutputSteamGames = df_OutputSteamGames.rename(columns={'tags': 'Tags'})\n"
   ]
  },
  {
   "cell_type": "code",
   "execution_count": 208,
   "metadata": {},
   "outputs": [
    {
     "data": {
      "text/html": [
       "<div>\n",
       "<style scoped>\n",
       "    .dataframe tbody tr th:only-of-type {\n",
       "        vertical-align: middle;\n",
       "    }\n",
       "\n",
       "    .dataframe tbody tr th {\n",
       "        vertical-align: top;\n",
       "    }\n",
       "\n",
       "    .dataframe thead th {\n",
       "        text-align: right;\n",
       "    }\n",
       "</style>\n",
       "<table border=\"1\" class=\"dataframe\">\n",
       "  <thead>\n",
       "    <tr style=\"text-align: right;\">\n",
       "      <th></th>\n",
       "      <th>Genres</th>\n",
       "      <th>Title</th>\n",
       "      <th>ReleaseDate</th>\n",
       "      <th>Tags</th>\n",
       "      <th>Price</th>\n",
       "      <th>ItemId</th>\n",
       "      <th>Developer</th>\n",
       "    </tr>\n",
       "  </thead>\n",
       "  <tbody>\n",
       "    <tr>\n",
       "      <th>88310</th>\n",
       "      <td>[Action, Casual, Indie, Simulation, Strategy]</td>\n",
       "      <td>Lost Summoner Kitty</td>\n",
       "      <td>2018-01-04</td>\n",
       "      <td>[Strategy, Action, Indie, Casual, Simulation]</td>\n",
       "      <td>4.99</td>\n",
       "      <td>761140.0</td>\n",
       "      <td>Kotoshiro</td>\n",
       "    </tr>\n",
       "  </tbody>\n",
       "</table>\n",
       "</div>"
      ],
      "text/plain": [
       "                                              Genres                Title  \\\n",
       "88310  [Action, Casual, Indie, Simulation, Strategy]  Lost Summoner Kitty   \n",
       "\n",
       "      ReleaseDate                                           Tags Price  \\\n",
       "88310  2018-01-04  [Strategy, Action, Indie, Casual, Simulation]  4.99   \n",
       "\n",
       "         ItemId  Developer  \n",
       "88310  761140.0  Kotoshiro  "
      ]
     },
     "execution_count": 208,
     "metadata": {},
     "output_type": "execute_result"
    }
   ],
   "source": [
    "# chequeamos los cambios de nombres de columnas\n",
    "df_OutputSteamGames.head(1)"
   ]
  },
  {
   "cell_type": "markdown",
   "metadata": {},
   "source": [
    "verificamos el tipo de dato de las columnas"
   ]
  },
  {
   "cell_type": "code",
   "execution_count": 209,
   "metadata": {},
   "outputs": [
    {
     "data": {
      "text/plain": [
       "Genres          object\n",
       "Title           object\n",
       "ReleaseDate     object\n",
       "Tags            object\n",
       "Price           object\n",
       "ItemId         float64\n",
       "Developer       object\n",
       "dtype: object"
      ]
     },
     "execution_count": 209,
     "metadata": {},
     "output_type": "execute_result"
    }
   ],
   "source": [
    "# chequeamos los tipos de datos del dataframe\n",
    "df_OutputSteamGames.dtypes"
   ]
  },
  {
   "cell_type": "markdown",
   "metadata": {},
   "source": [
    "Como vemos para los campos Genres, Title, Tags y Developer los tipos de datos quedaran en tipo object"
   ]
  },
  {
   "cell_type": "code",
   "execution_count": 210,
   "metadata": {},
   "outputs": [
    {
     "data": {
      "text/html": [
       "<div>\n",
       "<style scoped>\n",
       "    .dataframe tbody tr th:only-of-type {\n",
       "        vertical-align: middle;\n",
       "    }\n",
       "\n",
       "    .dataframe tbody tr th {\n",
       "        vertical-align: top;\n",
       "    }\n",
       "\n",
       "    .dataframe thead th {\n",
       "        text-align: right;\n",
       "    }\n",
       "</style>\n",
       "<table border=\"1\" class=\"dataframe\">\n",
       "  <thead>\n",
       "    <tr style=\"text-align: right;\">\n",
       "      <th></th>\n",
       "      <th>Genres</th>\n",
       "      <th>Title</th>\n",
       "      <th>ReleaseDate</th>\n",
       "      <th>Tags</th>\n",
       "      <th>Price</th>\n",
       "      <th>ItemId</th>\n",
       "      <th>Developer</th>\n",
       "    </tr>\n",
       "  </thead>\n",
       "  <tbody>\n",
       "    <tr>\n",
       "      <th>88310</th>\n",
       "      <td>[Action, Casual, Indie, Simulation, Strategy]</td>\n",
       "      <td>Lost Summoner Kitty</td>\n",
       "      <td>2018-01-04</td>\n",
       "      <td>[Strategy, Action, Indie, Casual, Simulation]</td>\n",
       "      <td>4.99</td>\n",
       "      <td>761140.0</td>\n",
       "      <td>Kotoshiro</td>\n",
       "    </tr>\n",
       "    <tr>\n",
       "      <th>88311</th>\n",
       "      <td>[Free to Play, Indie, RPG, Strategy]</td>\n",
       "      <td>Ironbound</td>\n",
       "      <td>2018-01-04</td>\n",
       "      <td>[Free to Play, Strategy, Indie, RPG, Card Game...</td>\n",
       "      <td>Free To Play</td>\n",
       "      <td>643980.0</td>\n",
       "      <td>Secret Level SRL</td>\n",
       "    </tr>\n",
       "  </tbody>\n",
       "</table>\n",
       "</div>"
      ],
      "text/plain": [
       "                                              Genres                Title  \\\n",
       "88310  [Action, Casual, Indie, Simulation, Strategy]  Lost Summoner Kitty   \n",
       "88311           [Free to Play, Indie, RPG, Strategy]            Ironbound   \n",
       "\n",
       "      ReleaseDate                                               Tags  \\\n",
       "88310  2018-01-04      [Strategy, Action, Indie, Casual, Simulation]   \n",
       "88311  2018-01-04  [Free to Play, Strategy, Indie, RPG, Card Game...   \n",
       "\n",
       "              Price    ItemId         Developer  \n",
       "88310          4.99  761140.0         Kotoshiro  \n",
       "88311  Free To Play  643980.0  Secret Level SRL  "
      ]
     },
     "execution_count": 210,
     "metadata": {},
     "output_type": "execute_result"
    }
   ],
   "source": [
    "df_OutputSteamGames.head(2)"
   ]
  },
  {
   "cell_type": "markdown",
   "metadata": {},
   "source": [
    "Cambiamos los tipos de datos de las columnas"
   ]
  },
  {
   "cell_type": "markdown",
   "metadata": {},
   "source": [
    "Para cambiar los siguientes tipos de datos de las columnas, tenemos que revisar los datos que contienen"
   ]
  },
  {
   "cell_type": "code",
   "execution_count": 211,
   "metadata": {},
   "outputs": [
    {
     "name": "stdout",
     "output_type": "stream",
     "text": [
      "['2018-01-04' '2017-07-24' '2017-12-07' ... '2016-11-19' 'January 2018'\n",
      " '2018-10-01']\n"
     ]
    }
   ],
   "source": [
    "# chequeamos que datos contiene la columna ReleaseDate\n",
    "print(df_OutputSteamGames['ReleaseDate'].unique())"
   ]
  },
  {
   "cell_type": "code",
   "execution_count": 212,
   "metadata": {},
   "outputs": [],
   "source": [
    "# cambiamos el tipo de dato de la columna ReleaseDate a datetime format\n",
    "df_OutputSteamGames['ReleaseDate'] = pd.to_datetime(df_OutputSteamGames['ReleaseDate'], errors='coerce', format='%Y-%m-%d', exact=False)"
   ]
  },
  {
   "cell_type": "code",
   "execution_count": 213,
   "metadata": {},
   "outputs": [
    {
     "name": "stdout",
     "output_type": "stream",
     "text": [
      "['2018-01-04T00:00:00.000000000' '2017-07-24T00:00:00.000000000'\n",
      " '2017-12-07T00:00:00.000000000' ... '2004-03-01T00:00:00.000000000'\n",
      " '2016-11-19T00:00:00.000000000' '2018-10-01T00:00:00.000000000']\n"
     ]
    }
   ],
   "source": [
    "# Confirmamos el cambio de formato\n",
    "print(df_OutputSteamGames['ReleaseDate'].unique())"
   ]
  },
  {
   "cell_type": "code",
   "execution_count": 214,
   "metadata": {},
   "outputs": [
    {
     "data": {
      "text/plain": [
       "88310    2018-01-04\n",
       "88311    2018-01-04\n",
       "88312    2017-07-24\n",
       "88313    2017-12-07\n",
       "88314           NaT\n",
       "            ...    \n",
       "120440   2018-01-04\n",
       "120441   2018-01-04\n",
       "120442   2018-01-04\n",
       "120443   2017-09-02\n",
       "120444          NaT\n",
       "Name: ReleaseDate, Length: 32135, dtype: datetime64[ns]"
      ]
     },
     "execution_count": 214,
     "metadata": {},
     "output_type": "execute_result"
    }
   ],
   "source": [
    "df_OutputSteamGames['ReleaseDate']"
   ]
  },
  {
   "cell_type": "code",
   "execution_count": 215,
   "metadata": {},
   "outputs": [
    {
     "name": "stdout",
     "output_type": "stream",
     "text": [
      "[4.99 'Free To Play' 'Free to Play' 0.99 2.99 3.99 9.99 18.99 29.99 None\n",
      " 'Free' 10.99 1.5899999999999999 14.99 1.99 59.99 8.99 6.99 7.99 39.99\n",
      " 19.99 7.49 12.99 5.99 2.49 15.99 1.25 24.99 17.99 61.99 3.49 11.99 13.99\n",
      " 'Free Demo' 'Play for Free!' 34.99 74.76 1.49 32.99 99.99 14.95 69.99\n",
      " 16.99 79.99 49.99 5.0 44.99 13.98 29.96 119.99 109.99 149.99 771.71\n",
      " 'Install Now' 21.99 89.99 'Play WARMACHINE: Tactics Demo' 0.98 139.92\n",
      " 4.29 64.99 'Free Mod' 54.99 74.99 'Install Theme' 0.89 'Third-party' 0.5\n",
      " 'Play Now' 299.99 1.29 3.0 15.0 5.49 23.99 49.0 20.99 10.93\n",
      " 1.3900000000000001 'Free HITMAN™ Holiday Pack' 36.99 4.49 2.0 4.0 9.0\n",
      " 234.99 1.9500000000000002 1.5 199.0 189.0 6.66 27.99 10.49 129.99 179.0\n",
      " 26.99 399.99 31.99 399.0 20.0 40.0 3.33 199.99 22.99 320.0 38.85 71.7\n",
      " 59.95 995.0 27.49 3.39 6.0 19.95 499.99 16.06 4.68 131.4 44.98 202.76 1.0\n",
      " 2.3 0.9500000000000001 172.24 249.99 2.9699999999999998 10.96 10.0 30.0\n",
      " 2.66 6.48 19.29 11.15 18.9 2.89 'Play the Demo' 99.0 87.94 599.0 8.98\n",
      " 9.69 0.49 9.98 9.95 7.0 'Starting at $499.00' 'Starting at $449.00' 12.89\n",
      " 6.49 1.87 42.99 41.99 289.99 'Free to Try' 23.96 5.65 12.0 13.37 189.96\n",
      " 124.99 'Free Movie' 19.98 160.91 'Free to Use']\n"
     ]
    }
   ],
   "source": [
    "# chequeamos que datos contiene la columna Price\n",
    "print(df_OutputSteamGames['Price'].unique())"
   ]
  },
  {
   "cell_type": "markdown",
   "metadata": {},
   "source": [
    "Vemos que en la columna de Price aparecen valores string(como free to play o starting at $499), lo quye podemos hacer es cambiarlos a 0"
   ]
  },
  {
   "cell_type": "code",
   "execution_count": 216,
   "metadata": {},
   "outputs": [],
   "source": [
    "# cambiamos los valores de string a int y dejamos nan los faltantes\n",
    "df_OutputSteamGames['Price'] = df_OutputSteamGames['Price'].apply(lambda x: 0 if pd.notna(x) and not isinstance(x, (int, float)) else x).astype(float)"
   ]
  },
  {
   "cell_type": "code",
   "execution_count": 217,
   "metadata": {},
   "outputs": [
    {
     "name": "stdout",
     "output_type": "stream",
     "text": [
      "[4.9900e+00 0.0000e+00 9.9000e-01 2.9900e+00 3.9900e+00 9.9900e+00\n",
      " 1.8990e+01 2.9990e+01        nan 1.0990e+01 1.5900e+00 1.4990e+01\n",
      " 1.9900e+00 5.9990e+01 8.9900e+00 6.9900e+00 7.9900e+00 3.9990e+01\n",
      " 1.9990e+01 7.4900e+00 1.2990e+01 5.9900e+00 2.4900e+00 1.5990e+01\n",
      " 1.2500e+00 2.4990e+01 1.7990e+01 6.1990e+01 3.4900e+00 1.1990e+01\n",
      " 1.3990e+01 3.4990e+01 7.4760e+01 1.4900e+00 3.2990e+01 9.9990e+01\n",
      " 1.4950e+01 6.9990e+01 1.6990e+01 7.9990e+01 4.9990e+01 5.0000e+00\n",
      " 4.4990e+01 1.3980e+01 2.9960e+01 1.1999e+02 1.0999e+02 1.4999e+02\n",
      " 7.7171e+02 2.1990e+01 8.9990e+01 9.8000e-01 1.3992e+02 4.2900e+00\n",
      " 6.4990e+01 5.4990e+01 7.4990e+01 8.9000e-01 5.0000e-01 2.9999e+02\n",
      " 1.2900e+00 3.0000e+00 1.5000e+01 5.4900e+00 2.3990e+01 4.9000e+01\n",
      " 2.0990e+01 1.0930e+01 1.3900e+00 3.6990e+01 4.4900e+00 2.0000e+00\n",
      " 4.0000e+00 9.0000e+00 2.3499e+02 1.9500e+00 1.5000e+00 1.9900e+02\n",
      " 1.8900e+02 6.6600e+00 2.7990e+01 1.0490e+01 1.2999e+02 1.7900e+02\n",
      " 2.6990e+01 3.9999e+02 3.1990e+01 3.9900e+02 2.0000e+01 4.0000e+01\n",
      " 3.3300e+00 1.9999e+02 2.2990e+01 3.2000e+02 3.8850e+01 7.1700e+01\n",
      " 5.9950e+01 9.9500e+02 2.7490e+01 3.3900e+00 6.0000e+00 1.9950e+01\n",
      " 4.9999e+02 1.6060e+01 4.6800e+00 1.3140e+02 4.4980e+01 2.0276e+02\n",
      " 1.0000e+00 2.3000e+00 9.5000e-01 1.7224e+02 2.4999e+02 2.9700e+00\n",
      " 1.0960e+01 1.0000e+01 3.0000e+01 2.6600e+00 6.4800e+00 1.9290e+01\n",
      " 1.1150e+01 1.8900e+01 2.8900e+00 9.9000e+01 8.7940e+01 5.9900e+02\n",
      " 8.9800e+00 9.6900e+00 4.9000e-01 9.9800e+00 9.9500e+00 7.0000e+00\n",
      " 1.2890e+01 6.4900e+00 1.8700e+00 4.2990e+01 4.1990e+01 2.8999e+02\n",
      " 2.3960e+01 5.6500e+00 1.2000e+01 1.3370e+01 1.8996e+02 1.2499e+02\n",
      " 1.9980e+01 1.6091e+02]\n"
     ]
    }
   ],
   "source": [
    "# chequeamos que datos contiene la columna Price\n",
    "print(df_OutputSteamGames['Price'].unique())"
   ]
  },
  {
   "cell_type": "code",
   "execution_count": 218,
   "metadata": {},
   "outputs": [
    {
     "data": {
      "text/plain": [
       "88310     4.99\n",
       "88311     0.00\n",
       "88312     0.00\n",
       "88313     0.99\n",
       "88314     2.99\n",
       "          ... \n",
       "120440    1.99\n",
       "120441    4.99\n",
       "120442    1.99\n",
       "120443    4.99\n",
       "120444    4.99\n",
       "Name: Price, Length: 32135, dtype: float64"
      ]
     },
     "execution_count": 218,
     "metadata": {},
     "output_type": "execute_result"
    }
   ],
   "source": [
    "df_OutputSteamGames['Price']"
   ]
  },
  {
   "cell_type": "code",
   "execution_count": 219,
   "metadata": {},
   "outputs": [
    {
     "name": "stdout",
     "output_type": "stream",
     "text": [
      "[761140. 643980. 670290. ... 610660. 658870. 681550.]\n"
     ]
    }
   ],
   "source": [
    "# Ahora vamos a cambiar la columna ItemId, para eso vamos a ver que datos contiene\n",
    "\n",
    "# chequeamos que datos contiene la columna \n",
    "print(df_OutputSteamGames['ItemId'].unique())"
   ]
  },
  {
   "cell_type": "code",
   "execution_count": 220,
   "metadata": {},
   "outputs": [
    {
     "data": {
      "text/plain": [
       "120416         10.0\n",
       "120413         20.0\n",
       "120424         30.0\n",
       "120418         40.0\n",
       "120414         50.0\n",
       "            ...    \n",
       "118632    2028062.0\n",
       "118834    2028103.0\n",
       "89735     2028850.0\n",
       "88384           NaN\n",
       "119271          NaN\n",
       "Name: ItemId, Length: 32135, dtype: float64"
      ]
     },
     "execution_count": 220,
     "metadata": {},
     "output_type": "execute_result"
    }
   ],
   "source": [
    "# vemos que valores tenemos\n",
    "df_OutputSteamGames['ItemId'].sort_values()"
   ]
  },
  {
   "cell_type": "code",
   "execution_count": 221,
   "metadata": {},
   "outputs": [],
   "source": [
    "# Vemos valores NaN faltantes para el ItemId, los vamos a eliminar son solo dos registros faltantes\n",
    "df_OutputSteamGames = df_OutputSteamGames.dropna(subset=['ItemId'])"
   ]
  },
  {
   "cell_type": "code",
   "execution_count": 222,
   "metadata": {},
   "outputs": [
    {
     "data": {
      "text/plain": [
       "120416         10.0\n",
       "120413         20.0\n",
       "120424         30.0\n",
       "120418         40.0\n",
       "120414         50.0\n",
       "            ...    \n",
       "118903    2028055.0\n",
       "118999    2028056.0\n",
       "118632    2028062.0\n",
       "118834    2028103.0\n",
       "89735     2028850.0\n",
       "Name: ItemId, Length: 32133, dtype: float64"
      ]
     },
     "execution_count": 222,
     "metadata": {},
     "output_type": "execute_result"
    }
   ],
   "source": [
    "# vemos como quedo con el proceso de eliminacion de esos dos registros \n",
    "df_OutputSteamGames['ItemId'].sort_values()"
   ]
  },
  {
   "cell_type": "code",
   "execution_count": 223,
   "metadata": {},
   "outputs": [
    {
     "name": "stderr",
     "output_type": "stream",
     "text": [
      "C:\\Users\\frank\\AppData\\Local\\Temp\\ipykernel_21320\\1349772635.py:2: DeprecationWarning: In a future version, `df.iloc[:, i] = newvals` will attempt to set the values inplace instead of always setting a new array. To retain the old behavior, use either `df[df.columns[i]] = newvals` or, if columns are non-unique, `df.isetitem(i, newvals)`\n",
      "  df_OutputSteamGames.loc[:, 'ItemId'] = df_OutputSteamGames['ItemId'].astype(int)\n"
     ]
    }
   ],
   "source": [
    "# cambiamos el tipo de dato de la columna ItemId a int\n",
    "df_OutputSteamGames.loc[:, 'ItemId'] = df_OutputSteamGames['ItemId'].astype(int)"
   ]
  },
  {
   "cell_type": "markdown",
   "metadata": {},
   "source": [
    "Chequeamos como quedaron los cambios de tipos de datos"
   ]
  },
  {
   "cell_type": "code",
   "execution_count": 224,
   "metadata": {},
   "outputs": [
    {
     "data": {
      "text/plain": [
       "Genres                 object\n",
       "Title                  object\n",
       "ReleaseDate    datetime64[ns]\n",
       "Tags                   object\n",
       "Price                 float64\n",
       "ItemId                  int32\n",
       "Developer              object\n",
       "dtype: object"
      ]
     },
     "execution_count": 224,
     "metadata": {},
     "output_type": "execute_result"
    }
   ],
   "source": [
    "# Vemos como nos quedo los cambios de tipos de datos\n",
    "df_OutputSteamGames.dtypes"
   ]
  },
  {
   "cell_type": "markdown",
   "metadata": {},
   "source": [
    "Tratamos los valores nulos"
   ]
  },
  {
   "cell_type": "code",
   "execution_count": 225,
   "metadata": {},
   "outputs": [
    {
     "data": {
      "text/plain": [
       "Index(['Genres', 'Title', 'ReleaseDate', 'Tags', 'Price', 'ItemId',\n",
       "       'Developer'],\n",
       "      dtype='object')"
      ]
     },
     "execution_count": 225,
     "metadata": {},
     "output_type": "execute_result"
    }
   ],
   "source": [
    "# Chequeamos las columnas que nos quedaron en el dataframe df_OutputGames\n",
    "df_OutputSteamGames.columns"
   ]
  },
  {
   "cell_type": "code",
   "execution_count": 226,
   "metadata": {},
   "outputs": [
    {
     "name": "stdout",
     "output_type": "stream",
     "text": [
      "Genres  (nulos) =  3282\n",
      "Title  (nulos) =  1\n",
      "ReleaseDate  (nulos) =  2309\n",
      "Tags  (nulos) =  162\n",
      "Price  (nulos) =  1377\n",
      "ItemId  (nulos) =  0\n",
      "Developer  (nulos) =  3298\n",
      "\n",
      "filas completamente nulas:  0\n",
      "  nombre_campo                                         tipo_datos  no_nulos_%  \\\n",
      "0       Genres               [<class 'list'>, <class 'NoneType'>]       89.79   \n",
      "1        Title                [<class 'str'>, <class 'NoneType'>]      100.00   \n",
      "2  ReleaseDate  [<class 'pandas._libs.tslibs.timestamps.Timest...       92.81   \n",
      "3         Tags               [<class 'list'>, <class 'NoneType'>]       99.50   \n",
      "4        Price                                  [<class 'float'>]       95.71   \n",
      "5       ItemId                                    [<class 'int'>]      100.00   \n",
      "6    Developer                [<class 'str'>, <class 'NoneType'>]       89.74   \n",
      "\n",
      "   nulos_%  \n",
      "0    10.21  \n",
      "1     0.00  \n",
      "2     7.19  \n",
      "3     0.50  \n",
      "4     4.29  \n",
      "5     0.00  \n",
      "6    10.26  \n"
     ]
    }
   ],
   "source": [
    "# Con esta funcion podemos ver un informe detallado de como quedaron los tipos de datos de los campos y podemos ver\n",
    "# la cantidad de nulos que tenemos por cada columna\n",
    "\n",
    "def verificar_tipo_datos(dfoutput):\n",
    "    mi_dict = {\"nombre_campo\": [], \"tipo_datos\": [], \"no_nulos_%\": [], \"nulos_%\": []}\n",
    "    for columna in dfoutput.columns:\n",
    "        porcentaje_no_nulos = (dfoutput[columna].count() / len(dfoutput)) * 100\n",
    "        mi_dict[\"nombre_campo\"].append(columna)\n",
    "        mi_dict[\"tipo_datos\"].append(dfoutput[columna].apply(type).unique())\n",
    "        mi_dict[\"no_nulos_%\"].append(round(porcentaje_no_nulos, 2))\n",
    "        mi_dict[\"nulos_%\"].append(round(100-porcentaje_no_nulos, 2))\n",
    "    df_info = pd.DataFrame(mi_dict)\n",
    "    for columna in dfoutput.columns:\n",
    "        print(columna, \" (nulos) = \", dfoutput[columna].isnull().sum())\n",
    "    print(\"\\nfilas completamente nulas: \", dfoutput.isna().all(axis=1).sum())\n",
    "    return df_info \n",
    "df_info = verificar_tipo_datos(df_OutputSteamGames)\n",
    "print(df_info)"
   ]
  },
  {
   "cell_type": "markdown",
   "metadata": {},
   "source": [
    "Genres  (nulos) =  3282\n",
    "\n",
    "Title  (nulos) =  1\n",
    "\n",
    "ReleaseDate  (nulos) =  2309\n",
    "\n",
    "Tags  (nulos) =  162\n",
    "\n",
    "Price  (nulos) =  1377\n",
    "\n",
    "ItemId  (nulos) =  0\n",
    "\n",
    "Developer  (nulos) =  3298\n",
    "\n",
    "\n",
    "Tendriamos que hacer una ultima transformacion para intentar dejar las columnas lo mejor posible para los proximos pasos"
   ]
  },
  {
   "cell_type": "markdown",
   "metadata": {},
   "source": [
    "Emepezamos con la columna Title"
   ]
  },
  {
   "cell_type": "code",
   "execution_count": 227,
   "metadata": {},
   "outputs": [
    {
     "name": "stdout",
     "output_type": "stream",
     "text": [
      "                Genres Title ReleaseDate             Tags  Price  ItemId  \\\n",
      "90890  [Action, Indie]  None  2014-08-26  [Action, Indie]    NaN  317160   \n",
      "\n",
      "      Developer  \n",
      "90890      None  \n",
      "90890    None\n",
      "Name: Title, dtype: object\n"
     ]
    }
   ],
   "source": [
    "# Muestra las filas con valores NaN en la columna\n",
    "missing = df_OutputSteamGames[df_OutputSteamGames['Title'].isna()]\n",
    "\n",
    "# Muestra las filas con valores NaN en la columna y selecciona solo la columna\n",
    "missing_values = df_OutputSteamGames.loc[df_OutputSteamGames['Title'].isna(), 'Title']\n",
    "\n",
    "# Imprime las filas con valores NaN en la columna \n",
    "print(missing)\n",
    "\n",
    "# Imprime los valores específicos NaN en la columna\n",
    "print(missing_values)"
   ]
  },
  {
   "cell_type": "markdown",
   "metadata": {},
   "source": [
    "Decidi borrar los valores que tiene faltante para la columna Title"
   ]
  },
  {
   "cell_type": "code",
   "execution_count": 228,
   "metadata": {},
   "outputs": [],
   "source": [
    "# Vemos valor NaN faltante para el campo Title, lo vamos a eliminar\n",
    "df_OutputSteamGames = df_OutputSteamGames.dropna(subset=['Title'])"
   ]
  },
  {
   "cell_type": "code",
   "execution_count": 229,
   "metadata": {},
   "outputs": [
    {
     "name": "stdout",
     "output_type": "stream",
     "text": [
      "Empty DataFrame\n",
      "Columns: [Genres, Title, ReleaseDate, Tags, Price, ItemId, Developer]\n",
      "Index: []\n"
     ]
    }
   ],
   "source": [
    "# Chequemos ahora como quedo\n",
    "missing_titles = df_OutputSteamGames[df_OutputSteamGames['Title'].isna()]\n",
    "print(missing_titles)"
   ]
  },
  {
   "cell_type": "markdown",
   "metadata": {},
   "source": [
    "Seguimos con la columna Price\n",
    "\n",
    "podemos ver que hay valores nulos (Price(nulos)=1377)"
   ]
  },
  {
   "cell_type": "code",
   "execution_count": 230,
   "metadata": {},
   "outputs": [],
   "source": [
    "# Vamos a tratarlos con un 0 en los valores nan\n",
    "df_OutputSteamGames['Price'].fillna(0, inplace=True)"
   ]
  },
  {
   "cell_type": "code",
   "execution_count": 231,
   "metadata": {},
   "outputs": [
    {
     "name": "stdout",
     "output_type": "stream",
     "text": [
      "0\n"
     ]
    }
   ],
   "source": [
    "# chequeamos que hayan sido reemplazados\n",
    "print(df_OutputSteamGames['Price'].isna().sum())"
   ]
  },
  {
   "cell_type": "markdown",
   "metadata": {},
   "source": [
    "Seguimos con la columna ReleaseDate"
   ]
  },
  {
   "cell_type": "code",
   "execution_count": 232,
   "metadata": {},
   "outputs": [
    {
     "name": "stdout",
     "output_type": "stream",
     "text": [
      "['2018-01-04T00:00:00.000000000' '2017-07-24T00:00:00.000000000'\n",
      " '2017-12-07T00:00:00.000000000' ... '2004-03-01T00:00:00.000000000'\n",
      " '2016-11-19T00:00:00.000000000' '2018-10-01T00:00:00.000000000']\n"
     ]
    }
   ],
   "source": [
    "# Analizamos como quedaron los valores nan en el campo releasedate, con formato tipo pandas datetime\n",
    "print(df_OutputSteamGames['ReleaseDate'].unique())"
   ]
  },
  {
   "cell_type": "markdown",
   "metadata": {},
   "source": [
    "Ahora vemos la columna Genres"
   ]
  },
  {
   "cell_type": "code",
   "execution_count": 233,
   "metadata": {},
   "outputs": [
    {
     "name": "stdout",
     "output_type": "stream",
     "text": [
      "['Accounting', 'Action', 'Adventure', 'Animation &amp; Modeling', 'Audio Production', 'Casual', 'Design &amp; Illustration', 'Early Access', 'Education', 'Free to Play', 'Indie', 'Massively Multiplayer', 'Photo Editing', 'RPG', 'Racing', 'Simulation', 'Software Training', 'Sports', 'Strategy', 'Utilities', 'Video Production', 'Web Publishing']\n"
     ]
    }
   ],
   "source": [
    "# creamos una lista con los generos existentes\n",
    "generos=[]\n",
    "for a in df_OutputSteamGames.Genres.dropna().drop_duplicates():\n",
    "    for b in a:\n",
    "        if b not in generos:\n",
    "            generos.append(b)\n",
    "generos=sorted(generos)\n",
    "print(generos)"
   ]
  },
  {
   "cell_type": "code",
   "execution_count": 234,
   "metadata": {},
   "outputs": [
    {
     "data": {
      "text/plain": [
       "22"
      ]
     },
     "execution_count": 234,
     "metadata": {},
     "output_type": "execute_result"
    }
   ],
   "source": [
    "# Vemos la cantidad de generos unicos que tenemos\n",
    "len(generos)"
   ]
  },
  {
   "cell_type": "code",
   "execution_count": 235,
   "metadata": {},
   "outputs": [],
   "source": [
    "#Eliminamos de 'tags' los valores que no son generos\n",
    "df_OutputSteamGames['Tags']=df_OutputSteamGames['Tags'].dropna().apply(lambda lista: [g for g in lista if g in generos])\n",
    "#Usamos dropna() para evaluar sobre filas no nulas y apply() para aplicar mi funcion a cada fila\n",
    "df_OutputSteamGames.loc[df_OutputSteamGames['Genres'].isna() & df_OutputSteamGames['Tags'].notnull(), 'Genres']=df_OutputSteamGames['Tags']"
   ]
  },
  {
   "cell_type": "code",
   "execution_count": 236,
   "metadata": {},
   "outputs": [
    {
     "data": {
      "text/plain": [
       "138"
      ]
     },
     "execution_count": 236,
     "metadata": {},
     "output_type": "execute_result"
    }
   ],
   "source": [
    "# Mostramos cuantos valores nos quedaron nulos\n",
    "df_OutputSteamGames['Genres'].isnull().sum()"
   ]
  },
  {
   "cell_type": "markdown",
   "metadata": {},
   "source": [
    "Como vimos con este codigo logramos llevar los faltantes de la columna Genres de 3282 a solo 138"
   ]
  },
  {
   "cell_type": "markdown",
   "metadata": {},
   "source": [
    "Seguimos con la columna Developer"
   ]
  },
  {
   "cell_type": "code",
   "execution_count": 237,
   "metadata": {},
   "outputs": [
    {
     "data": {
      "text/plain": [
       "3297"
      ]
     },
     "execution_count": 237,
     "metadata": {},
     "output_type": "execute_result"
    }
   ],
   "source": [
    "# Chequeamos nuevamente cuantos faltantes hay en esta columna\n",
    "df_OutputSteamGames['Developer'].isnull().sum()"
   ]
  },
  {
   "cell_type": "code",
   "execution_count": 238,
   "metadata": {},
   "outputs": [],
   "source": [
    "# Reemplazarlos los valoresfaltantes con 'Desconocido'\n",
    "df_OutputSteamGames['Developer'].fillna('Desconocido', inplace=True)"
   ]
  },
  {
   "cell_type": "code",
   "execution_count": 239,
   "metadata": {},
   "outputs": [
    {
     "data": {
      "text/plain": [
       "0"
      ]
     },
     "execution_count": 239,
     "metadata": {},
     "output_type": "execute_result"
    }
   ],
   "source": [
    "# Chequeamos nuevamente cuantos faltantes hay en esta columna\n",
    "df_OutputSteamGames['Developer'].isnull().sum()"
   ]
  },
  {
   "cell_type": "code",
   "execution_count": 240,
   "metadata": {},
   "outputs": [
    {
     "name": "stdout",
     "output_type": "stream",
     "text": [
      "Genres  (nulos) =  138\n",
      "Title  (nulos) =  0\n",
      "ReleaseDate  (nulos) =  2309\n",
      "Tags  (nulos) =  162\n",
      "Price  (nulos) =  0\n",
      "ItemId  (nulos) =  0\n",
      "Developer  (nulos) =  0\n",
      "\n",
      "filas completamente nulas:  0\n",
      "  nombre_campo                                         tipo_datos  no_nulos_%  \\\n",
      "0       Genres               [<class 'list'>, <class 'NoneType'>]       99.57   \n",
      "1        Title                                    [<class 'str'>]      100.00   \n",
      "2  ReleaseDate  [<class 'pandas._libs.tslibs.timestamps.Timest...       92.81   \n",
      "3         Tags                  [<class 'list'>, <class 'float'>]       99.50   \n",
      "4        Price                                  [<class 'float'>]      100.00   \n",
      "5       ItemId                                    [<class 'int'>]      100.00   \n",
      "6    Developer                                    [<class 'str'>]      100.00   \n",
      "\n",
      "   nulos_%  \n",
      "0     0.43  \n",
      "1     0.00  \n",
      "2     7.19  \n",
      "3     0.50  \n",
      "4     0.00  \n",
      "5     0.00  \n",
      "6     0.00  \n"
     ]
    }
   ],
   "source": [
    "# Volvemos a verificar como quedaron la columnas y los valores faltantes\n",
    "df_info = verificar_tipo_datos(df_OutputSteamGames)\n",
    "print(df_info)"
   ]
  },
  {
   "cell_type": "markdown",
   "metadata": {},
   "source": [
    "Haciendo un analisis de que columnas voy a precisar de este dataset, por las funicones pedidas y el analisis de machine learning, identifique que la columna tags es redundante, por ende la puedo eliminar.\n",
    "\n",
    "Tambien tengo que cambiar el nombre de titulo para que se refencie en las otras tablas.(Title por ItemName)\n",
    "\n",
    "ReleaseDate  (nulos) =  2309 quedo con el tipo de dato de columna bien, y los valores faltantes quedaron como Nat(Not a Time)"
   ]
  },
  {
   "cell_type": "code",
   "execution_count": 241,
   "metadata": {},
   "outputs": [],
   "source": [
    "# dropeamos Tags que no nos sirve\n",
    "df_OutputSteamGames.drop(['Tags'], axis=1, inplace=True)"
   ]
  },
  {
   "cell_type": "code",
   "execution_count": 242,
   "metadata": {},
   "outputs": [
    {
     "data": {
      "text/plain": [
       "Index(['ItemId', 'ItemName', 'PlaytimeForever', 'UserId', 'ItemsCount'], dtype='object')"
      ]
     },
     "execution_count": 242,
     "metadata": {},
     "output_type": "execute_result"
    }
   ],
   "source": [
    "# Chequeamos como quedaron los nombres de las columnas en la tabla df_UserItems\n",
    "df_UserItems.columns"
   ]
  },
  {
   "cell_type": "code",
   "execution_count": 243,
   "metadata": {},
   "outputs": [],
   "source": [
    "# Vamos a cambiar en el nombre de la columna Title en df_outputGames para igualarlo con el nombre de la columna\n",
    "# ItemName de df_UserItems\n",
    "df_OutputSteamGames.rename(columns={'Title': 'ItemName'}, inplace=True)"
   ]
  },
  {
   "cell_type": "code",
   "execution_count": 244,
   "metadata": {},
   "outputs": [],
   "source": [
    "# Ahora vamos a dropear los valores faltantes en la columna Genres\n",
    "df_OutputSteamGames.dropna(subset=['Genres'], inplace=True)"
   ]
  },
  {
   "cell_type": "code",
   "execution_count": 245,
   "metadata": {},
   "outputs": [
    {
     "data": {
      "text/plain": [
       "0"
      ]
     },
     "execution_count": 245,
     "metadata": {},
     "output_type": "execute_result"
    }
   ],
   "source": [
    "# Chequeamos como quedo\n",
    "df_OutputSteamGames['Genres'].isnull().sum()"
   ]
  },
  {
   "cell_type": "code",
   "execution_count": 246,
   "metadata": {},
   "outputs": [
    {
     "name": "stdout",
     "output_type": "stream",
     "text": [
      "Genres  (nulos) =  0\n",
      "ItemName  (nulos) =  0\n",
      "ReleaseDate  (nulos) =  2308\n",
      "Price  (nulos) =  0\n",
      "ItemId  (nulos) =  0\n",
      "Developer  (nulos) =  0\n",
      "\n",
      "filas completamente nulas:  0\n",
      "  nombre_campo                                         tipo_datos  no_nulos_%  \\\n",
      "0       Genres                                   [<class 'list'>]      100.00   \n",
      "1     ItemName                                    [<class 'str'>]      100.00   \n",
      "2  ReleaseDate  [<class 'pandas._libs.tslibs.timestamps.Timest...       92.79   \n",
      "3        Price                                  [<class 'float'>]      100.00   \n",
      "4       ItemId                                    [<class 'int'>]      100.00   \n",
      "5    Developer                                    [<class 'str'>]      100.00   \n",
      "\n",
      "   nulos_%  \n",
      "0     0.00  \n",
      "1     0.00  \n",
      "2     7.21  \n",
      "3     0.00  \n",
      "4     0.00  \n",
      "5     0.00  \n"
     ]
    }
   ],
   "source": [
    "# Volvemos a verificar como quedaron la columnas y los valores faltantes\n",
    "df_info = verificar_tipo_datos(df_OutputSteamGames)\n",
    "print(df_info)"
   ]
  },
  {
   "cell_type": "code",
   "execution_count": 247,
   "metadata": {},
   "outputs": [
    {
     "name": "stdout",
     "output_type": "stream",
     "text": [
      "Número de filas en el DataFrame: 31994 de 32135\n"
     ]
    }
   ],
   "source": [
    "# Al final de la Transformacion nos quedamos con estos registros\n",
    "num_rows, num_columns = df_OutputSteamGames.shape\n",
    "print(f'Número de filas en el DataFrame: {num_rows} de 32135')"
   ]
  },
  {
   "cell_type": "markdown",
   "metadata": {},
   "source": [
    "Ahora guardamos el Dataframe en un .csv ya con los procesos de transformacion realizados"
   ]
  },
  {
   "cell_type": "code",
   "execution_count": 248,
   "metadata": {},
   "outputs": [],
   "source": [
    "# Definimos la ruta relativa\n",
    "ruta_relativa = os.path.join('Datasets-Limpios', 'output_games.parquet')\n",
    "\n",
    "# Guardamos el DataFrame en un archivo CSV con la ruta relativa\n",
    "df_OutputSteamGames.to_parquet(ruta_relativa, index=False)"
   ]
  },
  {
   "cell_type": "markdown",
   "metadata": {},
   "source": [
    "---------------------------------------------------------"
   ]
  },
  {
   "cell_type": "markdown",
   "metadata": {},
   "source": [
    "Analizamos el Dataframe df_UserReviews"
   ]
  },
  {
   "cell_type": "code",
   "execution_count": 249,
   "metadata": {},
   "outputs": [
    {
     "name": "stdout",
     "output_type": "stream",
     "text": [
      "funny  (nulos) =  0\n",
      "posted  (nulos) =  0\n",
      "last_edited  (nulos) =  0\n",
      "item_id  (nulos) =  0\n",
      "helpful  (nulos) =  0\n",
      "recommend  (nulos) =  0\n",
      "review  (nulos) =  0\n",
      "user_id  (nulos) =  0\n",
      "user_url  (nulos) =  0\n",
      "\n",
      "filas completamente nulas:  0\n",
      "  nombre_campo        tipo_datos  no_nulos_%  nulos_%\n",
      "0        funny   [<class 'str'>]       100.0      0.0\n",
      "1       posted   [<class 'str'>]       100.0      0.0\n",
      "2  last_edited   [<class 'str'>]       100.0      0.0\n",
      "3      item_id   [<class 'str'>]       100.0      0.0\n",
      "4      helpful   [<class 'str'>]       100.0      0.0\n",
      "5    recommend  [<class 'bool'>]       100.0      0.0\n",
      "6       review   [<class 'str'>]       100.0      0.0\n",
      "7      user_id   [<class 'str'>]       100.0      0.0\n",
      "8     user_url   [<class 'str'>]       100.0      0.0\n"
     ]
    }
   ],
   "source": [
    "# vamos a verificar como esta el dataframe\n",
    "df_info = verificar_tipo_datos(df_UserReviews)\n",
    "print(df_info)"
   ]
  },
  {
   "cell_type": "code",
   "execution_count": 250,
   "metadata": {},
   "outputs": [
    {
     "data": {
      "text/html": [
       "<div>\n",
       "<style scoped>\n",
       "    .dataframe tbody tr th:only-of-type {\n",
       "        vertical-align: middle;\n",
       "    }\n",
       "\n",
       "    .dataframe tbody tr th {\n",
       "        vertical-align: top;\n",
       "    }\n",
       "\n",
       "    .dataframe thead th {\n",
       "        text-align: right;\n",
       "    }\n",
       "</style>\n",
       "<table border=\"1\" class=\"dataframe\">\n",
       "  <thead>\n",
       "    <tr style=\"text-align: right;\">\n",
       "      <th></th>\n",
       "      <th>funny</th>\n",
       "      <th>posted</th>\n",
       "      <th>last_edited</th>\n",
       "      <th>item_id</th>\n",
       "      <th>helpful</th>\n",
       "      <th>recommend</th>\n",
       "      <th>review</th>\n",
       "      <th>user_id</th>\n",
       "      <th>user_url</th>\n",
       "    </tr>\n",
       "  </thead>\n",
       "  <tbody>\n",
       "    <tr>\n",
       "      <th>0</th>\n",
       "      <td></td>\n",
       "      <td>Posted November 5, 2011.</td>\n",
       "      <td></td>\n",
       "      <td>1250</td>\n",
       "      <td>No ratings yet</td>\n",
       "      <td>True</td>\n",
       "      <td>Simple yet with great replayability. In my opi...</td>\n",
       "      <td>76561197970982479</td>\n",
       "      <td>http://steamcommunity.com/profiles/76561197970...</td>\n",
       "    </tr>\n",
       "    <tr>\n",
       "      <th>1</th>\n",
       "      <td></td>\n",
       "      <td>Posted July 15, 2011.</td>\n",
       "      <td></td>\n",
       "      <td>22200</td>\n",
       "      <td>No ratings yet</td>\n",
       "      <td>True</td>\n",
       "      <td>It's unique and worth a playthrough.</td>\n",
       "      <td>76561197970982479</td>\n",
       "      <td>http://steamcommunity.com/profiles/76561197970...</td>\n",
       "    </tr>\n",
       "    <tr>\n",
       "      <th>2</th>\n",
       "      <td></td>\n",
       "      <td>Posted April 21, 2011.</td>\n",
       "      <td></td>\n",
       "      <td>43110</td>\n",
       "      <td>No ratings yet</td>\n",
       "      <td>True</td>\n",
       "      <td>Great atmosphere. The gunplay can be a bit chu...</td>\n",
       "      <td>76561197970982479</td>\n",
       "      <td>http://steamcommunity.com/profiles/76561197970...</td>\n",
       "    </tr>\n",
       "    <tr>\n",
       "      <th>3</th>\n",
       "      <td></td>\n",
       "      <td>Posted June 24, 2014.</td>\n",
       "      <td></td>\n",
       "      <td>251610</td>\n",
       "      <td>15 of 20 people (75%) found this review helpful</td>\n",
       "      <td>True</td>\n",
       "      <td>I know what you think when you see this title ...</td>\n",
       "      <td>js41637</td>\n",
       "      <td>http://steamcommunity.com/id/js41637</td>\n",
       "    </tr>\n",
       "    <tr>\n",
       "      <th>4</th>\n",
       "      <td></td>\n",
       "      <td>Posted September 8, 2013.</td>\n",
       "      <td></td>\n",
       "      <td>227300</td>\n",
       "      <td>0 of 1 people (0%) found this review helpful</td>\n",
       "      <td>True</td>\n",
       "      <td>For a simple (it's actually not all that simpl...</td>\n",
       "      <td>js41637</td>\n",
       "      <td>http://steamcommunity.com/id/js41637</td>\n",
       "    </tr>\n",
       "  </tbody>\n",
       "</table>\n",
       "</div>"
      ],
      "text/plain": [
       "  funny                     posted last_edited item_id  \\\n",
       "0         Posted November 5, 2011.                1250   \n",
       "1            Posted July 15, 2011.               22200   \n",
       "2           Posted April 21, 2011.               43110   \n",
       "3            Posted June 24, 2014.              251610   \n",
       "4        Posted September 8, 2013.              227300   \n",
       "\n",
       "                                           helpful  recommend  \\\n",
       "0                                   No ratings yet       True   \n",
       "1                                   No ratings yet       True   \n",
       "2                                   No ratings yet       True   \n",
       "3  15 of 20 people (75%) found this review helpful       True   \n",
       "4     0 of 1 people (0%) found this review helpful       True   \n",
       "\n",
       "                                              review            user_id  \\\n",
       "0  Simple yet with great replayability. In my opi...  76561197970982479   \n",
       "1               It's unique and worth a playthrough.  76561197970982479   \n",
       "2  Great atmosphere. The gunplay can be a bit chu...  76561197970982479   \n",
       "3  I know what you think when you see this title ...            js41637   \n",
       "4  For a simple (it's actually not all that simpl...            js41637   \n",
       "\n",
       "                                            user_url  \n",
       "0  http://steamcommunity.com/profiles/76561197970...  \n",
       "1  http://steamcommunity.com/profiles/76561197970...  \n",
       "2  http://steamcommunity.com/profiles/76561197970...  \n",
       "3               http://steamcommunity.com/id/js41637  \n",
       "4               http://steamcommunity.com/id/js41637  "
      ]
     },
     "execution_count": 250,
     "metadata": {},
     "output_type": "execute_result"
    }
   ],
   "source": [
    "# Chequeamos el dataframe\n",
    "df_UserReviews.head()"
   ]
  },
  {
   "cell_type": "markdown",
   "metadata": {},
   "source": [
    "Chequeamos los duplicados y los tratamos"
   ]
  },
  {
   "cell_type": "code",
   "execution_count": 251,
   "metadata": {},
   "outputs": [
    {
     "name": "stdout",
     "output_type": "stream",
     "text": [
      "Número total de filas duplicadas: 874\n"
     ]
    }
   ],
   "source": [
    "# Duplicados\n",
    "duplicates = df_UserReviews.duplicated()\n",
    "print(f'Número total de filas duplicadas: {duplicates.sum()}')"
   ]
  },
  {
   "cell_type": "code",
   "execution_count": 252,
   "metadata": {},
   "outputs": [],
   "source": [
    "# Borro los duplicados\n",
    "df_UserReviews.drop_duplicates(inplace=True)"
   ]
  },
  {
   "cell_type": "code",
   "execution_count": 253,
   "metadata": {},
   "outputs": [
    {
     "name": "stdout",
     "output_type": "stream",
     "text": [
      "Número total de filas duplicadas: 0\n"
     ]
    }
   ],
   "source": [
    "# chequeamos como quedo\n",
    "duplicates = df_UserReviews.duplicated()\n",
    "print(f'Número total de filas duplicadas: {duplicates.sum()}')"
   ]
  },
  {
   "cell_type": "markdown",
   "metadata": {},
   "source": [
    "Ahora vamos a borrar las columnas que no nos sirven para el proyecto"
   ]
  },
  {
   "cell_type": "code",
   "execution_count": 254,
   "metadata": {},
   "outputs": [
    {
     "data": {
      "text/plain": [
       "Index(['funny', 'posted', 'last_edited', 'item_id', 'helpful', 'recommend',\n",
       "       'review', 'user_id', 'user_url'],\n",
       "      dtype='object')"
      ]
     },
     "execution_count": 254,
     "metadata": {},
     "output_type": "execute_result"
    }
   ],
   "source": [
    "# Vemos las columnas que tenemos\n",
    "df_UserReviews.columns"
   ]
  },
  {
   "cell_type": "code",
   "execution_count": 255,
   "metadata": {},
   "outputs": [],
   "source": [
    "# Vamos a borrar las columnas que no vamos a utilizar para el proyecto(last edited,  user_url, funny, helpful)\n",
    "df_UserReviews.drop(columns= ['last_edited', 'user_url', 'funny','helpful'], inplace=True)"
   ]
  },
  {
   "cell_type": "code",
   "execution_count": 256,
   "metadata": {},
   "outputs": [
    {
     "data": {
      "text/html": [
       "<div>\n",
       "<style scoped>\n",
       "    .dataframe tbody tr th:only-of-type {\n",
       "        vertical-align: middle;\n",
       "    }\n",
       "\n",
       "    .dataframe tbody tr th {\n",
       "        vertical-align: top;\n",
       "    }\n",
       "\n",
       "    .dataframe thead th {\n",
       "        text-align: right;\n",
       "    }\n",
       "</style>\n",
       "<table border=\"1\" class=\"dataframe\">\n",
       "  <thead>\n",
       "    <tr style=\"text-align: right;\">\n",
       "      <th></th>\n",
       "      <th>posted</th>\n",
       "      <th>item_id</th>\n",
       "      <th>recommend</th>\n",
       "      <th>review</th>\n",
       "      <th>user_id</th>\n",
       "    </tr>\n",
       "  </thead>\n",
       "  <tbody>\n",
       "    <tr>\n",
       "      <th>59300</th>\n",
       "      <td>Posted July 10.</td>\n",
       "      <td>70</td>\n",
       "      <td>True</td>\n",
       "      <td>a must have classic from steam definitely wort...</td>\n",
       "      <td>76561198312638244</td>\n",
       "    </tr>\n",
       "    <tr>\n",
       "      <th>59301</th>\n",
       "      <td>Posted July 8.</td>\n",
       "      <td>362890</td>\n",
       "      <td>True</td>\n",
       "      <td>this game is a perfect remake of the original ...</td>\n",
       "      <td>76561198312638244</td>\n",
       "    </tr>\n",
       "    <tr>\n",
       "      <th>59302</th>\n",
       "      <td>Posted July 3.</td>\n",
       "      <td>273110</td>\n",
       "      <td>True</td>\n",
       "      <td>had so much fun plaing this and collecting res...</td>\n",
       "      <td>LydiaMorley</td>\n",
       "    </tr>\n",
       "    <tr>\n",
       "      <th>59303</th>\n",
       "      <td>Posted July 20.</td>\n",
       "      <td>730</td>\n",
       "      <td>True</td>\n",
       "      <td>:D</td>\n",
       "      <td>LydiaMorley</td>\n",
       "    </tr>\n",
       "    <tr>\n",
       "      <th>59304</th>\n",
       "      <td>Posted July 2.</td>\n",
       "      <td>440</td>\n",
       "      <td>True</td>\n",
       "      <td>so much fun :D</td>\n",
       "      <td>LydiaMorley</td>\n",
       "    </tr>\n",
       "  </tbody>\n",
       "</table>\n",
       "</div>"
      ],
      "text/plain": [
       "                posted item_id  recommend  \\\n",
       "59300  Posted July 10.      70       True   \n",
       "59301   Posted July 8.  362890       True   \n",
       "59302   Posted July 3.  273110       True   \n",
       "59303  Posted July 20.     730       True   \n",
       "59304   Posted July 2.     440       True   \n",
       "\n",
       "                                                  review            user_id  \n",
       "59300  a must have classic from steam definitely wort...  76561198312638244  \n",
       "59301  this game is a perfect remake of the original ...  76561198312638244  \n",
       "59302  had so much fun plaing this and collecting res...        LydiaMorley  \n",
       "59303                                                 :D        LydiaMorley  \n",
       "59304                                     so much fun :D        LydiaMorley  "
      ]
     },
     "execution_count": 256,
     "metadata": {},
     "output_type": "execute_result"
    }
   ],
   "source": [
    "# chequeamos como quedo el dataframe\n",
    "df_UserReviews.tail()"
   ]
  },
  {
   "cell_type": "markdown",
   "metadata": {},
   "source": [
    "Vamos a reorganizar y cambiar los nombres de las columnas"
   ]
  },
  {
   "cell_type": "code",
   "execution_count": 257,
   "metadata": {},
   "outputs": [
    {
     "data": {
      "text/plain": [
       "Index(['posted', 'item_id', 'recommend', 'review', 'user_id'], dtype='object')"
      ]
     },
     "execution_count": 257,
     "metadata": {},
     "output_type": "execute_result"
    }
   ],
   "source": [
    "# Chequeamos cuales son los nombres del dataframe\n",
    "df_UserReviews.columns"
   ]
  },
  {
   "cell_type": "code",
   "execution_count": 258,
   "metadata": {},
   "outputs": [
    {
     "data": {
      "text/plain": [
       "Index(['ItemId', 'ItemName', 'PlaytimeForever', 'UserId', 'ItemsCount'], dtype='object')"
      ]
     },
     "execution_count": 258,
     "metadata": {},
     "output_type": "execute_result"
    }
   ],
   "source": [
    "# Vemos como quedaron las columnas con los nombres cambiados eb df_UserItems\n",
    "df_UserItems.columns"
   ]
  },
  {
   "cell_type": "markdown",
   "metadata": {},
   "source": [
    "Identificamos que ItemName de la Tabla df_UserItems es la misma que item_id de la tabla df_UserReviews, podemos usar el mismo nombre"
   ]
  },
  {
   "cell_type": "code",
   "execution_count": 259,
   "metadata": {},
   "outputs": [],
   "source": [
    "# vamos a renombrar las columnas en una manera standard y siguiendo buenas practicas \n",
    "df_UserReviews = df_UserReviews.rename(columns={'posted': 'DatePosted'})\n",
    "df_UserReviews = df_UserReviews.rename(columns={'item_id': 'ItemId'})\n",
    "df_UserReviews = df_UserReviews.rename(columns={'recommend': 'Recommend'})\n",
    "df_UserReviews = df_UserReviews.rename(columns={'review': 'Review'})\n",
    "df_UserReviews = df_UserReviews.rename(columns={'user_id': 'UserId'})"
   ]
  },
  {
   "cell_type": "code",
   "execution_count": 260,
   "metadata": {},
   "outputs": [
    {
     "data": {
      "text/plain": [
       "Index(['DatePosted', 'ItemId', 'Recommend', 'Review', 'UserId'], dtype='object')"
      ]
     },
     "execution_count": 260,
     "metadata": {},
     "output_type": "execute_result"
    }
   ],
   "source": [
    "# chequeamos como quedaron los cambios de nombres de las columnas\n",
    "df_UserReviews.columns"
   ]
  },
  {
   "cell_type": "markdown",
   "metadata": {},
   "source": [
    "Chequeamos el tipo de datos de las columnas"
   ]
  },
  {
   "cell_type": "code",
   "execution_count": 261,
   "metadata": {},
   "outputs": [
    {
     "name": "stdout",
     "output_type": "stream",
     "text": [
      "<class 'pandas.core.frame.DataFrame'>\n",
      "Int64Index: 58431 entries, 0 to 59304\n",
      "Data columns (total 5 columns):\n",
      " #   Column      Non-Null Count  Dtype \n",
      "---  ------      --------------  ----- \n",
      " 0   DatePosted  58431 non-null  object\n",
      " 1   ItemId      58431 non-null  object\n",
      " 2   Recommend   58431 non-null  bool  \n",
      " 3   Review      58431 non-null  object\n",
      " 4   UserId      58431 non-null  object\n",
      "dtypes: bool(1), object(4)\n",
      "memory usage: 2.3+ MB\n"
     ]
    }
   ],
   "source": [
    "df_UserReviews.info()"
   ]
  },
  {
   "cell_type": "code",
   "execution_count": 262,
   "metadata": {},
   "outputs": [],
   "source": [
    "# Vamos a cambiar el tipo de datos para las columnas ItemId\n",
    "df_UserReviews['ItemId'] = df_UserReviews['ItemId'].astype(int)"
   ]
  },
  {
   "cell_type": "code",
   "execution_count": 263,
   "metadata": {},
   "outputs": [
    {
     "data": {
      "text/plain": [
       "0         Posted November 5, 2011.\n",
       "1            Posted July 15, 2011.\n",
       "2           Posted April 21, 2011.\n",
       "3            Posted June 24, 2014.\n",
       "4        Posted September 8, 2013.\n",
       "                   ...            \n",
       "59300              Posted July 10.\n",
       "59301               Posted July 8.\n",
       "59302               Posted July 3.\n",
       "59303              Posted July 20.\n",
       "59304               Posted July 2.\n",
       "Name: DatePosted, Length: 58431, dtype: object"
      ]
     },
     "execution_count": 263,
     "metadata": {},
     "output_type": "execute_result"
    }
   ],
   "source": [
    "# ahora vemos el campo DatePosted que tiene un mal formato\n",
    "df_UserReviews['DatePosted']"
   ]
  },
  {
   "cell_type": "code",
   "execution_count": 264,
   "metadata": {},
   "outputs": [
    {
     "name": "stderr",
     "output_type": "stream",
     "text": [
      "C:\\Users\\frank\\AppData\\Local\\Temp\\ipykernel_21320\\2829926832.py:3: FutureWarning: The default value of regex will change from True to False in a future version. In addition, single character regular expressions will *not* be treated as literal strings when regex=True.\n",
      "  df_UserReviews.DatePosted=df_UserReviews.DatePosted.str.removeprefix('Posted').str.replace(',','').str.replace('.','')\n"
     ]
    }
   ],
   "source": [
    "# Ahora vamos a ver como podemos modificarlo para que nos quede en un formato correcto\n",
    "#quitamos la palabra posted, las comas y puntos\n",
    "df_UserReviews.DatePosted=df_UserReviews.DatePosted.str.removeprefix('Posted').str.replace(',','').str.replace('.','')"
   ]
  },
  {
   "cell_type": "code",
   "execution_count": 265,
   "metadata": {},
   "outputs": [
    {
     "data": {
      "text/html": [
       "<div>\n",
       "<style scoped>\n",
       "    .dataframe tbody tr th:only-of-type {\n",
       "        vertical-align: middle;\n",
       "    }\n",
       "\n",
       "    .dataframe tbody tr th {\n",
       "        vertical-align: top;\n",
       "    }\n",
       "\n",
       "    .dataframe thead th {\n",
       "        text-align: right;\n",
       "    }\n",
       "</style>\n",
       "<table border=\"1\" class=\"dataframe\">\n",
       "  <thead>\n",
       "    <tr style=\"text-align: right;\">\n",
       "      <th></th>\n",
       "      <th>DatePosted</th>\n",
       "      <th>ItemId</th>\n",
       "      <th>Recommend</th>\n",
       "      <th>Review</th>\n",
       "      <th>UserId</th>\n",
       "      <th>YearPosted</th>\n",
       "    </tr>\n",
       "  </thead>\n",
       "  <tbody>\n",
       "    <tr>\n",
       "      <th>0</th>\n",
       "      <td>November 5 2011</td>\n",
       "      <td>1250</td>\n",
       "      <td>True</td>\n",
       "      <td>Simple yet with great replayability. In my opi...</td>\n",
       "      <td>76561197970982479</td>\n",
       "      <td>2011</td>\n",
       "    </tr>\n",
       "    <tr>\n",
       "      <th>1</th>\n",
       "      <td>July 15 2011</td>\n",
       "      <td>22200</td>\n",
       "      <td>True</td>\n",
       "      <td>It's unique and worth a playthrough.</td>\n",
       "      <td>76561197970982479</td>\n",
       "      <td>2011</td>\n",
       "    </tr>\n",
       "    <tr>\n",
       "      <th>2</th>\n",
       "      <td>April 21 2011</td>\n",
       "      <td>43110</td>\n",
       "      <td>True</td>\n",
       "      <td>Great atmosphere. The gunplay can be a bit chu...</td>\n",
       "      <td>76561197970982479</td>\n",
       "      <td>2011</td>\n",
       "    </tr>\n",
       "    <tr>\n",
       "      <th>3</th>\n",
       "      <td>June 24 2014</td>\n",
       "      <td>251610</td>\n",
       "      <td>True</td>\n",
       "      <td>I know what you think when you see this title ...</td>\n",
       "      <td>js41637</td>\n",
       "      <td>2014</td>\n",
       "    </tr>\n",
       "    <tr>\n",
       "      <th>4</th>\n",
       "      <td>September 8 2013</td>\n",
       "      <td>227300</td>\n",
       "      <td>True</td>\n",
       "      <td>For a simple (it's actually not all that simpl...</td>\n",
       "      <td>js41637</td>\n",
       "      <td>2013</td>\n",
       "    </tr>\n",
       "  </tbody>\n",
       "</table>\n",
       "</div>"
      ],
      "text/plain": [
       "          DatePosted  ItemId  Recommend  \\\n",
       "0    November 5 2011    1250       True   \n",
       "1       July 15 2011   22200       True   \n",
       "2      April 21 2011   43110       True   \n",
       "3       June 24 2014  251610       True   \n",
       "4   September 8 2013  227300       True   \n",
       "\n",
       "                                              Review             UserId  \\\n",
       "0  Simple yet with great replayability. In my opi...  76561197970982479   \n",
       "1               It's unique and worth a playthrough.  76561197970982479   \n",
       "2  Great atmosphere. The gunplay can be a bit chu...  76561197970982479   \n",
       "3  I know what you think when you see this title ...            js41637   \n",
       "4  For a simple (it's actually not all that simpl...            js41637   \n",
       "\n",
       "  YearPosted  \n",
       "0       2011  \n",
       "1       2011  \n",
       "2       2011  \n",
       "3       2014  \n",
       "4       2013  "
      ]
     },
     "execution_count": 265,
     "metadata": {},
     "output_type": "execute_result"
    }
   ],
   "source": [
    "# sacamos el año de la columna posted y creamos una nueva columna con el año solamente\n",
    "df_UserReviews['YearPosted']=df_UserReviews.DatePosted.str.split(expand=True)[2]\n",
    "df_UserReviews.head()"
   ]
  },
  {
   "cell_type": "code",
   "execution_count": 266,
   "metadata": {},
   "outputs": [
    {
     "data": {
      "text/plain": [
       "9933"
      ]
     },
     "execution_count": 266,
     "metadata": {},
     "output_type": "execute_result"
    }
   ],
   "source": [
    "# Ahora chequeamos cuantos nulos nos quedo en la nueva columna YearPosted\n",
    "df_UserReviews['YearPosted'].isnull().sum()"
   ]
  },
  {
   "cell_type": "code",
   "execution_count": 267,
   "metadata": {},
   "outputs": [],
   "source": [
    "# Vamos a rellenar los años faltantes en el campo YearPosted con el año 2016 ya que es el año en curso en donde\n",
    "# se hicieron los reviews y fue la fecha de Release del titulo\n",
    "df_UserReviews.YearPosted.fillna('2016',inplace=True)"
   ]
  },
  {
   "cell_type": "code",
   "execution_count": 268,
   "metadata": {},
   "outputs": [
    {
     "data": {
      "text/plain": [
       "0"
      ]
     },
     "execution_count": 268,
     "metadata": {},
     "output_type": "execute_result"
    }
   ],
   "source": [
    "# Ahora chequeamos nuevamente como quedo el tratamiento que hicimos\n",
    "df_UserReviews['YearPosted'].isnull().sum()"
   ]
  },
  {
   "cell_type": "code",
   "execution_count": 269,
   "metadata": {},
   "outputs": [],
   "source": [
    "# Por ultimo vamos a borrar la columna en donde sacamos el año y ya no tiene utilidad\n",
    "df_UserReviews.drop(columns='DatePosted', inplace=True)"
   ]
  },
  {
   "cell_type": "code",
   "execution_count": 270,
   "metadata": {},
   "outputs": [],
   "source": [
    "# Para Terminar el proceso de transformacion en este dataframe vamos a cambiar el tipo de dato de YearPosted, que fue\n",
    "# creado con el año que se creo la review, por int ya que representa un numero con el año solamente\n",
    "df_UserReviews['YearPosted'] = df_UserReviews['YearPosted'].astype(int)"
   ]
  },
  {
   "cell_type": "code",
   "execution_count": 271,
   "metadata": {},
   "outputs": [
    {
     "name": "stdout",
     "output_type": "stream",
     "text": [
      "<class 'pandas.core.frame.DataFrame'>\n",
      "Int64Index: 58431 entries, 0 to 59304\n",
      "Data columns (total 5 columns):\n",
      " #   Column      Non-Null Count  Dtype \n",
      "---  ------      --------------  ----- \n",
      " 0   ItemId      58431 non-null  int32 \n",
      " 1   Recommend   58431 non-null  bool  \n",
      " 2   Review      58431 non-null  object\n",
      " 3   UserId      58431 non-null  object\n",
      " 4   YearPosted  58431 non-null  int32 \n",
      "dtypes: bool(1), int32(2), object(2)\n",
      "memory usage: 1.8+ MB\n"
     ]
    }
   ],
   "source": [
    "# Chequeamos como quedaron los tipos de datos en las columnas\n",
    "df_UserReviews.info()"
   ]
  },
  {
   "cell_type": "markdown",
   "metadata": {},
   "source": [
    "Por ultimo vamos a crear el .csv con la transformacion y limpieza hecha"
   ]
  },
  {
   "cell_type": "code",
   "execution_count": 272,
   "metadata": {},
   "outputs": [],
   "source": [
    "# Definimos la ruta relativa\n",
    "ruta_relativa = os.path.join('Datasets-Limpios', 'user_reviews.parquet')\n",
    "\n",
    "# Guardamos el DataFrame en un archivo CSV con la ruta relativa\n",
    "df_UserReviews.to_parquet(ruta_relativa, index=False)"
   ]
  }
 ],
 "metadata": {
  "kernelspec": {
   "display_name": "Python 3",
   "language": "python",
   "name": "python3"
  },
  "language_info": {
   "codemirror_mode": {
    "name": "ipython",
    "version": 3
   },
   "file_extension": ".py",
   "mimetype": "text/x-python",
   "name": "python",
   "nbconvert_exporter": "python",
   "pygments_lexer": "ipython3",
   "version": "3.11.6"
  }
 },
 "nbformat": 4,
 "nbformat_minor": 2
}
