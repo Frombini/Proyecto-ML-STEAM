{
 "cells": [
  {
   "cell_type": "code",
   "execution_count": 46,
   "metadata": {},
   "outputs": [],
   "source": [
    "import pandas as pd\n",
    "import os\n",
    "from sklearn.feature_extraction.text import CountVectorizer\n",
    "from sklearn.metrics.pairwise import cosine_similarity\n",
    "import numpy as np\n",
    "import ast"
   ]
  },
  {
   "cell_type": "markdown",
   "metadata": {},
   "source": [
    "Sistema de recomendación item-item:\n",
    "\n",
    "    def recomendacion_juego( id de producto ): Ingresando el id de producto, deberíamos recibir una lista con 5 juegos recomendados similares al ingresado."
   ]
  },
  {
   "cell_type": "markdown",
   "metadata": {},
   "source": [
    "Ruta relativa para traer el dataset limpio que vamos a utilizar y creamos un dataframe para trabajar"
   ]
  },
  {
   "cell_type": "code",
   "execution_count": 47,
   "metadata": {},
   "outputs": [],
   "source": [
    "# creamos las variables para las Rutas relativas a los archivos JSON\n",
    "ruta_Output_Steam_Games = os.path.join('Datasets-Limpios', 'output_games.parquet')\n",
    "# Creamos el dataframe\n",
    "games = pd.read_parquet(ruta_Output_Steam_Games)\n",
    "# Solo nos quedamos con las columnas que vamos a necesitar\n",
    "modelo_df = games.loc[:, [\"Genres\", \"ItemId\",'ItemName']]"
   ]
  },
  {
   "cell_type": "code",
   "execution_count": 48,
   "metadata": {},
   "outputs": [
    {
     "name": "stdout",
     "output_type": "stream",
     "text": [
      "0              Action, Casual, Indie, Simulation, Strategy\n",
      "1                       Free to Play, Indie, RPG, Strategy\n",
      "2          Casual, Free to Play, Indie, Simulation, Sports\n",
      "3                                Action, Adventure, Casual\n",
      "4                            Action, Indie, Casual, Sports\n",
      "                               ...                        \n",
      "31989                  Casual, Indie, Simulation, Strategy\n",
      "31990                              Casual, Indie, Strategy\n",
      "31991                            Indie, Racing, Simulation\n",
      "31992                                        Casual, Indie\n",
      "31993    Early Access, Adventure, Indie, Action, Simula...\n",
      "Name: Genres, Length: 31994, dtype: object\n"
     ]
    }
   ],
   "source": [
    "# Asignamos la columna 'Genres' a una variable para luego tratarla y limpiar caracteres\n",
    "genres_variable = modelo_df['Genres'].copy()\n",
    "# Convertimos a cadena antes de reemplazar los corchetes que queremos sacar\n",
    "genres_variable = genres_variable.apply(lambda x: str(x).replace('[', '').replace(']', ''))\n",
    "# Eliminamos las comillas y agregamos comas entre los géneros para separalos\n",
    "genres_variable = genres_variable.apply(lambda x: ', '.join(filter(None, map(str.strip, x.split(\"'\")))) if isinstance(x, str) else x)\n",
    "# Reemplazamos la columna 'Genres' en el DataFrame original con la nueva columna tratada\n",
    "modelo_df['Genres'] = genres_variable\n",
    "# Imprimimos para ver como quedo la columna después de reemplazar\n",
    "print(modelo_df['Genres'])"
   ]
  },
  {
   "cell_type": "code",
   "execution_count": 49,
   "metadata": {},
   "outputs": [],
   "source": [
    "#vamos a cambiar unos errores que hay en la columna Genres\n",
    "# como vemos hay unos errores de caracteres, que vamos a solucionar de la siguiente manera\n",
    "modelo_df['Genres'] = modelo_df['Genres'].replace('Design &amp; Illustration', 'Design & Illustration')\n",
    "modelo_df['Genres'] = modelo_df['Genres'].replace('Animation &amp; Modeling', 'Animation & Modeling')"
   ]
  },
  {
   "cell_type": "code",
   "execution_count": 50,
   "metadata": {},
   "outputs": [
    {
     "name": "stdout",
     "output_type": "stream",
     "text": [
      "['Action, Casual, Indie, Simulation, Strategy'\n",
      " 'Free to Play, Indie, RPG, Strategy'\n",
      " 'Casual, Free to Play, Indie, Simulation, Sports' ...\n",
      " 'Action, Massively Multiplayer, Strategy'\n",
      " 'Video Production, Utilities, Web Publishing'\n",
      " 'Early Access, Adventure, Indie, Action, Simulation']\n"
     ]
    }
   ],
   "source": [
    "print(modelo_df['Genres'].unique())"
   ]
  },
  {
   "cell_type": "markdown",
   "metadata": {},
   "source": [
    "Vamos a empezar con el modelo de machine learning"
   ]
  },
  {
   "cell_type": "markdown",
   "metadata": {},
   "source": [
    "CountVectorizer es una clase de la biblioteca scikit-learn que se utiliza para convertir una colección de documentos de texto en una matriz de recuento de términos o tokens. \n",
    "\n",
    "Toma un conjunto de documentos de texto y crea una representación numérica de esos documentos en forma de una matriz donde cada fila representa un documento y cada columna representa una palabra única en el conjunto de documentos. La entrada en cada celda de la matriz indica cuántas veces aparece esa palabra en el documento correspondiente."
   ]
  },
  {
   "cell_type": "code",
   "execution_count": 51,
   "metadata": {},
   "outputs": [],
   "source": [
    "# Cargamos en la variable cv, CountVectorizer que es la herramienta de preprocesamiento que convierte datos \n",
    "# de texto en una representación numérica adecuada para ser utilizada por algoritmos de aprendizaje automático\n",
    "cv = CountVectorizer()"
   ]
  },
  {
   "cell_type": "code",
   "execution_count": 52,
   "metadata": {},
   "outputs": [
    {
     "data": {
      "text/plain": [
       "(31994, 33)"
      ]
     },
     "execution_count": 52,
     "metadata": {},
     "output_type": "execute_result"
    }
   ],
   "source": [
    "# ahora vamos a ajustar la herramienta CountVectorizer al contenido de la columna 'Genres' \n",
    "# y transformar esos datos en una matriz de recuento de términos\n",
    "# Con .toarray(): Convierte la representación dispersa de la matriz de recuento de términos a una matriz densa.\n",
    "# .shape: Devuelve la forma (número de filas y columnas) de la matriz resultante.\n",
    "cv.fit_transform(modelo_df['Genres']).toarray().shape"
   ]
  },
  {
   "cell_type": "code",
   "execution_count": 53,
   "metadata": {},
   "outputs": [],
   "source": [
    "# Se generan los vectores a comparar \n",
    "vectores = cv.fit_transform(modelo_df['Genres']).toarray()"
   ]
  },
  {
   "cell_type": "code",
   "execution_count": 54,
   "metadata": {},
   "outputs": [
    {
     "data": {
      "text/plain": [
       "array([[0, 0, 1, ..., 0, 0, 0],\n",
       "       [0, 0, 0, ..., 0, 0, 0],\n",
       "       [0, 0, 0, ..., 0, 0, 0],\n",
       "       ...,\n",
       "       [0, 0, 0, ..., 0, 0, 0],\n",
       "       [0, 0, 0, ..., 0, 0, 0],\n",
       "       [1, 0, 1, ..., 0, 0, 0]], dtype=int64)"
      ]
     },
     "execution_count": 54,
     "metadata": {},
     "output_type": "execute_result"
    }
   ],
   "source": [
    "# Mostramos como quedo Nuestra variable vectores\n",
    "vectores"
   ]
  },
  {
   "cell_type": "markdown",
   "metadata": {},
   "source": [
    "cosine_similarity() nos va a servir para Calcular la similitud coseno entre todos los pares de vectores en la matriz.\n",
    "\n",
    "La similitud coseno es una medida de similitud entre dos vectores en un espacio multidimensional que mide el coseno del ángulo entre ellos. Se utiliza comúnmente para comparar la similitud entre documentos en el análisis de texto."
   ]
  },
  {
   "cell_type": "code",
   "execution_count": 55,
   "metadata": {},
   "outputs": [],
   "source": [
    "# Aplicamos la similitud del coseno a nuestros vectores\n",
    "similitud = cosine_similarity(vectores)"
   ]
  },
  {
   "cell_type": "code",
   "execution_count": 56,
   "metadata": {},
   "outputs": [
    {
     "data": {
      "text/plain": [
       "array([1.        , 0.36514837, 0.50709255, ..., 0.51639778, 0.63245553,\n",
       "       0.54772256])"
      ]
     },
     "execution_count": 56,
     "metadata": {},
     "output_type": "execute_result"
    }
   ],
   "source": [
    "# Se obtiene el array de similitud\n",
    "similitud[0]"
   ]
  },
  {
   "cell_type": "code",
   "execution_count": 57,
   "metadata": {},
   "outputs": [
    {
     "data": {
      "text/plain": [
       "[(3336, 0.9999999999999999),\n",
       " (3553, 0.9999999999999999),\n",
       " (5340, 0.9999999999999999),\n",
       " (5690, 0.9999999999999999),\n",
       " (6903, 0.9999999999999999)]"
      ]
     },
     "execution_count": 57,
     "metadata": {},
     "output_type": "execute_result"
    }
   ],
   "source": [
    "# Ordenamos la similitud entre más similar a menos similar tomando 5 valores\n",
    "sorted(list(enumerate(similitud[0])), reverse=True, key=lambda x:x[1])[1:6]"
   ]
  },
  {
   "cell_type": "markdown",
   "metadata": {},
   "source": [
    "Ahora que tenemos la matriz ya ordenada y tomamos los valores que necesitamos, vamos a generar una funcion para poder despues crear una columna y guardar los datos para agilizar la funcion consulta"
   ]
  },
  {
   "cell_type": "code",
   "execution_count": 59,
   "metadata": {},
   "outputs": [],
   "source": [
    "# Se genera una función que te da la recomendación por título\n",
    "def recomendacion(id_juego):\n",
    "    # Obtenemos el índice del juego con el ID dado\n",
    "    indice_juego = modelo_df[modelo_df[\"ItemId\"] == id_juego].index[0]\n",
    "\n",
    "    # Obtenemos las distancias de similitud para el juego dado\n",
    "    distances = similitud[indice_juego]\n",
    "\n",
    "    # Ordenamos las distancias en orden descendente y obtener las 5 recomendaciones principales (excluyendo el juego dado)\n",
    "    lista_juegos = sorted(list(enumerate(distances)), reverse=True, key=lambda x: x[1])[1:6]\n",
    "\n",
    "    # Obtenemos los nombres de los juegos recomendados\n",
    "    recommended_titles = [modelo_df.iloc[i[0]]['ItemName'] for i in lista_juegos]\n",
    "\n",
    "    return recommended_titles"
   ]
  },
  {
   "cell_type": "markdown",
   "metadata": {},
   "source": [
    "Vamos a aplicar la funcion al dataframe modelo_df para crear la columna RecomendacionesTop5 con todas las recomendaciones que nos arrojo el array y la funcion"
   ]
  },
  {
   "cell_type": "code",
   "execution_count": 60,
   "metadata": {},
   "outputs": [],
   "source": [
    "# Se aplica la función al dataframe para obtener una nueva columna con las recomendaciones ya que es más facil \n",
    "# de cargar y leer para la funcion\n",
    "modelo_df['RecomendacionesTop5'] = modelo_df['ItemId'].apply(recomendacion)"
   ]
  },
  {
   "cell_type": "code",
   "execution_count": 61,
   "metadata": {},
   "outputs": [
    {
     "name": "stdout",
     "output_type": "stream",
     "text": [
      "<class 'pandas.core.frame.DataFrame'>\n",
      "RangeIndex: 31994 entries, 0 to 31993\n",
      "Data columns (total 4 columns):\n",
      " #   Column               Non-Null Count  Dtype \n",
      "---  ------               --------------  ----- \n",
      " 0   Genres               31994 non-null  object\n",
      " 1   ItemId               31994 non-null  int32 \n",
      " 2   ItemName             31994 non-null  object\n",
      " 3   RecomendacionesTop5  31994 non-null  object\n",
      "dtypes: int32(1), object(3)\n",
      "memory usage: 875.0+ KB\n"
     ]
    }
   ],
   "source": [
    "# Vemos como nos quedaron las columnas y el peso del dataframe\n",
    "modelo_df.info()"
   ]
  },
  {
   "cell_type": "code",
   "execution_count": 62,
   "metadata": {},
   "outputs": [],
   "source": [
    "# Una vez echa la columna de recomendaciones podemos borrar los demas campos que no precisamos\n",
    "modelo_df.drop(columns=['ItemName','Genres'], inplace=True)"
   ]
  },
  {
   "cell_type": "code",
   "execution_count": 63,
   "metadata": {},
   "outputs": [
    {
     "name": "stdout",
     "output_type": "stream",
     "text": [
      "<class 'pandas.core.frame.DataFrame'>\n",
      "RangeIndex: 31994 entries, 0 to 31993\n",
      "Data columns (total 2 columns):\n",
      " #   Column               Non-Null Count  Dtype \n",
      "---  ------               --------------  ----- \n",
      " 0   ItemId               31994 non-null  int32 \n",
      " 1   RecomendacionesTop5  31994 non-null  object\n",
      "dtypes: int32(1), object(1)\n",
      "memory usage: 375.1+ KB\n"
     ]
    }
   ],
   "source": [
    "# Chequeamos\n",
    "modelo_df.info()"
   ]
  },
  {
   "cell_type": "markdown",
   "metadata": {},
   "source": [
    "Por ultimo creamos el CSV para alimentar la funcion consulta"
   ]
  },
  {
   "cell_type": "code",
   "execution_count": 64,
   "metadata": {},
   "outputs": [],
   "source": [
    "# Guardamos el resultado en un nuevo archivo CSV\n",
    "modelo_df.to_csv('consulta6.csv', index=False)"
   ]
  }
 ],
 "metadata": {
  "kernelspec": {
   "display_name": "venv",
   "language": "python",
   "name": "python3"
  },
  "language_info": {
   "codemirror_mode": {
    "name": "ipython",
    "version": 3
   },
   "file_extension": ".py",
   "mimetype": "text/x-python",
   "name": "python",
   "nbconvert_exporter": "python",
   "pygments_lexer": "ipython3",
   "version": "3.11.6"
  }
 },
 "nbformat": 4,
 "nbformat_minor": 2
}
