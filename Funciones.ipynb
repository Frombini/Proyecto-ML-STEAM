{
 "cells": [
  {
   "cell_type": "markdown",
   "metadata": {},
   "source": [
    "                            En este notebook vamos a escribir las funciones y probarlas"
   ]
  },
  {
   "cell_type": "code",
   "execution_count": 2,
   "metadata": {},
   "outputs": [],
   "source": [
    "import pandas as pd"
   ]
  },
  {
   "cell_type": "markdown",
   "metadata": {},
   "source": [
    "1.    def PlayTimeGenre( genero : str ): Debe devolver año con mas horas jugadas para dicho género.\n",
    "\n",
    "Ejemplo de retorno: {\"Año de lanzamiento con más horas jugadas para Género X\" : 2013}"
   ]
  },
  {
   "cell_type": "code",
   "execution_count": 3,
   "metadata": {},
   "outputs": [],
   "source": [
    "# Leemos el archivo consulta1.csv para utilizar la funcion\n",
    "consulta1 = pd.read_csv('consulta1.csv')"
   ]
  },
  {
   "cell_type": "code",
   "execution_count": 4,
   "metadata": {},
   "outputs": [
    {
     "name": "stdout",
     "output_type": "stream",
     "text": [
      "Estos son los generos disponibles:\n",
      "Action, Adventure, Animation & Modeling, Audio Production, Casual, Design & Illustration, Early Access, Education, Free to Play, Indie, Massively Multiplayer, Photo Editing, RPG, Racing, Simulation, Software Training, Sports, Strategy, Utilities, Video Production, Web Publishing\n",
      "tene en cuenta las mayusculas\n"
     ]
    }
   ],
   "source": [
    "Generos_Disponibles = consulta1['Genres'].unique().tolist()\n",
    "# Convertir la lista a una cadena sin corchetes y comillas\n",
    "Generos_Disponibles = ', '.join(Generos_Disponibles)\n",
    "# Imprimimos la informacion para el usuario de la API\n",
    "print('Estos son los generos disponibles:')\n",
    "print(Generos_Disponibles)\n",
    "print('tene en cuenta las mayusculas')"
   ]
  },
  {
   "cell_type": "code",
   "execution_count": 5,
   "metadata": {},
   "outputs": [],
   "source": [
    "def PlayTimeGenre(genero):\n",
    "    # Filtrar el DataFrame para el género específico\n",
    "    filtered_df = consulta1[consulta1['Genres'] == genero]\n",
    "\n",
    "    if filtered_df.empty:\n",
    "        return {\"Género no encontrado en el conjunto de datos\"}\n",
    "\n",
    "    # Agrupar por año de lanzamiento y sumar las horas jugadas\n",
    "    grouped_df = filtered_df.groupby('ReleaseDate')['PlaytimeForever'].sum()\n",
    "\n",
    "    # Encontrar el año con más horas jugadas\n",
    "    max_year = grouped_df.idxmax()\n",
    "\n",
    "    # Devolver el resultado como un diccionario\n",
    "    result = {\"Año de lanzamiento con más horas jugadas para {}:\".format(genero): max_year}\n",
    "\n",
    "    return result"
   ]
  },
  {
   "cell_type": "markdown",
   "metadata": {},
   "source": [
    "Probamos la funcion"
   ]
  },
  {
   "cell_type": "code",
   "execution_count": 6,
   "metadata": {},
   "outputs": [
    {
     "data": {
      "text/plain": [
       "{'Año de lanzamiento con más horas jugadas para Adventure:': 2011}"
      ]
     },
     "execution_count": 6,
     "metadata": {},
     "output_type": "execute_result"
    }
   ],
   "source": [
    "PlayTimeGenre('Adventure')"
   ]
  },
  {
   "cell_type": "code",
   "execution_count": 7,
   "metadata": {},
   "outputs": [
    {
     "data": {
      "text/plain": [
       "{'Año de lanzamiento con más horas jugadas para Indie:': 2006}"
      ]
     },
     "execution_count": 7,
     "metadata": {},
     "output_type": "execute_result"
    }
   ],
   "source": [
    "PlayTimeGenre('Indie')"
   ]
  },
  {
   "cell_type": "code",
   "execution_count": 8,
   "metadata": {},
   "outputs": [
    {
     "data": {
      "text/plain": [
       "{'Género no encontrado en el conjunto de datos'}"
      ]
     },
     "execution_count": 8,
     "metadata": {},
     "output_type": "execute_result"
    }
   ],
   "source": [
    "PlayTimeGenre('prueba')"
   ]
  },
  {
   "cell_type": "code",
   "execution_count": 9,
   "metadata": {},
   "outputs": [
    {
     "data": {
      "text/plain": [
       "{'Año de lanzamiento con más horas jugadas para Design & Illustration:': 2012}"
      ]
     },
     "execution_count": 9,
     "metadata": {},
     "output_type": "execute_result"
    }
   ],
   "source": [
    "PlayTimeGenre('Design & Illustration')"
   ]
  },
  {
   "cell_type": "code",
   "execution_count": 10,
   "metadata": {},
   "outputs": [
    {
     "data": {
      "text/plain": [
       "{'Género no encontrado en el conjunto de datos'}"
      ]
     },
     "execution_count": 10,
     "metadata": {},
     "output_type": "execute_result"
    }
   ],
   "source": [
    "PlayTimeGenre('')"
   ]
  },
  {
   "cell_type": "markdown",
   "metadata": {},
   "source": [
    "-----------------------------------------------------------------------------------------------"
   ]
  },
  {
   "cell_type": "markdown",
   "metadata": {},
   "source": [
    "2.    def UserForGenre( genero : str ): Debe devolver el usuario que acumula más horas jugadas para el género dado y una lista de la acumulación de horas jugadas por año.\n",
    "\n",
    "Ejemplo de retorno: {\"Usuario con más horas jugadas para Género X\" : us213ndjss09sdf, \"Horas jugadas\":[{Año: 2013, Horas: 203}, {Año: 2012, Horas: 100}, {Año: 2011, Horas: 23}]}"
   ]
  },
  {
   "cell_type": "code",
   "execution_count": 11,
   "metadata": {},
   "outputs": [],
   "source": [
    "consulta2 = pd.read_csv('consulta2.csv')"
   ]
  },
  {
   "cell_type": "code",
   "execution_count": 22,
   "metadata": {},
   "outputs": [
    {
     "name": "stdout",
     "output_type": "stream",
     "text": [
      "Estos son los generos disponibles:\n",
      "Action, Adventure, Animation & Modeling, Audio Production, Casual, Design & Illustration, Early Access, Education, Free to Play, Indie, Massively Multiplayer, Photo Editing, RPG, Racing, Simulation, Software Training, Sports, Strategy, Utilities, Video Production, Web Publishing\n",
      "tene en cuenta las mayusculas\n"
     ]
    }
   ],
   "source": [
    "Generos_Disponibles = consulta1['Genres'].unique().tolist()\n",
    "# Convertir la lista a una cadena sin corchetes y comillas\n",
    "Generos_Disponibles = ', '.join(Generos_Disponibles)\n",
    "# Imprimimos la informacion para el usuario de la API\n",
    "print('Estos son los generos disponibles:')\n",
    "print(Generos_Disponibles)\n",
    "print('tene en cuenta las mayusculas')"
   ]
  },
  {
   "cell_type": "code",
   "execution_count": 20,
   "metadata": {},
   "outputs": [],
   "source": [
    "import pandas as pd\n",
    "\n",
    "def UserForGenre(genero:str):\n",
    "    # Filtrar el DataFrame por el género dado\n",
    "    genre_data = consulta2[consulta2['Genres'] == genero]\n",
    "\n",
    "    # Encontrar al usuario con más horas jugadas para ese género\n",
    "    top_user = genre_data.loc[genre_data['PlaytimeForever'].idxmax()]['UserId']\n",
    "\n",
    "    # Crear una lista de acumulación de horas jugadas por año\n",
    "    hours_by_year = genre_data.groupby('ReleaseDate')['PlaytimeForever'].sum().reset_index()\n",
    "    hours_by_year = hours_by_year.rename(columns={'ReleaseDate': 'Año', 'PlaytimeForever': 'Horas'})\n",
    "    # Convertir las horas a enteros (int) dividiendo por 60\n",
    "    hours_by_year['Horas'] = (hours_by_year['Horas'] / 60).astype(int)\n",
    "    hours_list = hours_by_year.to_dict(orient='records')\n",
    "\n",
    "    # Crear el diccionario de retorno\n",
    "    result = {\n",
    "        \"Usuario con más horas jugadas para Género {}\".format(genero): top_user,\n",
    "        \"Horas jugadas\": hours_list\n",
    "    }\n",
    "\n",
    "    return result"
   ]
  },
  {
   "cell_type": "code",
   "execution_count": 23,
   "metadata": {},
   "outputs": [
    {
     "data": {
      "text/plain": [
       "{'Usuario con más horas jugadas para Género Adventure': 'Evilutional',\n",
       " 'Horas jugadas': [{'Año': 1983, 'Horas': 16},\n",
       "  {'Año': 1984, 'Horas': 5},\n",
       "  {'Año': 1987, 'Horas': 71},\n",
       "  {'Año': 1988, 'Horas': 522},\n",
       "  {'Año': 1989, 'Horas': 137},\n",
       "  {'Año': 1990, 'Horas': 19},\n",
       "  {'Año': 1991, 'Horas': 38},\n",
       "  {'Año': 1992, 'Horas': 90},\n",
       "  {'Año': 1993, 'Horas': 324},\n",
       "  {'Año': 1994, 'Horas': 74},\n",
       "  {'Año': 1995, 'Horas': 14},\n",
       "  {'Año': 1996, 'Horas': 378},\n",
       "  {'Año': 1997, 'Horas': 158},\n",
       "  {'Año': 1998, 'Horas': 71},\n",
       "  {'Año': 1999, 'Horas': 14},\n",
       "  {'Año': 2000, 'Horas': 1595},\n",
       "  {'Año': 2001, 'Horas': 138},\n",
       "  {'Año': 2002, 'Horas': 1452},\n",
       "  {'Año': 2003, 'Horas': 1163},\n",
       "  {'Año': 2004, 'Horas': 54},\n",
       "  {'Año': 2005, 'Horas': 79},\n",
       "  {'Año': 2006, 'Horas': 78},\n",
       "  {'Año': 2007, 'Horas': 92},\n",
       "  {'Año': 2008, 'Horas': 664},\n",
       "  {'Año': 2009, 'Horas': 549},\n",
       "  {'Año': 2010, 'Horas': 1172},\n",
       "  {'Año': 2011, 'Horas': 12319},\n",
       "  {'Año': 2012, 'Horas': 74117},\n",
       "  {'Año': 2013, 'Horas': 14959},\n",
       "  {'Año': 2014, 'Horas': 17102},\n",
       "  {'Año': 2015, 'Horas': 33340},\n",
       "  {'Año': 2016, 'Horas': 11707},\n",
       "  {'Año': 2017, 'Horas': 19883},\n",
       "  {'Año': 2018, 'Horas': 0}]}"
      ]
     },
     "execution_count": 23,
     "metadata": {},
     "output_type": "execute_result"
    }
   ],
   "source": [
    "UserForGenre('Adventure')"
   ]
  },
  {
   "cell_type": "markdown",
   "metadata": {},
   "source": [
    "-------------------------------------------------------------------"
   ]
  },
  {
   "cell_type": "markdown",
   "metadata": {},
   "source": [
    "3.    def UsersRecommend( año : int ): Devuelve el top 3 de juegos MÁS recomendados por usuarios para el año dado. (reviews.recommend = True y comentarios positivos/neutrales)\n",
    "\n",
    "Ejemplo de retorno: [{\"Puesto 1\" : X}, {\"Puesto 2\" : Y},{\"Puesto 3\" : Z}]"
   ]
  },
  {
   "cell_type": "code",
   "execution_count": 12,
   "metadata": {},
   "outputs": [],
   "source": [
    "# Leemos el archivo consulta1.csv para utilizar la funcion\n",
    "consulta3 = pd.read_csv('consulta3.csv')"
   ]
  },
  {
   "cell_type": "code",
   "execution_count": 13,
   "metadata": {},
   "outputs": [],
   "source": [
    "def UsersRecommend(año: int):\n",
    "    if type(año) != int:\n",
    "        return {\"Debes colocar el año en entero, EJ:2015\"}\n",
    "    if año < consulta3['YearPosted'].min() or año > consulta3['YearPosted'].max():\n",
    "        return {\"Año no encontrado en el conjunto de datos\"}\n",
    "    \n",
    "    # Filtrar por el año especificado y reseñas recomendadas y positivas/neutrales\n",
    "    filtered_reviews = consulta3[(consulta3['YearPosted'] == año)]\n",
    "    \n",
    "    # Obtener el top 3 de juegos más recomendados\n",
    "    top3_games = filtered_reviews.nlargest(3, 'total_sentiment_analysis')[['ItemName', 'total_sentiment_analysis']]\n",
    "    \n",
    "    # Crear el formato de retorno\n",
    "    retorno = [{f\"Puesto {i+1}\": juego} for i, juego in enumerate(top3_games['ItemName'])]\n",
    "\n",
    "    return retorno"
   ]
  },
  {
   "cell_type": "markdown",
   "metadata": {},
   "source": [
    "Hacemos pruebas con la funcion que creamos"
   ]
  },
  {
   "cell_type": "code",
   "execution_count": 14,
   "metadata": {},
   "outputs": [
    {
     "data": {
      "text/plain": [
       "[{'Puesto 1': 'PAYDAY 2'}, {'Puesto 2': 'Terraria'}, {'Puesto 3': 'Rust'}]"
      ]
     },
     "execution_count": 14,
     "metadata": {},
     "output_type": "execute_result"
    }
   ],
   "source": [
    "UsersRecommend(2015)"
   ]
  },
  {
   "cell_type": "code",
   "execution_count": 50,
   "metadata": {},
   "outputs": [
    {
     "data": {
      "text/plain": [
       "[{'Puesto 1': 'Rocket League®'},\n",
       " {'Puesto 2': 'ARK: Survival Evolved'},\n",
       " {'Puesto 3': 'Realm of the Mad God'}]"
      ]
     },
     "execution_count": 50,
     "metadata": {},
     "output_type": "execute_result"
    }
   ],
   "source": [
    "UsersRecommend(2016)"
   ]
  },
  {
   "cell_type": "code",
   "execution_count": 51,
   "metadata": {},
   "outputs": [
    {
     "data": {
      "text/plain": [
       "[{'Puesto 1': 'Alien Swarm'},\n",
       " {'Puesto 2': 'Amnesia: The Dark Descent'},\n",
       " {'Puesto 3': 'Supreme Commander 2'}]"
      ]
     },
     "execution_count": 51,
     "metadata": {},
     "output_type": "execute_result"
    }
   ],
   "source": [
    "UsersRecommend(2010)"
   ]
  },
  {
   "cell_type": "code",
   "execution_count": 52,
   "metadata": {},
   "outputs": [
    {
     "data": {
      "text/plain": [
       "[{'Puesto 1': 'Team Fortress 2'},\n",
       " {'Puesto 2': 'Counter-Strike: Global Offensive'},\n",
       " {'Puesto 3': 'Unturned'}]"
      ]
     },
     "execution_count": 52,
     "metadata": {},
     "output_type": "execute_result"
    }
   ],
   "source": [
    "UsersRecommend(2014)"
   ]
  },
  {
   "cell_type": "code",
   "execution_count": 53,
   "metadata": {},
   "outputs": [
    {
     "data": {
      "text/plain": [
       "{'Debes colocar el año en entero, EJ:2015'}"
      ]
     },
     "execution_count": 53,
     "metadata": {},
     "output_type": "execute_result"
    }
   ],
   "source": [
    "UsersRecommend('2015')"
   ]
  },
  {
   "cell_type": "code",
   "execution_count": 54,
   "metadata": {},
   "outputs": [
    {
     "data": {
      "text/plain": [
       "{'Año no encontrado en el conjunto de datos'}"
      ]
     },
     "execution_count": 54,
     "metadata": {},
     "output_type": "execute_result"
    }
   ],
   "source": [
    "UsersRecommend(1974)"
   ]
  },
  {
   "cell_type": "code",
   "execution_count": 55,
   "metadata": {},
   "outputs": [
    {
     "data": {
      "text/plain": [
       "{'Año no encontrado en el conjunto de datos'}"
      ]
     },
     "execution_count": 55,
     "metadata": {},
     "output_type": "execute_result"
    }
   ],
   "source": [
    "UsersRecommend(2099)"
   ]
  },
  {
   "cell_type": "code",
   "execution_count": 56,
   "metadata": {},
   "outputs": [
    {
     "data": {
      "text/plain": [
       "[{'Puesto 1': 'Killing Floor'},\n",
       " {'Puesto 2': 'Bastion'},\n",
       " {'Puesto 3': 'Half-Life 2: Episode Two'}]"
      ]
     },
     "execution_count": 56,
     "metadata": {},
     "output_type": "execute_result"
    }
   ],
   "source": [
    "UsersRecommend(2011)"
   ]
  },
  {
   "cell_type": "markdown",
   "metadata": {},
   "source": [
    "------------------------------------------------------------------------"
   ]
  },
  {
   "cell_type": "markdown",
   "metadata": {},
   "source": [
    "4.    def UsersWorstDeveloper( año : int ): Devuelve el top 3 de desarrolladoras con juegos MENOS recomendados por usuarios para el año dado. (reviews.recommend = False y comentarios negativos)\n",
    "\n",
    "Ejemplo de retorno: [{\"Puesto 1\" : X}, {\"Puesto 2\" : Y},{\"Puesto 3\" : Z}]"
   ]
  },
  {
   "cell_type": "code",
   "execution_count": 57,
   "metadata": {},
   "outputs": [],
   "source": [
    "consulta4 = pd.read_csv('consulta4.csv')"
   ]
  },
  {
   "cell_type": "code",
   "execution_count": 71,
   "metadata": {},
   "outputs": [],
   "source": [
    "def UsersWorstDeveloper(año):\n",
    "    if type(año) != int:\n",
    "        return {\"Debes colocar el año en entero, EJ:2015\"}\n",
    "    if año < consulta4['YearPosted'].min() or año > consulta4['YearPosted'].max():\n",
    "        return {\"Año no encontrado en el conjunto de datos\"}\n",
    "    # Filtrar el DataFrame para el año dado y donde las recomendaciones son False y comentarios negativos\n",
    "    filtered_df = consulta4[consulta4['YearPosted'] == año]\n",
    "\n",
    "    # Seleccionar las 3 desarrolladoras con más revisiones negativas\n",
    "    top_worst = filtered_df.groupby('Developer')['CountSentiment'].sum().nlargest(3).reset_index()\n",
    "\n",
    "    # Crear la lista de resultados en el formato deseado\n",
    "    result = [{\"Puesto {}: {}\".format(i + 1, row['Developer'])} for i, row in top_worst.iterrows()]\n",
    "\n",
    "    return result"
   ]
  },
  {
   "cell_type": "code",
   "execution_count": 72,
   "metadata": {},
   "outputs": [
    {
     "data": {
      "text/plain": [
       "[{'Puesto 1: Valve'},\n",
       " {'Puesto 2: Bohemia Interactive'},\n",
       " {'Puesto 3: Facepunch Studios'}]"
      ]
     },
     "execution_count": 72,
     "metadata": {},
     "output_type": "execute_result"
    }
   ],
   "source": [
    "UsersWorstDeveloper(2015)"
   ]
  },
  {
   "cell_type": "code",
   "execution_count": 75,
   "metadata": {},
   "outputs": [
    {
     "data": {
      "text/plain": [
       "{'Debes colocar el año en entero, EJ:2015'}"
      ]
     },
     "execution_count": 75,
     "metadata": {},
     "output_type": "execute_result"
    }
   ],
   "source": [
    "UsersWorstDeveloper('2002')"
   ]
  },
  {
   "cell_type": "code",
   "execution_count": 76,
   "metadata": {},
   "outputs": [
    {
     "data": {
      "text/plain": [
       "[{'Puesto 1: Broken Rules'}, {'Puesto 2: 1C Company'}, {'Puesto 3: Valve'}]"
      ]
     },
     "execution_count": 76,
     "metadata": {},
     "output_type": "execute_result"
    }
   ],
   "source": [
    "UsersWorstDeveloper(2011)"
   ]
  },
  {
   "cell_type": "code",
   "execution_count": 77,
   "metadata": {},
   "outputs": [
    {
     "data": {
      "text/plain": [
       "[{'Puesto 1: NeoCoreGames'},\n",
       " {'Puesto 2: Slant Six Games'},\n",
       " {'Puesto 3: Treyarch'}]"
      ]
     },
     "execution_count": 77,
     "metadata": {},
     "output_type": "execute_result"
    }
   ],
   "source": [
    "UsersWorstDeveloper(2012)"
   ]
  },
  {
   "cell_type": "markdown",
   "metadata": {},
   "source": [
    "------------------------------------------------------------------"
   ]
  },
  {
   "cell_type": "markdown",
   "metadata": {},
   "source": [
    "5.    def sentiment_analysis( empresa desarrolladora : str ): Según la empresa desarrolladora, se devuelve un diccionario con el nombre de la desarrolladora como llave y una lista con la cantidad total de registros de reseñas de usuarios que se encuentren categorizados con un análisis de sentimiento como valor.\n",
    "\n",
    "Ejemplo de retorno: {'Valve' : [Negative = 182, Neutral = 120, Positive = 278]}"
   ]
  },
  {
   "cell_type": "code",
   "execution_count": 63,
   "metadata": {},
   "outputs": [],
   "source": [
    "consulta5 = pd.read_csv('consulta5.csv')"
   ]
  },
  {
   "cell_type": "code",
   "execution_count": 64,
   "metadata": {},
   "outputs": [],
   "source": [
    "Desarrolladores = consulta5['Developer'].unique().tolist()"
   ]
  },
  {
   "cell_type": "code",
   "execution_count": 65,
   "metadata": {},
   "outputs": [
    {
     "name": "stdout",
     "output_type": "stream",
     "text": [
      "Esta es la lista de Desarrolladores disponibles ['Tripwire Interactive', 'ACE Team', 'SCS Software', '3909', 'Hopoo Games, LLC', 'Zachtronics', 'Supergiant Games', \"Phr00t's Software\", 'MinMax Games Ltd.', 'Robotronic Games', 'Telltale Games', 'CD PROJEKT RED', 'Rockstar Studios', 'Trion Worlds, Inc.', 'Remedy Entertainment', 'FromSoftware', 'Chucklefish', 'Valve', 'Ronimo Games', \"Traveller's Tales\", 'Trendy Entertainment', 'Psyonix, Inc.', 'Smartly Dressed Games', 'Facepunch Studios', 'Arrowhead Game Studios', 'Desconocido', 'No More Room in Hell Team', 'Gearbox Software,Aspyr (Mac &amp; Linux)', 'Squad', 'Might and Delight', 'Rebellion', 'TimeSymmetry', 'Vanguard Games,343 Industries', 'Irrational Games,Aspyr (Mac),Virtual Programming (Linux)', 'Noio,Licorice', 'Bohemia Interactive', 'Torn Banner Studios', 'Dinosaur Polo Club', 'Edge of Reality', 'NetherRealm Studios,High Voltage Software', 'Soviet Games', 'Bluehole, Inc.', 'TaleWorlds Entertainment', 'The Behemoth', 'Invent4 Entertainment', 'Edmund McMillen and Florian Himsl', 'Obsidian Entertainment', 'Re-Logic', 'Double Action Factory', 'Team Psykskallar', 'Jagex,Artplant', 'Klei Entertainment', 'Rockstar Games', 'treeform', 'tinyBuild', 'Robot Entertainment', 'G2CREW', 'Nabi Studios', 'Mouldy Toof Studios', 'Anarchy Enterprises', '2Play', 'Galactic Cafe', 'id Software', 'Kyle Seeley', 'New World Interactive', 'Bethesda Game Studios', 'Shining Rock Software LLC', 'Hanako Games', 'Code}{atch', 'FromSoftware, Inc', 'Dennaton Games', 'Greenheart Games', 'DICE', 'Awesome Games Studio', 'Digital Confectioners', 'Splash Damage', 'Ludeon Studios', 'Star Gem Inc.', 'Vitali Kirpu', 'Scott Cawthon', 'DONTNOD Entertainment,Feral Interactive (Mac),Feral Interactive (Linux)', 'Raven Software,Aspyr (Mac)', 'Volition', 'LucasArts,Aspyr Studios', 'Subset Games', 'tobyfox', 'Reloaded Productions', 'Firaxis Games,Feral Interactive (Mac),Feral Interactive (Linux)', 'Wild Shadow Studios', 'Trion Worlds', 'Matt Roszak', 'Silver Dollar Games', 'Coffee Stain Studios', 'Holy Priest', 'SEGA', 'Criterion Games', 'Expansive Worlds,Avalanche Studios', 'S2 Games', 'U.S. Army', 'Vlambeer', 'Reperio Studios', 'Katauri', 'SNK CORPORATION,DotEmu', 'Reto-Moto', 'Synergy Team', 'M2 Co.,LTD', '2K Marin,2K China,Digital Extremes,2K Australia,Feral Interactive (Mac)', 'Bossa Studios', 'Ubisoft Montreal, Massive Entertainment, and Ubisoft Shanghai', 'Keen Software House', 'Monolith Productions, Inc.', 'Entrada Interactive LLC', 'Hardsuit Labs', 'RobTop Games', 'Crowbar Collective', 'Studio Wildcard,Instinct Games,Efecto Studios,Virtual Basement LLC', 'Ubisoft Sofia,Ubisoft Kiev', 'Elijah Newman-Gomez', 'Stainless Games Ltd.', 'Jason Rohrer', 'Massive Entertainment', 'NGD Studios', 'Freejam', 'Daybreak Game Company', 'Blue Mammoth Games', 'Deep Silver Volition', 'xXarabongXx', 'Turtle Rock Studios', 'Serenity Forge', 'Smoking WOLF', 'Konami Digital Entertainment', 'Capcom', 'Skybox Labs,Hidden Path Entertainment,Ensemble Studios', 'SNK CORPORATION,Code Mystics', 'Rockstar North', 'Ubisoft Montreal, Red Storm, Shanghai, Toronto, Kiev', 'D-Pad Studio', 'Elias Viglione,Jussi Kukkonen', 'Cosmic Cow LLC', 'FireFly Studios', 'Team Fractal Alligator', 'Haemimont Games', 'Ubisoft Montreal', 'Rob Howland', 'Infinity Ward,Aspyr (Mac)', 'Pandemic Studios', 'Firaxis Games,Aspyr (Mac, Linux)', 'KOG', 'Digital Extremes', 'Relic Entertainment,Feral Interactive (Mac),Feral Interactive (Linux)', 'Avalanche Studios', 'Wolfire Games', 'Ubisoft', 'Shumkov Dmitriy', 'The Creative Assembly,Feral Interactive (Mac),Feral Interactive (Linux)', \"Devil's Details\", 'Hoobalugalar_X', 'Hello Games', 'Milestone S.r.l.', 'Monomi Park', 'Endnight Games Ltd', 'Section Studios', 'Treyarch', 'Acid Nerve', 'Extrokold Games', 'Gone North Games', 'Above and Beyond Technologies', 'Switchblade Monkeys Entertainment', 'Kuno Interactive', 'Hammerfall Publishing', 'Sproing', 'Black Death Apps Limited', 'Matthew Brown', 'Holotech Studios', 'Alexander Bruce', 'IonFx', 'SmashGames', 'Tigerish Games', 'Dylan Fitterer', 'Dingaling', 'Ankama Studio', 'Gearbox Software,Aspyr (Mac)', 'Phosphor Games Studio', 'Microblast Games', 'Crystal Dynamics,Feral Interactive (Mac),Feral Interactive (Linux)', 'Blackpowder Games', 'Avalanche Studios,Feral Interactive (Mac/Linux)', 'Techland', 'Double Fine Productions', 'Yager Development', 'Machine Games', 'Ubisoft Paris,Red Storm Entertainment', 'Square Enix Montréal', 'Threaks', 'Arc System Works', 'Krillbite Studio', 'Electronic Arts', 'Straight Right', 'Free Reign Entertainment', 'Infinity Ward', 'Crate Entertainment', 'Day 1 Studios', 'Lukewarm Media', 'OVERKILL - a Starbreeze Studio.', 'Incandescent Games', 'Blue Bottle Games', 'Creability', 'Visual Concepts', 'Introversion Software', 'Doctor Entertainment AB', 'Blender Foundation', 'Tomorrow Corporation', 'Andrew Gilmour', 'Fatshark', 'OVERKILL Software', 'DiezelPower', 'Pocketwatch Games', 'Fabio Ferrara,Davide Caio,Nicolò Azzolini,Antonio Carcagnì,Luigi Di Guida,Tommaso Vita', 'Digital Leisure Inc.', 'Campo Santo', 'Lionhead Studios', 'CodeBrush Games', 'Radical Entertainment', 'Creative Assembly', '2K Australia,Gearbox Software,Aspyr (Mac and Linux)', 'South East Games', '5th Cell Media', 'Eugen Systems', 'United Front Games,Feral Interactive (Mac)', 'KillHouse Games', 'Eric Hartman,Ben Garney,Anthony Rotondo', 'Terry Cavanagh', 'Trek Industries, Inc', 'Relic Entertainment', 'Noble Empire Corp.', 'SNK CORPORATION', 'Codemasters,Feral Interactive (Linux)', 'The Indie Stone', 'Dragonfly', 'JCKSLAP', 'Neoclassic Games', 'Humongous Entertainment', '5Wolf', 'Monolith Productions,Feral Interactive (Mac),Feral Interactive (Linux)', 'U-Play Online', 'Sauropod Studio', 'Beamdog', 'inXile Entertainment', 'Nicalis, Inc.', 'Cryptic Studios', 'Zero Point Software', 'Arkane Studios', 'Spiderling Studios', 'MercurySteam', 'Beam Team Games', 'Crytek', 'Freebird Games', 'Slant Six Games', 'WB Games Montreal,Splash Damage', 'Gaijin Games', 'Jagex Limited', 'M2H,Blackmill Games', 'Square Enix', 'Paradox Development Studio', 'Rocksteady Studios,Feral Interactive (Mac)', 'Undead Labs', 'Maxis™', 'Vagabond Dog', 'ALICE IN DISSONANCE', 'United Front Games', 'RedLynx, in collaboration with  Ubisoft Shanghai, Ubisoft Kiev', 'Muse Games', 'Running With Scissors', 'Spicy Tails', 'Standing Stone Games, LLC', 'Rockstar San Diego', 'Blue Manchu', 'Critical Studio', 'Icetesy SPRL', 'Uber Entertainment', 'Gearbox Software', 'Double Helix Games', 'Broken Rules', 'Gaslamp Games, Inc.', 'Frictional Games', 'QCF Design', 'Fistful of Frags Team', 'Nicalis, Inc.,Edmund McMillen', 'The Chinese Room', 'Hyper Hippo Games', 'Playsaurus', 'CCP', 'Grey Havens', 'Fishing Planet LLC', 'Outerlight Ltd.', 'Visceral Games', 'Brightrock Games', 'David Szymanski', 'Ironhide Game Studio', 'AMPLITUDE Studios', 'Rooster Teeth Games', 'Futuremark', 'Breakfall', 'Paul Fisch', 'Heart Machine', 'SUPERHOT Team', 'Proton Studio Inc', 'Minor Key Games', 'NEXON Korea Corp.', 'the whale husband', 'Axolot Games', 'Stainless Games', 'NotGames', 'Bizarre Creations', 'Ascaron', 'Cherry Pop Games', 'Cyanide Studios', 'Tilted Mill Entertainment, Inc.', 'Fabio Ferrara,Giulia Airoldi', 'Boolat Games,Alawar Entertainment', 'Vortal Storm', 'Brilliant Skies Ltd.', 'NeocoreGames', 'Stardock Entertainment', 'Edge Case Games Ltd.', 'Dan Fornace', 'WARTEAM', 'Klei Entertainment,Capybara Games', 'Jagex', 'Green Lava Studios', 'Eidos-Montréal,Feral Interactive (Mac)', 'Double Damage Games', 'Lonely Troops', 'Quickfire Games', 'Crackshell', 'Net Games Laboratory', 'Oovee® Game Studios', 'Hi-Rez Studios', 'Colossal Order Ltd.', 'Creative Assembly,Feral Interactive (Linux),Feral Interactive (Mac)', 'Red Barrels', 'Two Tribes', 'FarSight Studios', 'Monochrome, Inc', 'Bitbox Ltd.', 'FromSoftware, Inc.', 'Monolith Productions, Inc.,Feral Interactive (Mac),Feral Interactive (Linux)', 'Joycity', 'Powerhoof', 'Volition, Inc.', 'Epic Games, Inc.', 'Hexage', 'Iridium Studios', '777 Studios', 'Masangsoft, Inc.', 'Grip Games', 'Double Helix Games,Rainbow Studios,THQ Nordic', 'Tomi Maarela,Elias Viglione', 'DIMPS', 'BlankMediaGames', 'Nerial', 'Other Ocean Interactive', 'Dead Mage', 'Power of 2', \"Ivan Zanotti's MyMadness Works\", 'Bob the Game Development Bot', 'DolphinBarn', 'Zombie Studios', 'Secret Exit Ltd.', 'Mighty Rocket Studio', 'Bithell Games', 'FreakZone Games', 'Pyro Studios', 'Insurgency Development Team', 'Nimbly Games', 'Polytron Corporation', 'Unknown Worlds Entertainment', 'Dodge Roll', 'Ndemic Creations', 'Bankroll Studios', 'Blind Sky Studios', 'Robot Gentleman', 'Pathea Games', 'Giant Army', 'Hinterland Studio Inc.', 'Archive Entertainment', 'Frontier,Aspyr (Mac)', 'Messhof', 'Eidos Montreal,Feral Interactive (Mac)', 'DoubleDutch Games', 'Mario von Rickenbach,Michael Frei', 'Subvert Games', 'Big Robot Ltd', 'Cold Beam Games', 'Raptor Claw Games', 'ConcernedApe', 'Everything Unlimited Ltd.', 'Cliffhanger Productions', 'Sakura River Interactive', 'Winter Wolves', 'GalaxyTrail', 'Nickervision Studios', 'Rainbow Games', 'Star Vault AB', 'Harebrained Schemes', '800 North and Digital Ranch', 'BattleGoat Studios', 'EA Los Angeles', 'Ensemble Studios', 'Wyrmbyte', 'Volition,Reactor Zero,THQ Nordic', 'Daedalic Entertainment', 'Rudolf Kremers &amp; Alex May,Tuna', 'Team Meat', 'Freakinware Studios', 'Boneloaf', 'Suspicious Developments', 'NAMCO BANDAI Games', 'Igry.ru', 'Humble Hearts LLC', 'Io-Interactive A/S', 'Blacklight Interactive', 'Jundroo, LLC', 'TNT Team', 'MAGES. Inc.', 'BlueLine Games', 'Nexon', 'City Interactive', 'Io-Interactive A/S,Feral Interactive (Mac)', 'GSC Game World', \"Visual Concepts,Yuke's\", 'Digitalmindsoft', '2K Czech,Feral Interactive (Mac)', 'FIX Korea, Co.LTD,FIX Games, Co. LTD', 'Defence Alliance Team', 'Mirillis', 'Red Hook Studios', 'Eyedentity Games Inc.', 'Creative Assembly,Feral Interactive (Mac),Feral Interactive (Linux)', 'Troika Games', '11 bit studios', 'Larian Studios', 'Zenimax Online Studios', 'Giants Software', 'Muzzy Lane Software', 'Eden Studios', 'Spasman Games', 'Eyzi', 'Wizarbox', 'NetherRealm Studios', 'Eko Software', 'Bugbear', 'Dan  Walters,Ceri Williams', 'Flying Wild Hog', 'TaleWorlds Entertainment,Flying Squirrel Entertainment', 'Cellar Door Games', 'GhostShark', 'EA - Maxis', 'webgames', 'Free Lives', 'SkyBox Labs,Big Huge Games', 'CI Games,Deck 13', 'KOEI TECMO GAMES CO., LTD.', 'Demiurge Studios', 'sparsevector', 'Handyman Studios', '4A Games', 'Eden Industries', '△○□× (Miwashiba)', 'Eleon Game Studios', 'Stainless Games Ltd', 'Thomas Bowker', 'PlatinumGames', 'Comcept,Inti Creates', 'Lab Zero Games', '2K Boston,2K Australia', 'Prism Game Studios Ltd.', 'CAPCOM Co., Ltd.', 'Ubisoft  Shanghaï', 'Black Isle Studios', 'Circle Five Studios,Pub Games', 'Ian Campbell', 'Crows Crows Crows', 'PIXOWL INC.', 'Obsidian Entertainment,Aspyr (Mac, Linux, &amp; Windows Update)', 'BioWare,Aspyr (Mac)', 'Nomad Games', 'Exe Games Inc.', 'TB Games', 'Fireproof Games', 'Moppin', 'Gas Powered Games', 'Sorath', 'nornware AB', 'Firaxis,Feral Interactive (Mac),Feral Interactive (Linux)', 'Defiant Development', 'Big Huge Games,38 Studios', 'Mountain Sheep', 'Still Running', 'Puny Human', 'Frozenbyte', 'Codemasters Racing,Feral Interactive (Mac)', 'Quantic Dream', 'Dark Amber Softworks', 'Runic Games', 'ICE Entertainment', 'ACE MADDOX', '3 Sprockets', 'David OReilly', 'Atelier 801', 'Headfirst Productions', 'Blit Software', 'Tequila Works, S.L.', 'Keinart Lobre', 'Tomoaki Sugeno', 'Guru Games', 'Badland Studio', 'FIVE-BN GAMES', 'Reality Pump Studios', 'HuniePot', 'Alien Pixel Studios', 'Stegersaurus Software Inc.', 'Poppermost Productions', 'Nival', 'Streum On Studio', 'EasyAntiCheat Ltd', '10tons Ltd', 'KADOKAWA', 'Noah System,Mgame', 'MachineGames', 'PixelTail Games', 'Space Cat Studios,SnowFlame,Back To Basics Gaming', 'Samurai Punk', 'Final Boss Entertainment', 'Mediatonic,Hato Moa,The Irregular Corporation', 'Flying Helmet Games', 'Going Loud Studios', 'Silver Wish Games', 'Giant Squid', 'Madruga Works', 'Airtight Games', 'VStep', 'N3V Games', 'Wild Games Studio', 'Metanet Software Inc.', 'Rocksteady Studios', 'David Stark', 'Alan Edwardes', 'candyrocketstudio', 'DR Studios', 'Varkian Empire', 'Forever Entertainment S. A.', 'YOTSUBANE,Adventure Planning Service', 'Arcen Games, LLC', 'Lion Game Lion,OVERKILL - a Starbreeze Studio.', 'Firaxis Games', 'Odin Game Studio', 'Eidos Studio Hungary', 'YFYX GAMES', 'Bluebutton Games', 'Nova Dimension,Naga Entertainment', 'Smolders', 'Mint Age Studios', '17-BIT', 'EightyEightGames', 'Relic', 'Touz', 'Stridemann', 'Idea Factory', 'Monolith Productions, Inc.,Timegate', 'X-Legend', 'Xaviant', 'Masthead Studios Ltd', 'JumpStart Games, Inc.', 'Mine Loader Software Co., Ltd.', 'Frogames', 'Crazy Viking Studios', 'Benjamin Rivers Inc.', 'CSR-Studios', 'Counterplay Games Inc.', 'Orange_Juice', 'Young Horses', 'MoeNovel', 'Rogue Snail', 'DotEmu', 'WayForward', 'Moon Studios GmbH', 'Codemasters', 'Yacht Club Games', 'Sven Co-op Team', 'Almost Human Games', 'Dovetail Games', 'United Independent Entertainment GmbH', 'Positech Games', 'Wube Software LTD.', 'XLGAMES', 'BeamNG', 'Primal', 'Italic Pig', 'Ion Storm', 'BioWare', 'Offworld Industries', 'GameORE', 'Blue Isle Studios', 'KADOKAWA GAMES / GRASSHOPPER MANUFACTURE', 'TML Studios', 'SnoutUp', 'Team17 Digital Ltd', 'Sixteen Tons Entertainment', 'Team Reptile', 'Hammer Labs', 'The Sims Studio', 'Funcom', 'Baller Industries', 'Rail Slave Games', 'GameConnect,InterWave Studios', 'Evil Tortilla Games', 'Team Jolly Roger', 'Relic Entertainment,Feral Interactive (Mac/Linux)', 'Games by Robert, LLC', 'Ubisoft - San Francisco', \"TT Games,Traveller's Tales\", 'Tim Sullivan', 'Rocketeer Games Studio, LLC', 'Andrii Vintsevych', 'Desert Owl Games LLC', 'Lionheart Creations', 'Michael Todd Games', 'Ubisoft Montréal', 'Ninja Theory', 'Idol FX', 'Big Corporation', 'Kaos Studios', 'Split Polygon', 'Hesketh Studios', 'Kheops Studio', 'LucasArts', 'Red Storm Entertainment,Ubisoft Montreal', '2K Marin', 'Nadeo', 'Petroglyph', 'Ubisoft Romania', 'Transhuman Design', 'Black Sea Studios Ltd', 'Necrophone Games', 'Stoic', 'Reiza Studios', 'Kew McParlane', 'LWNA', 'AlPixel Games,Luis Diaz,Gustavo Santos,Albert Fernandez,Tice Thomason', 'Koga Tech Limited', 'CyberConnect2 Co. Ltd.', 'Sumo Digital', 'Looking Glass Studios', 'gord10,Aslan Game Studio', 'Spike Chunsoft Co., Ltd.', 'Sonic Team', 'TML-Studios', 'Coreplay GmbH,Bigmoon Studios', 'Shark Punch', 'Travian Games GmbH', 'C3SK', 'Denver Productions', 'Mode 7', 'Over The Moon', 'StarWraith 3D Games LLC', 'AtomicTorch Studio', 'Zeiva Inc', 'Capcom Vancouver', 'kChamp Games', 'Laser Guided Games, LLC', 'Sandswept Studios', 'SFB Games', 'Osumia Games', 'Egosoft', 'Bytebin', 'Blendo Games', 'Lazy 8 Studios', 'Hemisphere Games', 'Crystal Dynamics', 'Monolith', 'Aspyr,Quantic Dream (original release)', 'Eidos Montreal,Feral Interactive (Linux),Feral Interactive (Mac)', 'CreativeForge Games', 'Droqen', '1C: Maddox Games', 'Best Way', '9heads Game Studios', 'Mokus', 'Maciej Targoni,Wojciech Wasiak', 'Landfall', 'Sledgehammer Games,Raven Software', 'Sector3 Studios', 'Eagle Dynamics SA', 'Opus', 'Sos', 'MiniBoss', 'InvertMouse', 'OVERDRIVE', 'Red Duck Inc.', 'Crytek Studios', 'Spicyhorse Games', 'Spooky Squid Games Inc.', 'SEGA Studios Australia,Feral Interactive (Mac)', 'Amanita Design', 'Prospect Games', 'Hassey Enterprises, Inc.', 'Extend Studio', 'JetCat Games', 'Virtual Basement LLC,Code Headquarters LLC', 'Devespresso Games', 'Sleepy Duck', 'Cybertime System', 'Most Wanted Entertainment', 'JIW-Games', 'EA Redwood Shores', 'Hunted Cow Studios', 'Ubisoft Quebec, in collaboration with Ubisoft Annecy, Bucharest, Kiev, Montreal, Montpellier, Shanghai, Singapore, Sofia, Toronto studios', 'Dogenzaka Lab', 'Team Bondi,Rockstar Leeds', 'Carbon Games', 'Artifice Studio', 'Carlsen Games', 'Free Games Info,hyperboreanGames', 'Pixel Dash Studios, EQgames', 'Edmund McMillen, Florian Himsl', 'Team Chivalry', 'Radiant Entertainment', 'Chad Close,Kyle Weik', 'Capcom Game Studio Vancouver', 'Limbic Entertainment', 'Nerd Kingdom Inc.', 'Milkstone Studios', 'House On Fire', 'Sketchy Logic', 'Red Dwarf Games', 'Rockstar North / Toronto', 'Flashback Games,The Lordz Games Studio', 'S Houben,N Tailor,A Barnett', 'Adam Foster', 'Trashmasters', 'Dumativa Creative Studio,Castro Brothers', 'ClickGames', 'Artery Games', 'Dejobaan Games, LLC', 'Cyanide Montreal', 'Anisoptera Games', 'Nihon Falcom', 'Glass Knuckle Games', 'Ivory Tower in collaboration with Ubisoft Reflections', 'Mad Otter Games', 'Vertigo Gaming Inc.', 'DEVGRU-P', 'Game-Labs', '3f Interactive', 'Strategy First', 'marbenx', 'Ascaron Entertainment ltd.', 'Cat5Games', 'Flump Studios', 'Spearhead Games', 'Ubisoft Montpellier', 'GamePrix', 'PolarityFlow,Adrian Zingg', 'Empty Clip Studios', 'Irrational Games,Looking Glass Studios', 'CI Games', 'Sachonski,Renamilanesi,Sith', 'ProjectorGames', 'Tamsoft', 'Epiphany Games', 'The Odd Gentlemen', 'MicroProse Software, Inc', 'Failbetter Games', 'SkyBox Labs,Forgotten Empires', 'IO Interactive A/S,Feral Interactive (Linux),Feral Interactive (Mac)', 'Ninja Kiwi', 'Jonathan Wood', 'Jon Sudbury Games', 'Kojima Productions', 'Milan Kazarka,Jeroen van Oosten', 'IDEA FACTORY Co., Ltd.,COMPILE HEART Co., Ltd.,FELISTELLA Co., Ltd.', 'Centauri Production', 'PiGravity', 'Colonthree Enterprises', 'Terri Vellmann', 'HyperSloth', 'Spike Chunsoft Co., Ltd.,Abstraction Games', 'The Creative Assembly,Feral Interactive (Mac)', 'Playdead', 'Sigma Team Inc.', 'Oddworld Inhabitants', 'OCR Dev Team,Onur Uça', 'JDM4iK', 'FlyAnvil', 'Payload Studios', 'Codename Entertainment Inc.', 'Michael Zahniser', 'Vigil Games', 'Rocket Bear Games', 'Red Thread Games', 'Access Games', 'STUDIO RADI-8', 'ninjalex', 'Red Team Games', 'DarkElite', 'Daniel Jonathan Bourke', 'Digital Dawn Studios', 'Netcore Games', 'Microsoft Game Studios', 'Ganz', 'JumpCore Productions', 'Great War Team', 'Afterthought LLC', 'Shokunin,Thomas M. Visser,Vincent Thiele', 'Vblank Entertainment, Inc.', 'Nina Freeman,Emmett Butler,Decky Coss,Joni Kittaka', 'Teotl Studios', 'John Wizard', 'Rubycone', 'Bloober Team SA', 'Saber Interactive', 'Midgar Studio,Fusty Game', 'Arkedo', 'A Jolly Corpse', 'InterAction studios', 'SuperVillain Studios', 'Johannes Eski', 'Data Realms', 'Studio Fizbin', 'AGC', 'Abbey Games', 'Ethrea Dreams', 'Eforb', 'Ironclad Games,Stardock Entertainment', 'League of Geeks', 'Mohawk Games', 'Reverie World Studios', 'Digital Melody', 'Ludosity,Remar Games', 'CoaguCo Industries', \"Traveller's Tales,TT Games,Feral Interactive (Mac)\", 'DONTNOD Entertainment', 'stage-nana', 'Underdog Games', 'Antonio Renna', 'Butterscotch Shenanigans', 'Shortbreak Studios s.c.', 'Lavaboots Studios', 'Edmund McMillen,Tyler Glaiel', 'Ice-Pick Lodge', 'Test3 Projects', 'Ubisoft Toronto', 'Thekla, Inc.', 'Digerati Distribution', 'Crackpot Entertainment', 'Radical Fish Games', 'Brace Yourself Games', 'Wholetone Games', 'Vlambeer,Croteam', 'rdt.32', 'Bugbear Entertainment', 'Shiro Games', \"Traveller's Tales,Feral Interactive (Mac)\", 'Tango Gameworks', 'Dekovir Entertainment', 'Heydeck Games', 'Secret Base', 'Lino Slahuschek', 'Passtech Games', 'Binary Fortress Software', 'Kaos Studios,Digital Extremes', 'Vine', '3000AD', 'The Men Who Wear Many Hats', 'Michael Todd Games,Yazar Media Group LLC', 'SDEnterNet', 'practicing01', 'Chasing Carrots', 'Sunlight Games', 'Zombie Panic Team', 'Maxime Vézina', 'Dark Day Interactive', 'Number None', 'X1 Software,AWAR', 'Fullbright', 'Snowbird Games', '1C-SoftClub', 'Cococucumber', 'TERC', 'Roll7', 'Cyberdreams', 'Santa Ragione', 'Tribe Studios', 'Dark Energy Digital Ltd.', 'ALLPlayer Group Ltd.', 'BlinkWorks Media', 'Vostok Games', 'Zeroscale', 'Revolution Software Ltd', 'SleepNinja Games', 'Oscar Brittain', 'XYLA Entertainment', 'IDHAS Studios', 'Tall Tail Studios', 'Blackbird Interactive', 'Those Awesome Guys', 'Idea Factory,Compile Heart', 'CyberConnect2 Co., Ltd.', 'The Molasses Flood', 'Monolith Productions', 'Pieces Interactive', 'Sebastian Nigro', 'Codemasters,Feral Interactive (Mac)', 'Signal Studios,Krome Studios', 'Ostrich Banditos', 'Rsupport Inc.', 'Croteam', 'Rake in Grass', 'WayForward,Abstraction Games', 'The Farm 51', 'Black Shell Games', 'Orlyapps', 'Frogwares', 'Sometimes You', 'Qwiboo Ltd', 'Bacon Wrapped Games', 'Eggcode', 'Snapshot Games Inc.', 'Lunar Giant', 'JForce Games', 'Infinite Interactive', 'Daniel Mullins Games', 'QUICKTEQUILA', 'CRAZYDIAMOND CO., LTD.', '@unepic_fran', 'Technomancy Studios', 'Elecorn', 'Ty Taylor and Mario Castañeda,The Quantum Astrophysicists Guild', 'Novel Tea Games', 'Ice Water Games', 'Vicious Cycle Software, Inc.', 'Nvizzio Creations', 'The Creative Assembly', 'Atom Republic', 'Decent Machine', 'Interceptor Entertainment', 'Labyrinthine', 'Amaterasu Software', 'CRASS Studios', 'Lag Studios', 'Blue Tea Games', 'Steel Monkeys', 'nFusion Interactive', 'Geoff Keighley', 'EXOR Studios', 'PopCap Games, Inc.', 'IMCGAMES Co.,Ltd.', 'Smashball Labs LLC', 'ACQUIRE Corp.', \"Lion's Shade\", '30.06 Studios Ltd', 'FreezeNova', 'Lord Kres', 'Daniel Davies', 'Zoo Corporation', 'Dharker Studio', 'Team Eleven Eleven', 'Priority Interrupt', 'Farsky Interactive', 'Darklight Games', 'Abraham Carreola', 'Konstantin Koshutin', 'DEADFACTORY', 'Modern Dream', 'Four Quarters', 'Gravvit Ltd,Forbes  Consult Ltd', '橘子班', 'Bugbyte Ltd.', 'Blazing Griffin', 'Gaijin Entertainment', 'Holy Warp,Black Wing Foundation', 'ZackBellGames', 'Goldhawk Interactive', 'Lazy Bear Games', 'Gamepires', 'Brian Cronin', 'Signal Studios,Smart Ghost', 'FOAM Entertainment', 'Erik Asmussen', 'Geniaware Srl', 'Eurocom', 'Mimimi Productions', 'Flyleap Studios', 'Redlynx Ltd,Ubisoft  Shanghaï', 'Evan Todd', 'Heartbit Interactive', 'Portalarium', 'NIGORO', 'Gravity Interactive', 'Semaphore', 'Fabio Ferrara', 'Jetdogs Studios,Zoom Out Games', 'KADOKAWA,Yoji Ojima', 'Oxeye Game Studio', 'Urban Games', 'Avalanche Software', 'Shield Break Studios', 'G-OLD', 'Actalogic', 'IO Interactive', 'Black Pants Studio', 'Carbine Studios', 'Home Net Games', 'VisualArts/Key', 'Funselektor Labs Inc.,FlippFly', 'Filip Victor,Valve', \"TT Fusion,Traveller's Tales,Feral Interactive (Mac)\", 'Ubisoft Sofia', 'Mighty Rabbit Studios', 'Spiders', 'Radial Games Corp,Dejobaan Games, LLC', 'Konsordo', 'Conrad Nelson', 'Spark Plug Games', 'Rogue Factor', 'Lesta Studio', 'Hidden Path Entertainment', 'MuHa Games', 'Rhaon Entertainment', 'WeMade', 'Choice of Games', 'The Quinnspiracy,Patrick Lindsey,Isaac Schankler', '2K Australia,Gearbox Software,Aspyr (Mac &amp; Linux)', 'StephenAllen', 'Exato Games Studio', 'Radial Games Corp,Loren Bednar,Dr. Kimberly Voll,Lindsay Jorgensen', 'StudioGIW', 'Blue Byte', 'Rockstar New England', 'GolemLabs', 'Clever Endeavour Games', '2K Boston,2K Australia,Blind Squirrel,Feral Interactive (Mac)', 'Pixeljam', 'Cipher Prime Studios', 'Sparpweed,Codeglue', 'Piranha Bytes', 'EnsenaSoft', 'Frontier Developments', 'Three Rings', 'Yakiniku Banzai', 'Michaela Laws', 'Massive Damage, Inc.', 'OrangeGames,YoudaGames', 'Kudosoft', 'Nom Nom Games', '343 Industries,Vanguard Games', 'Starbreeze Studios AB', 'NAMCO', 'Noio', 'Eyemobi Ltd.', 'Tin Man Games', 'Colibri Games', 'KintoGames', 'MidBoss, LLC.', 'Duelboot', 'stillalive studios', 'Windybeard', 'Viswanath Atlu,Laurie Banks,Rohan Bhukan,Nick Burnham,Avinash Kalapala,Yash Kapani,Katharine Marsh,Ankur Rathore,Hardit Singh,Anoop Nihar Srinivas,Ryan Guanyuhao Jiang,Robert Zhu', 'EA Black Box', 'Snowblind Studios', 'Dead Shark Triplepunch', 'Camshaft Software', 'Technetium Games', 'Strange Fire', 'Entity Medialab', '4 I Lab', 'Full Control Studios', 'Black Eye Games', 'Kinelco &amp; Lone Elk Creative', 'PostMod Softworks', 'exosyphen studios', 'The Astronauts', 'Owlchemy Labs', 'Atapki', 'Ed Key and David Kanaga', 'Tasharen Entertainment Inc.', 'Triverske', 'Game in a Bottle', 'Over the Top Games', 'Cadenza Interactive', 'Alientrap', 'Red Storm Entertainment', 'Piranha Games Inc.', 'Screwfly Studios', 'UBIart Montpellier,Feral Interactive (Mac)', 'Moment Studio', 'Cabygon', 'Racing Bros', 'BitMonster, Inc.', 'Charyb Games', 'Gambrinous', 'Keen Games', 'Sean Davy', 'Boss Baddie', 'CCCP', 'Pipeworks Studio', 'Richard Seabrook', 'Curve Studios', 'Grynsoft', '1C:InoCo', 'Ragequit Corporation', 'Aleksey Abramenko', 'Born Ready Games Ltd.', 'storm_sharks', 'Tale of Tales', 'MR-Software GbR', 'Laminar Research', 'Tamationgames', 'LuGus Studios', 'Aperture Tag Team', 'Destructive Creations', 'Dischan Media', 'Gray Matter Studios', 'Dingo Games', 'Binary Zoo,The Game Creators', 'Deconstructeam', 'BetaDwarf', 'Unigine LLC.', 'Strange Loop Games', 'Parallaxian Pty Ltd', 'Landon Podbielski', 'Tate Multimedia', 'Hitcents', 'Lucasfim', 'EasyGameStation', 'souvenir circ.', 'Realmforge Studios', 'Subsoap', 'Climax Studios', 'Coredumping', 'Neko Entertainment', 'Hitbox Team', 'Fishing Cactus', 'Triumph Studios', 'oddonegames', 'Deep Silver Volition,High Voltage Software', 'Nikita', 'Kerberos Productions Inc.', '22cans', 'Crystal Shard', 'Blooming Buds Studio', 'Stygian Software', 'Avidly Wild Games', 'Night School Studio', 'Little Green Men Games', 'Cavedog Entertainment', 'Abstract Tree Studio', 'Pinokl Games,Kverta', 'Xtal Sword', 'Dark Artz Entertainment', 'Malfador Machinations', 'Vae Victis Games', 'Spark Unlimited', 'Ghost Town Games Ltd.', 'Team 6 Studios', 'Focus Home Interactive', 'Fixpoint Productions Ltd.', 'Cyan Worlds', 'Jackbox Games, Inc.', 'Paul Bird', 'Q-Games Ltd.', 'Octoshark Studios', 'GameUS Inc.', 'Zykov Eddy,Xitilon', 'Celsius Game Studios', 'Gravity, Inc.', 'VolumeUp Studios', 'DiggerWorld Ltd.', 'TT Games', 'Cloudcade, Inc.', 'CAPCOM', 'Silverlode Interactive,Wasatch Games', 'Ascension Entertainment LLC', 'Kumobius', 'Mr. Blue', 'Brytenwalda', 'DrinkBox Studios', 'Behold Studios', 'Owlbear', 'WTFOMGames', 'Peter Brinson and Kurosh ValaNejad', 'MURA Interactive', 'Halissoni', 'Codemasters Racing,Feral Interactive (Mac),Feral Interactive (Linux)', 'CAVE Interactive CO.,LTD.', 'neko.works', 'Egamea Game Studios', 'LUCKY GIRLS LIMITED', 'KITATUS STUDIOS', 'Roll7,General Arcade', 'Turtle Cream,PokPoong Games', 'Gl33k', 'Big Ant Studios', 'Crescent Moon Games,Cinopt Studios', 'Fiddlesticks Games', 'Sad Panda Studios', 'Lazy Bum Games', 'Sluggerfly', 'Ska Studios', 'EA - Maxis,Aspyr (Mac)', 'Polar Motion', 'Sakari Indie &amp; GriN', 'SeeThrough Studios', 'Teeworlds Team', 'Interdimensional Games Inc', 'Axyos Games', 'Game Mechanics', 'Spiderweb Software', 'Just Add Water (Developments), Ltd.', 'Myrtilus Entertainment', 'Reality Pump', 'Chris Sawyer Productions', 'ClockStone', 'Cauldron', 'Firaxis,Feral Interactive (Mac and Linux)', 'Damaged', 'SANDLOT', 'Lucid Games,Aspyr (Mac &amp; Linux)', 'Triangle Studios', 'I Fight Bears', 'Reakktor Studios', 'Luke Cripps', 'No Brakes Games', 'Panzer Gaming Studios', 'Idigicon', 'SimBin', 'Codemasters Action Studio', 'Fred Wood', 'Imaekgames [Imaek Limited]', 'Oreol', 'Dimmdrive Inc.', 'Megadev', 'Deck13 Hamburg', 'Gaming Minds Studios', 'Sherman3D', '2D BOY', 'Bat Country Games, LLC', 'TimeGate Studios', '1C-Avalon', 'Star Maid Games', 'Digital Arrow', 'CM Softworks', 'Clapfoot', 'Vladimir Maslov', 'Evgeny Shcherbakov,Denis Ovsyannikov', 'Reflextions', 'Iguana Entertainment,Nightdive Studios', 'JE Software', 'Cardboard Keep', 'Aratog LLC', '8888888 LABS', 'Trinoteam', 'Dambuster Studios', 'Minskworks', 'doublesix', 'GameUS Inc', 'Orbital Knight', 'Smoodlez', 'United Independent Entertainment GmbH,Actalogic', 'Harvester Games', 'Idea Factory,Compile Heart,Felistella', 'Exato Game Studios', 'FourbitFriday', 'Black Lion Studios', 'DreaMory', 'Triumph Studios,Virtual Programming', 'Daniel Snd,Thiago Adamo', 'Xavi Canal, Ben Palgi', 'Olli Harjola, Otto Hantula, Tom Jubert, Carlo Castellano', 'Allen Dayan', 'Jimbob Games', 'Hellbent Games', 'Dry Cactus', 'Russpuppy', 'Mithis Games,THQ Nordic', 'Edelweiss', 'WRF Studios', 'Crazy Moo Games', 'Frontwing', 'Mixamo', 'Atum Software', 'Psychic Software', 'NIKITA ONLINE', 'Akakiy Petrushkin', 'Dancing Dragon Games', 'Pirozhok Studio,Vitaliy Ruzankin', 'Dominique Grieshofer', 'Organic Humans', 'Stout Games', 'Snails Animation', 'Locomotivah', 'Dawid Bujak', 'Somi', 'GAME ARTS Co., Ltd.,SkyBox Labs', 'Rising Star Games', 'Starbreeze', 'Love Conquers All Games', 'Turbo Tape Games', 'Empires', 'Mediatonic,The Irregular Corporation', 'Darius Bode', 'Stage 2 Studios', 'Deep Red Limited', 'Tom De Roeck', 'Damian Sommer,Emily Carroll', 'Silk Games', 'Grey Alien Games', 'Memetic Games', 'Edmund McMillen,James Id', 'TT Games Ltd,Feral Interactive (Mac)', 'Blackhole', 'vikingfabian.com', 'Lightmare Studios', 'Clickteam', 'ComiPo! LLP', 'Lucky Frame', 'SMG Studio', 'Anvate Games', 'Creat Studio', 'Dreampainters', 'Fishlabs Entertainment GmbH', 'PolyKid', 'Praxia Entertainment Inc', 'Sakari Indie', 'Maschinen-Mensch', 'ISOTX', 'Unwonted Studios', 'Pinterac', 'Svajūnas Žemaitis', 'Aspyr Studios', 'Evgenii Gubanov', 'PestoForce', 'Lost Decade Games', 'Level Up Labs, LLC', 'BlueGiant Interactive', 'Creative Assembly, PC Port - Hardlight', 'Josh Koenig (Slashandz)', '8-Bit Studio', 'PillowPigGames', 'CINEMAX, s.r.o.', 'Owl Cave', 'Fancy Bytes, Reactor', 'b-Alive', 'World-Loom,Nitreal', 'MEGAFUZZ', 'Simon Roth', 'Finji,Kittehface Software', 'CD PROJEKT RED,Can Explode', \"Mommy's Best Games\", 'NeoCoreGames', 'Schine, GmbH', '16bit Nights', 'State of Play Games', 'Sweet Dog Studios', 'Razorworks', 'Hello There AB', 'Carmine T. Guida', 'Reflect Studios', 'Anothink', 'BlueEagle Productions', 'Autobotika,Game Nation Inc', 'HandMade Game', 'Bulbware', 'Numinous Games', 'Puppygames', 'Final Form Games', 'MovingBlocks', 'YFC games', 'Artifex Mundi', 'Double Eleven,Q-Games Ltd.', 'Kiddy', 'Austin Handle', '07th Expansion', 'Transcendent Games', 'Toge Productions', 'VIS Interactive', 'Nacho Games', 'K Bros Games', 'Spicy Horse', 'Old B1ood', 'The Glitch Factory', 'Immersive Douro', 'Fayju', 'Gaijin Entertainment Corporation', 'Big Fat Simulations Inc.', 'Compulsion Games', '5 Bits Games', 'Separate Game Development,Dagestan Technology', 'Dan Walters', 'Blackfire Games', '48h Studio', 'StarQuail Games', 'Team NINJA,KOEI TECMO GAMES CO., LTD.', 'Inferno Games', 'Alice &amp; Smith', 'Ratloop Asia', 'Lamina Studios,Mike Studios', 'North of Earth', 'Genee Network', 'Emmanuel Salva Cruz', 'BumpkinBrothers', 'Cyanide Studio', 'Syrin Studios,Small Impact Games', 'Mechanist Games', 'Double Helix Games,Capcom', 'Witch Beam', 'Slightly Mad Studios', 'Question', 'Disney Interactive', 'Meridian4', 'David Mulder', 'Room710Games', 'Childish Things', 'Tribute Games Inc.', 'Frogdice', 'Phigames', 'Sam Barlow', 'Lesley Dodd', 'Rodeo Games,Twistplay', 'Lightbulb Crew', 'Tomasz Wacławek', 'minori', 'PixelFade Inc', 'BurstRay Games', 'Fortress Forever Development Team,Trepid Studios', 'BANDAI NAMCO Studio Inc.', 'Space Boat Studios', 'Relic Entertainment,Europe at War Development Team', 'Sam Atlas', 'Orion Games', 'Codemasters Studios', 'Rovio Entertainment Ltd', 'Plethora-Project LLC', 'Shawn Beck', 'Cyanide', 'Night Node', 'S.C. 16 BIT NIGHTS S.R.L.', 'Social Loner Studios', 'Instant Kingdom', 'Hippomancer', 'Old School Games', 'Twice Circled', 'Zero Sum Games', 'Mihai Morosanu', 'Headup Games / Crenetic', 'Senscape', 'Solest Games', 'Sports Interactive', 'Halfbus', 'electrolyte', 'VIS - Visual Imagination Software', 'Limasse Five', 'Team Chaos, LLC', 'Pribuni', 'Little Big Lee', 'Deepred', 'Rogue Entertainment', 'Raven Travel Studios', 'The Binary Mill', 'erobotan', 'Core Design', 'Spellbound Studios', 'Kitfox Games', 'Pivotal Games', 'Full Control', 'Team Indev', 'Blue Byte,Related Designs', 'Baggy Cat Ltd', 'MagicalTimeBean', 'Zaxis Games,B-evil', 'HANBITSOFT, INC.,IMC GAMES CO.,LTD.', 'MOONSTONE', 'Vifth Floor', 'Phoenix Game Studio', 'Endless Loop Studios', 'Numantian Games', 'Uppercut Games Pty Ltd', 'Zoë Mode', 'Iron Galaxy Studios, LLC', 'Petit Depotto', 'Diminished Studios', 'Wanako Games', 'Gaming Minds', 'Aquiris Game Studio', 'Red Nettle Studio', 'app2fun', 'Batholith Entertainment', 'DL Softworks', 'Teyon', 'Walter Machado', 'VaragtP', 'GlyphX Games', 'Kerberos Productions', 'Southend', 'Overhype Studios', 'Capybara,Superbrothers,Jim Guthrie', 'Bare Mettle Entertainment', 'TreeFortress Games', '[geim].pro', 'Corrosive Studios LLC', 'Altar Games', 'DnS Development', '2K Australia,Gearbox Software,Aspyr (Mac,Linux)', 'Knuckle Cracker', 'Ginger Labs LLC', 'Kukouri', 'GDT Limited', 'BS1 &amp; BSL Team', 'Machine 22', 'インレ,Inre', 'Simogo', 'CreSpirit,GemaYue', 'Subatomic Studios LLC', 'Alawar', 'Fishcow Studio', 'Shiver Games', 'Jujubee S.A.', 'Smudged Cat Games Ltd', 'Ninja Robot Dinosaur', 'kunst-stoff GmbH', 'Ubisoft Reflections', 'BUGBEAR', 'GNISoft', 'Tlön Studios,Ilex Games', 'FRENCH-BREAD', 'Creepy Cute', 'Cadence Games', 'Tindalos Interactive', 'Rune Forge', 'Klace', 'Atypical Games', 'Phenomenon Games', 'Dream Reactor', 'EXE-CREATE', 'Mighty Rabbit Studios,Gun Media', 'Abrakam SA', 'Ultravision Interactive', 'Northway Games,Sarah Northway', 'Ekuator Games', 'Abstraction Games,WayForward', 'Redshift', 'Serellan LLC', 'b-alive gmbh', 'Retro Yeti Games', 'Bombservice', 'NovaLogic', 'Flyleap Studios Pty. Ltd.', 'Trav Nash', 'Spidermonk Entertainment', 'Red Abyss Software', 'Illwinter Game Design', 'Rocksteady', 'Scirra', 'Eat Create Sleep', 'Digital Furnace Games', 'Gremlin Interactive', 'Gameguyz', 'Croteam,Alligator Pit', 'Brainbox Software', 'Stamina-Games', 'Ino-Co Plus', 'Matt Thorson', 'The Tambourine', 'BigAnt Studios', 'Ink Stains Games', 'Upper One Games,E-Line Media', 'Lighthouse Games Studio', 'Hydravision Entertainment', '高考恋爱委员会,橘子班', 'Rusty Lake', 'Biart Company LLC', 'Alawar Entertainment', 'Sapphire Dragon Productions', 'Hosted Games', 'Omniconnection', 'Bromoco Games', 'Weappy Studio', 'Gunfire Games,Vigil Games,THQ Nordic', 'Ductape studio', 'Outerminds Inc.', 'White Rabbit Games', 'KIXEYE', 'Serious Brew', 'Onson Soft', 'Invictus-Games LLC.,ImageCode LLC.', '5 Lives Studios', 'Furiously Inactive Games', 'Spry Fox LLC', 'MachineSpirit', 'Twisted Pixel Games', 'Abstraction Games', 'Rootify', 'Entheogen Studios LLC', 'Sky Drake Studios', 'Gromada,Buka Entertainment', 'Joshua Neurnberger', 'Storybird', 'Freakinware Limited', 'Cobra Mobile', 'YeaBoing', 'Space Budgie', 'Phoenix Online Studios', 'Days of Wonder', 'Sami Maaranen (creator),Erkka Lehmus (co-designer)', 'Artefacts Studios', 'Animation Arts', 'Force Of Habit', 'Murudai', 'Warlock Wireless', '2DArray', 'Quantumfrog', 'Real Dynamics', 'Terrible Posture Games', 'REX', 'Zinertek', 'Excalibur', 'Square Enix,DotEmu SAS.', 'Elixir Studios', 'PlazSoft', 'SionoiS', 'Firaxis Games,Feral Interactive (Mac)', 'PlayFlock', 'Martin Ivanov', 'Codemasters Digital', 'Io-Interactive A/S,Feral Interactive (Linux),Feral Interactive (Mac)', 'X-Bow Software', 'Shiny Entertainment', 'Point Five Projects', 'IllFonic', 'Neversoft', 'Virtual Racing Industries Ltd.', 'Playbrains', 'High Impact Games', 'Targem Games', 'Beenox', 'cupholder', 'Recoil Games', 'Bluehole Ginno Games', 'Alex Zhang', 'Anteater Games', '88mm', 'Evil Twin Artworks', '2x2 Games', 'Meteoric Games', 'Basaltic studio', 'Nerdook Productions', 'Triple.B.Titles', 'Ironsun Studios', 'Shorebound Studios', 'Mystic Games', 'Size Five Games', 'Marxnet', 'AZAMATIKA', 'Dreadbit', 'Krome Studios', 'Jasper Byrne', 'Peach Pie Productions', 'Killmonday Games AB', 'Jurlo,JetPackGone', 'Liar-soft', 'Infinite Monkeys Entertainment Ltd.', 'ExDream GmbH', 'Ben Prunty Music', 'Haemimont Games,Feral Interactive (Mac)', 'Luc Bernard,SilverSphereStudios', 'Aivaras Klimas', '[OneManBand]', 'Firemint', 'Ino-Co', 'Zeboyd Games', 'TORaIKI', 'Nauris Amatnieks', 'Doublesix Games', 'Magic Notion', 'John Szymanski', '2DEngine.com', 'Manic Game Studios', 'Convoy Games', 'SnowFlame,Back To Basics Gaming', 'Fugazo', 'PERFECT PARALLEL', 'Acceleroto, Inc.', 'Eyebrow Interactive', 'EVGA', 'BioWare Corporation', 'Image &amp; Form', 'The Game Bakers', 'Stolen Couch Games', 'Studio Bean', 'Last Day of Work', 'Reentry Games', 'Geek Sloth Games', 'Hostel Games', 'LGK Games', 'Sky Fallen', 'Cape Copenhagen', 'John Cullen', 'S2 Games, LLC', 'Cyberlore', 'Idea Factory,Compile Heart,Tamsoft', 'Idea Factory,Compile Heart,Sting', 'DoubleBear Productions', 'BadFly Interactive, a.s.', 'Renegade Kid', 'Nicolas Bernard', 'ElagoTech', 'Zen Studios', 'Retro Army Limited', 'Aurelien Regard', 'Siege Games', 'Stellar Jockeys,Gausswerks', 'Team17 Software Ltd.', 'Fictiorama Studios', 'Born Ready Games', 'Mindstorm Studios', 'Turbo Pixel Studios', 'Raylight Games', 'Small Town Studios', 'GearBox Software,Aspyr (Mac &amp; Linux)', 'GameArt Studio GmbH', 'Rain Games', 'Arachnid Games', 'Team6 game studios B.V.', 'Choice Provisions', 'Elite Games Team', 'OhNoo Studio', 'Rainbow Studios,THQ Nordic', 'Logic Artists', '8monkey Labs', 'Burut CT', 'SomaSim', 'With The Love Studios', 'Satsu', 'Minority Media Inc.', 'Aldorlea Games', 'Warfare Studios', 'Hipix Studio', 'Phoenix Studio', 'House of Tales', 'David Williamson', 'increpare games', 'GTGD', 'Voxler Games', 'HE SAW', 'Skobbejak Games', 'Totally Games', 'Loren Lemcke', 'Zbigniew Ochman', 'Big Fat Alien', 'tamationgames', 'WildTangent', 'Supra Games', 'STRIKEWORKS', 'Yume Creations', 'Ludosity', 'MAGIX Software GmbH', 'Mighty Rabbit Studios,Gun.', 'Headup Games / Radon Labs', 'Arkavi Studios', 'roseVeRte', 'Eden Games,Hydravision Entertainment', 'Eidos Interactive', 'Pixel Federation', 'Last Limb LLC', 'Vogelsap', 'Interplay Inc.', 'Frogsong Studios AB', 'Oryx Design Lab', 'SoftStar', 'Swing Swing Submarine', 'Lemonsucker Games', 'JoWooD Vienna', 'isTom Games Kft.', 'General Arcade', 'Razvan', 'Armature Studio', 'Jarhead Games', 'Freegamer', 'Sundae Month', 'Frogshark', 'Team Murder', 'IO Entertainment', 'Wisdom Tree, Inc.', 'Hörberg Productions', 'Wales Interactive', 'Andy Wallace', 'Noble Master LLC', '14° East', 'Stately Snail', 'Studio Pixel', 'Quantized Bit', 'Benjamin Bryant', 'Replay Studios', 'CivilSavages', 'Good Games', 'Unfinished Pixel', 'Unicorn Games Studio', 'Artefacts Studio', 'Tuomo Laine', 'Innocent Grey', 'Peter Moorhead', '773', 'Erik Svedäng,El Huervo / Niklas Åkerblad,Tobias Sjögren,Oscar \"Ratvader\" Rydelius,Johannes Gotlén', 'Pencil Test Studios', 'Oleg Sergeev,Andrey Rumak,Do My Best', 'Zootfly', 'Katauri Interactive', 'Akella,.dat', 'MobileBits', 'Flox Studios Ltd.', 'QUICKTEQUILA,Calum Bowen', 'Firebase Industries Ltd.', 'Neople', 'Peacock Dreams Games', 'HeR Interactive', 'JAVELIN OÜ', 'IonFX', \"Never Don't Play\", 'Stone Blade Entertainment', 'Animu Game', 'Trese Brothers', 'Rising Sun Interactive', 'Strangely Interactive Ltd', 'varlamov5264', 'Pilgrim Adventures,GrabTheGames Studios', 'Juicy Beast Studio', 'Tokyo RPG Factory', 'Toadman Interactive,Fatshark', '10th Art Studio,Adventure Productions', 'Big Finish Games', 'Reactor Zero', 'Pixel Ferrets', 'Volumetric Games', 'Skyjaz Games', 'Elliptic Games', 'quad games', 'Lightmare Studio', 'Back To Basics Gaming', 'Shining Gate Software', 'Chaosoft Games', 'Silesia Games Sp. z o.o.', 'PIXYUL', 'IF Studios', 'Brawsome', 'Batterystaple Games,Fire Hose Games', 'Zaratustra Productions', 'AndrewMD5,Codeusa', 'CAT IN JAR GAMES', 'momoStorm Entertainment', 'Iron Tower Studio', 'Rogue Star,Boreal Sun,Spider,Deadman', 'Flying Cafe for Semianimals', 'Retronic Games', 'Misfits Attic', 'Thomas Happ Games LLC', 'Cockroach Inc.', 'inner seas', 'A Crowd of Monsters', 'Kittehface Software', 'Shadow Planet Productions', 'Talawa Games', 'Trapdoor Inc.', 'GabberGames.com', 'Tasty Stewdios LLC', 'Black Forest Games', 'Lapovich', 'Scarlet String Studios', 'Alan Zucconi', 'Trickstar Games', 'Nocturnal works', 'PolyPusher Studios', 'Smack Down Productions', 'Little Freedom Factory', 'Koboldgames,Daedalic Entertainment', 'Gamebryo,Virtual Playground', 'Irrational Games', 'Crankshaft Games', 'Very Simple Idea Studios', 'Vicious Cycle Software', 'Tlön Studios', 'Henrique Pegacha,Rafael Lima,Nuno Guerreiro', 'Marie Ronnaux Games', 'Olde Sküül,Sculptured Software', 'Ultra Runaway Games', 'Pixbits', 'Qooc Software', 'Cryptic Sea', 'Lemondo Entertainment', 'LDC Studios', 'Lazy Monday Games', 'Bitl,Cobalt-57', 'Proxy Studios', 'FullPowerSideAttack.com', 'TURBOGUN', 'Kloonigames', 'TripleBrick', 'TrerPlay', 'DeXP', 'Mirko Seithe', 'Eren Aydın', 'Monkeys Tales Studio', \"Ben 'Yahtzee' Croshaw,Collected Worlds\", 'ToMorning Productions', 'Ville Mönkkönen,Anne Mönkkönen', 'Housemarque', 'Gamious', 'Noumena Studios', 'Noviy Disk,Lesta Studios Inc', 'Curve Digital,FuturLab', 'Brainy Studio LLC', 'BRHP', 'RunServer', 'Skinny Jean Death Studios', 'BlackSpot Entertainment', 'The Working Parts', 'Elder Games', 'Geoff \"Zag\" Keene', 'The Game Kitchen', 'Game Distillery s.r.o.', 'Eggtooth Team', 'Amaranth Games, LLC', 'Oxide Games', '1C Company', 'Marvelous, Inc.', 'Deck13', 'G-TraX', 'Deion Mobile', 'Fallen Snow Studios', 'Shifty Chair Games', 'ES Team', 'Tesseract Interactive', 'T3 Entertainment', 'KHB-Soft', 'Vectorpark, Inc.', 'The Dept of Silly Stuff', 'Roman Anatolevich,Denis Ovsyannikov', 'dobro_slon', 'Dragonfly GF Co., LTD', 'Idea Factory,Design Factory', 'Thunder Lotus Games', 'SecureMix LLC', 'Eric Chahi,DotEmu', 'MercurySteam - Climax Studios', 'Tennen-sozai', 'Hothead Games', 'Vanguard Games', 'Angry Mob Games', 'Sandlot Games', 'TickTock Games', 'Cloud 9 Studio', 'Wildgrass', 'Nina Freeman,Laura Knetzger,Stephen Lawrence Clark', 'Netmarble Games', 'Spectral Games', 'Genetix Studio', 'Infinity Plus 2', 'Brain Bombers', 'Fun Sponge Games', 'Virgin Interactive Entertainment,PriitK', 'Code Club AB', 'Sun-Studios', 'Bongfish GmbH', 'Studio Whisky Tango Inc.', 'Endgame Studios', 'WarfareSims', 'Press Play', 'Black Element', 'Camouflaj', 'WOLCEN Studio', 'Michael Flynn', 'Niffler Ltd.', 'Alternative Software Ltd', 'd3t', 'Bedlam Games', 'Cliffhanger Productions,Catalyst Games Lab', 'Yeti Trunk', 'GameCrafterTeam', 'Strike Games', 'Zanrai Interactive', 'Action Button Entertainment, LLC', 'Cyanide Studio - Spiders Studios', 'Redlynx', 'Alexey Davydov,Sergey Dvoynikov,Timofey Shargorodskiy', 'Playata GmbH', 'Chondrite Games', 'Jason Oda', 'Rocktastic Games', 'Game Dev Castle', 'Stunlock Studios', 'Colossal Games', 'Jon Gallant', '24 Caret Games', 'PopTop Software,BreakAway Games,Frog City Software', 'REMIMORY', 'MoaCube', '3D Realms (Apogee Software)', 'IMGN.PRO', 'bitHuffel', 'Gatling Goat Studios', 'Soul Forge', 'Ice-Pick Lodge,General Arcade', 'BeautiFun Games', 'Digital Tentacle', 'Zandel Media', 'Orthogonal Games', 'KING Art', 'Pwnee Studios', 'Mojang', 'Photon Arena', 'Buddy Cops, LLC', 'BitFinity', 'CAPCOM CO., LTD.', 'Aspyr', 'Skatanic Studios', 'Z4G0 and Ivan Venturi Productions', 'Studio Eres', 'AwesomeBlade', 'WhiteMoon Dreams', 'Axis Game Factory LLC', 'Axis Game Factory', 'Crystal Dynamics,Feral Interactive (Mac)', 'Signal Studios', 'Bedtime Digital Games', 'Brainchild', 'Best Gaem Studio', 'Kylotonn Entertainment', 'Vertigo Games', 'Manuel Pazos,Daniel Celemín', 'PlayWay S.A.', 'IPACS', 'Fermenter Games', 'Halycon Media GmbH &amp; Co. KG', 'XGen Studios', 'Fervent', 'Black Jacket Studios', 'On The Level Game Studios', 'Apeiron', 'Nyamyam', 'Triple-Star Studio,Rock Path Collective', 'Nate Schmold', 'Codemasters Birmingham', 'WZOGI', 'Relic Entertainment,THQ Nordic', 'Kronosaur Productions', 'Factor 5,LucasArts', 'Vivid Games S.A.', 'Fresh3D', 'Tiger Style', 'Exor Studios', 'Soccer Manager Ltd', 'Key17 Games', 'Nemesys Games', 'Last Dimension', 'ESTsoft Corp.', 'Fancy Fish Games', 'Tuesday Society', 'Nine Dots Studio', 'Mana Games', 'Kylotonn Racing Games', 'Boomzap Entertainment', 'Three Gates', 'Kot in Action Creative Artel', 'Browny Application', 'Frima Studio', 'RageSquid', 'Crian Soft', 'Digital Happiness', 'Eric Provan - Ayyo Games', 'Jae Lee Productions', 'Scary Bee LLC', 'Hypercane Studios', 'Matt Kap,Nicalis, Inc.', 'Tragnarion Studios', '49 Games', 'Spaces of Play', 'Studio TeamShuriken', 'Capybara Games', 'Naiad Entertainment LLC', 'Rival Games Ltd', 'OCCA Studios', 'Katapult', 'Tendershoot,A Jolly Corpse', 'Fractal Phase', 'Redwood Games', 'Moonlite Software', 'Doomster Entertainment', 'Forbes Consult Ltd', 'vidiludi games and entertainment', 'Alien Sync Interactive', 'Ragiva Games e.K.', 'Drixy Games', 'Soloweb Studios,Ravens Eye Studio', 'ShaunJS', 'Antanas Marcelionis,Renė Petrulienė', 'Legend Studio', 'Capcom U.S.A., Inc.', 'SkyGoblin', 'Aeon Dream Studios']\n"
     ]
    }
   ],
   "source": [
    "print('Esta es la lista de Desarrolladores disponibles',Desarrolladores)"
   ]
  },
  {
   "cell_type": "code",
   "execution_count": 66,
   "metadata": {},
   "outputs": [],
   "source": [
    "# Armamos la funcion para lo que precisamos \n",
    "def sentiment_analysis(desarrolladora:str):\n",
    "    if type(desarrolladora) != str:\n",
    "        return \"Debes colocar un desarrollador de tipo str, EJ:'Valve'\"\n",
    "    if len(desarrolladora) == 0:\n",
    "        return \"Debes poner un desarrolador en tipo String\"\n",
    "    # Filtramos el DataFrame para la empresa desarrolladora especificada\n",
    "    filtered_df = consulta5[consulta5['Developer'] == desarrolladora]\n",
    "\n",
    "    # Contamos la cantidad de registros para cada categoría de sentimiento\n",
    "    sentiment_counts = filtered_df['sentiment_analysis'].value_counts()\n",
    "\n",
    "    # Creamos el diccionario de retorno\n",
    "    result = {desarrolladora: f\"[Negative = {sentiment_counts.get(0, 0)}, Neutral = {sentiment_counts.get(1, 0)}, Positive = {sentiment_counts.get(2, 0)}]\"}\n",
    "    return result"
   ]
  },
  {
   "cell_type": "code",
   "execution_count": 67,
   "metadata": {},
   "outputs": [
    {
     "data": {
      "text/plain": [
       "{'Valve': '[Negative = 1095, Neutral = 2407, Positive = 6080]'}"
      ]
     },
     "execution_count": 67,
     "metadata": {},
     "output_type": "execute_result"
    }
   ],
   "source": [
    "sentiment_analysis('Valve')"
   ]
  },
  {
   "cell_type": "code",
   "execution_count": 68,
   "metadata": {},
   "outputs": [
    {
     "data": {
      "text/plain": [
       "'Debes poner un desarrolador en tipo String'"
      ]
     },
     "execution_count": 68,
     "metadata": {},
     "output_type": "execute_result"
    }
   ],
   "source": [
    "sentiment_analysis('')"
   ]
  },
  {
   "cell_type": "code",
   "execution_count": 69,
   "metadata": {},
   "outputs": [
    {
     "data": {
      "text/plain": [
       "\"Debes colocar un desarrollador de tipo str, EJ:'Valve'\""
      ]
     },
     "execution_count": 69,
     "metadata": {},
     "output_type": "execute_result"
    }
   ],
   "source": [
    "sentiment_analysis(4)"
   ]
  },
  {
   "cell_type": "code",
   "execution_count": 70,
   "metadata": {},
   "outputs": [
    {
     "data": {
      "text/plain": [
       "{'3909': '[Negative = 13, Neutral = 11, Positive = 54]'}"
      ]
     },
     "execution_count": 70,
     "metadata": {},
     "output_type": "execute_result"
    }
   ],
   "source": [
    "sentiment_analysis('3909')"
   ]
  },
  {
   "cell_type": "markdown",
   "metadata": {},
   "source": [
    "-----------------------------------------------------------"
   ]
  },
  {
   "cell_type": "markdown",
   "metadata": {},
   "source": [
    "Si es un sistema de recomendación item-item:\n",
    "\n",
    "6.    def recomendacion_juego( id de producto ): Ingresando el id de producto, deberíamos recibir una lista con 5 juegos recomendados similares al ingresado.\n",
    "\n",
    "Si es un sistema de recomendación user-item:\n",
    "\n",
    " 7.   def recomendacion_usuario( id de usuario ): Ingresando el id de un usuario, deberíamos recibir una lista con 5 juegos recomendados para dicho usuario."
   ]
  },
  {
   "cell_type": "code",
   "execution_count": null,
   "metadata": {},
   "outputs": [],
   "source": []
  }
 ],
 "metadata": {
  "kernelspec": {
   "display_name": "Python 3",
   "language": "python",
   "name": "python3"
  },
  "language_info": {
   "codemirror_mode": {
    "name": "ipython",
    "version": 3
   },
   "file_extension": ".py",
   "mimetype": "text/x-python",
   "name": "python",
   "nbconvert_exporter": "python",
   "pygments_lexer": "ipython3",
   "version": "3.11.6"
  }
 },
 "nbformat": 4,
 "nbformat_minor": 2
}
