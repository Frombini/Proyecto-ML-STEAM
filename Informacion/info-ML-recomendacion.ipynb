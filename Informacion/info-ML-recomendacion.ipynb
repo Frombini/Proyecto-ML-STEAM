{
 "cells": [
  {
   "cell_type": "markdown",
   "metadata": {},
   "source": [
    "## **SISTEMAS DE RECOMENDACIÓN**\n",
    "\n",
    "En esta práctica abordaremos los aspectos centrales inherentes a los sistemas de recomendación.\n",
    "\n",
    "En esencia, un sistema de recomendación (en adelante, \"RS\") es un algoritmo que predice la preferencia de los usuarios ante un cierto ítem.\n",
    "\n",
    "En este punto, es importante introducir los dos elementos fundamentales en todo el proceso de RS: `usuarios` e `ítems`.\n",
    "\n",
    "- - -\n",
    "\n",
    "Los usuarios tienen preferencias para ciertos artículos, y estas preferencias deben extraerse de los datos. Los datos en sí se representan como una **`matriz de utilidad`**, dando para cada par usuario-ítem un valor que representa lo que se sabe sobre el grado de preferencia de ese usuario por ese artículo.\n",
    "\n",
    "<img src = \"matriz_utilidad.jpg\" height = 150>\n",
    "\n",
    "*Ejemplo de matriz de utilidad*."
   ]
  },
  {
   "cell_type": "markdown",
   "metadata": {},
   "source": [
    "En esta matriz, tenemos representadas las preferencias de cada usuario (A, B, C y D) para cada uno de los ítems (HP1, HP2, HP3, TW, SW1, SW2 y SW3). Podría asemejarse a una plataforma de streaming para películas -por supuesto que a una escala mucho más simplificada para fines prácticos-.\n",
    "\n",
    "Esta matriz, como la mayoría de su tipo, es `dispersa`. Esto quiere decir que contiene muchos valores faltantes. Por ejemplo, el usuario B calificó las películas de Harry Potter. Pero no puede calificar absolutamente todas las películas disponibles en la plataforma. Probablemente no haya visto ni el 1% de todo el contenido que brinda un servicio de streaming como Netflix. \n",
    "\n",
    "Nuestro objetivo es predecir todos los valores desconocidos en la matriz de utilidad. \n",
    "\n",
    "A simple vista, uno podría inferir que si al usuario A no le gustó Star Wars 1, probablemente tampoco le gustará Star Wars 2 y Star Wars 3. Por otra parte, si tuviéramos en nuestra matriz el artículo Harry Potter 4, y el usuario B no la vio, las probabilidades de que le guste son altas. Por supuesto, el objetivo es hacer todas estas predicciones pero de manera sistemática, no manual."
   ]
  },
  {
   "cell_type": "markdown",
   "metadata": {},
   "source": [
    "- - -"
   ]
  },
  {
   "cell_type": "markdown",
   "metadata": {},
   "source": [
    "### **`TIPOLOGÍA`**"
   ]
  },
  {
   "cell_type": "markdown",
   "metadata": {},
   "source": [
    "Una vez completada la matriz de utilidad, existen diversas formas de realizar recomendaciones a los usuarios. Por un lado, un modelo benchmark clásico para estos casos consiste en recomendar los n-mejores ítems. Claro está, esta estrategia carece de personalización y segmentación de los usuarios y las preferencias. Recomienda, simplemente, por popularidad de los artículos.\n",
    "\n",
    "### **Basados en contenidos**\n",
    "\n",
    "Estos RS recomiendan a partir de la información extraída de los ítems. Para la matriz de utilidad que estuvimos viendo, basaría su recomendación en la información per se de la película -cuál es su director, quiénes actúan, a qué género pertenece, en qué año se estrenó, etc.-.\n",
    "\n",
    "En este caso, se le recomendarán al usuario ítems que sean parecidos a los que calificó positivamente.\n",
    "\n",
    "### **Filtro colaborativo**\n",
    "\n",
    "Acá la similitud no se buscará entro los ítems, sino entre los usuarios. Ya no nos importa extraer información del artículo que recomendamos, sino buscar similaridad entre los usuarios. Puede pensarse como una regla de transitividad.\n",
    "\n",
    "Emplea una descomposición UV.\n",
    "\n",
    "Veamos, esquemáticamente, cuál es el fundamento de cada una de las estrategias:\n",
    "\n",
    "\n",
    "<img src = \"https://miro.medium.com/max/1064/1*mz9tzP1LjPBhmiWXeHyQkQ.png\" height = 400>\n",
    "\n",
    "- - -"
   ]
  },
  {
   "cell_type": "markdown",
   "metadata": {},
   "source": [
    "### **`SIMILITUD`**\n",
    "\n",
    "La pregunta que debemos responder ahora es, ¿cómo determinamos similitud?¿Con qué criterio establecemos que dos artículos, por ejemplo, son similares entre sí?\n",
    "\n",
    "Este concepto está muy relacionado con la **distancia**.\n",
    "\n",
    "#### ***Similitud coseno***\n",
    "\n",
    "Una de las formas de obtener esta característica, entre ítems o usuarios, es con la `similitud coseno`. Esta estrategia determina la similaridad según el ángulo del vector.\n",
    "\n",
    "|<img src = \"https://www.tyrrell4innovation.ca/wp-content/uploads/2021/06/rsz_jenny_du_miword.png\" height = 450> | <img src = \"../_src/assets/RS.jpg\" height = 300>|\n",
    "|- |- |\n",
    "\n",
    "#### ***Índice Jaccard***\n",
    "\n",
    "Esta medida deriva de la teoría de los conjuntos. Lo que hace es determinar similaridad a partir de la cantidad de elementos en común que tienen los cojuntos -por ejemplo, los usuarios-.\n",
    "\n",
    "|<img src = \"https://encrypted-tbn0.gstatic.com/images?q=tbn:ANd9GcTOlmfUP56ZbgwudKcjlXEc9os0Vwe7NO7wRA&usqp=CAU\" height = 200>|\n",
    "\n",
    "<img src = \"https://storage.googleapis.com/lds-media/images/jaccard_similarity.width-1200.jpg\" height = 400>\n",
    "\n",
    "- - -\n",
    "\n",
    "### `Práctica`\n",
    "\n",
    "Trabajaremos con un [dataset](https://www.kaggle.com/datasets/netflix-inc/netflix-prize-data) de Netflix, disponibilizado por la compañía en ocasión de un Challenge que hicieron público. Aplicaremos un filtro colaborativo. Podrán observar que nos estamos enfrentando a un caso real, con una cantidad de datos altamente superior a lo que estamos acostumbrados a usar como ejemplos de prácticas.\n",
    "\n",
    "En una primaria instancia, cargaremos solo uno de los archivos. Deberemos hacer un exhaustivo análisis exploratorio de los datos. Posteriormente, instanciaremos nuestro modelo con la librería `surprise` y, finalmente, mostraremos cómo incorporar los demás archivos disponibles.\n",
    "\n",
    "Teniendo en cuenta el espacio en memoria que ocuparán nuestros datos, iremos aplicando diversas estrategias que, además, pueden ser de mucha utilidad a futuro para casos similares.\n"
   ]
  },
  {
   "cell_type": "code",
   "execution_count": 1,
   "metadata": {},
   "outputs": [],
   "source": [
    "import numpy as np\n",
    "import matplotlib.pyplot as plt\n",
    "import seaborn as sns\n",
    "sns.set()\n",
    "\n",
    "import pandas as pd\n",
    "\n",
    "import gc #garbage collector"
   ]
  },
  {
   "cell_type": "code",
   "execution_count": 2,
   "metadata": {},
   "outputs": [
    {
     "name": "stdout",
     "output_type": "stream",
     "text": [
      "(24058263, 2)\n"
     ]
    }
   ],
   "source": [
    "def load_data(name):\n",
    "    df = pd.read_csv(name, header = None, names = ['User','Rating'], usecols = [0,1])\n",
    "    \n",
    "    # En algunas ocasiones forzar un tipo de dato hace que se ahorre mucho lugar en memoria.\n",
    "    df['Rating'] = df['Rating'].astype(float)\n",
    "    return df\n",
    "\n",
    "df1 = load_data('../Datasets/Clase_08_RS/combined_data_1.txt')\n",
    "print(df1.shape)"
   ]
  },
  {
   "cell_type": "markdown",
   "metadata": {},
   "source": [
    "**Sí. Tenemos 24 millones de filas. Y es solo el primer archivo del dataset total, que está subdividido en 4 txt.**\n",
    "\n",
    "<img src = \"https://c.tenor.com/Je27rnxSMbMAAAAM/suspicious-the-simpsons.gif\">"
   ]
  },
  {
   "cell_type": "code",
   "execution_count": 3,
   "metadata": {},
   "outputs": [
    {
     "name": "stdout",
     "output_type": "stream",
     "text": [
      "<class 'pandas.core.frame.DataFrame'>\n",
      "RangeIndex: 24058263 entries, 0 to 24058262\n",
      "Data columns (total 2 columns):\n",
      " #   Column  Dtype  \n",
      "---  ------  -----  \n",
      " 0   User    object \n",
      " 1   Rating  float64\n",
      "dtypes: float64(1), object(1)\n",
      "memory usage: 367.1+ MB\n"
     ]
    }
   ],
   "source": [
    "df1.info()"
   ]
  },
  {
   "cell_type": "code",
   "execution_count": 4,
   "metadata": {},
   "outputs": [
    {
     "data": {
      "text/html": [
       "<div>\n",
       "<style scoped>\n",
       "    .dataframe tbody tr th:only-of-type {\n",
       "        vertical-align: middle;\n",
       "    }\n",
       "\n",
       "    .dataframe tbody tr th {\n",
       "        vertical-align: top;\n",
       "    }\n",
       "\n",
       "    .dataframe thead th {\n",
       "        text-align: right;\n",
       "    }\n",
       "</style>\n",
       "<table border=\"1\" class=\"dataframe\">\n",
       "  <thead>\n",
       "    <tr style=\"text-align: right;\">\n",
       "      <th></th>\n",
       "      <th>User</th>\n",
       "      <th>Rating</th>\n",
       "    </tr>\n",
       "  </thead>\n",
       "  <tbody>\n",
       "    <tr>\n",
       "      <th>0</th>\n",
       "      <td>1:</td>\n",
       "      <td>NaN</td>\n",
       "    </tr>\n",
       "    <tr>\n",
       "      <th>1</th>\n",
       "      <td>1488844</td>\n",
       "      <td>3.0</td>\n",
       "    </tr>\n",
       "    <tr>\n",
       "      <th>2</th>\n",
       "      <td>822109</td>\n",
       "      <td>5.0</td>\n",
       "    </tr>\n",
       "    <tr>\n",
       "      <th>3</th>\n",
       "      <td>885013</td>\n",
       "      <td>4.0</td>\n",
       "    </tr>\n",
       "    <tr>\n",
       "      <th>4</th>\n",
       "      <td>30878</td>\n",
       "      <td>4.0</td>\n",
       "    </tr>\n",
       "  </tbody>\n",
       "</table>\n",
       "</div>"
      ],
      "text/plain": [
       "      User  Rating\n",
       "0       1:     NaN\n",
       "1  1488844     3.0\n",
       "2   822109     5.0\n",
       "3   885013     4.0\n",
       "4    30878     4.0"
      ]
     },
     "execution_count": 4,
     "metadata": {},
     "output_type": "execute_result"
    }
   ],
   "source": [
    "df1.head()"
   ]
  },
  {
   "cell_type": "markdown",
   "metadata": {},
   "source": [
    "**Para saber a qué película corresponde cada calificación, debemos importar el dataset que aporta dicha información.**"
   ]
  },
  {
   "cell_type": "code",
   "execution_count": 5,
   "metadata": {},
   "outputs": [
    {
     "data": {
      "text/html": [
       "<div>\n",
       "<style scoped>\n",
       "    .dataframe tbody tr th:only-of-type {\n",
       "        vertical-align: middle;\n",
       "    }\n",
       "\n",
       "    .dataframe tbody tr th {\n",
       "        vertical-align: top;\n",
       "    }\n",
       "\n",
       "    .dataframe thead th {\n",
       "        text-align: right;\n",
       "    }\n",
       "</style>\n",
       "<table border=\"1\" class=\"dataframe\">\n",
       "  <thead>\n",
       "    <tr style=\"text-align: right;\">\n",
       "      <th></th>\n",
       "      <th>Name</th>\n",
       "    </tr>\n",
       "    <tr>\n",
       "      <th>Movie_Id</th>\n",
       "      <th></th>\n",
       "    </tr>\n",
       "  </thead>\n",
       "  <tbody>\n",
       "    <tr>\n",
       "      <th>1</th>\n",
       "      <td>Dinosaur Planet</td>\n",
       "    </tr>\n",
       "    <tr>\n",
       "      <th>2</th>\n",
       "      <td>Isle of Man TT 2004 Review</td>\n",
       "    </tr>\n",
       "    <tr>\n",
       "      <th>3</th>\n",
       "      <td>Character</td>\n",
       "    </tr>\n",
       "    <tr>\n",
       "      <th>4</th>\n",
       "      <td>Paula Abdul's Get Up &amp; Dance</td>\n",
       "    </tr>\n",
       "    <tr>\n",
       "      <th>5</th>\n",
       "      <td>The Rise and Fall of ECW</td>\n",
       "    </tr>\n",
       "  </tbody>\n",
       "</table>\n",
       "</div>"
      ],
      "text/plain": [
       "                                  Name\n",
       "Movie_Id                              \n",
       "1                      Dinosaur Planet\n",
       "2           Isle of Man TT 2004 Review\n",
       "3                            Character\n",
       "4         Paula Abdul's Get Up & Dance\n",
       "5             The Rise and Fall of ECW"
      ]
     },
     "execution_count": 5,
     "metadata": {},
     "output_type": "execute_result"
    }
   ],
   "source": [
    "df_title = pd.read_csv('../Datasets/Clase_08_RS/movie_titles.csv', encoding = \"ISO-8859-1\",index_col = 0, header = None, usecols = [0,2], names = ['Movie_Id', 'Name'])\n",
    "df_title.head()"
   ]
  },
  {
   "cell_type": "code",
   "execution_count": 6,
   "metadata": {},
   "outputs": [
    {
     "name": "stdout",
     "output_type": "stream",
     "text": [
      "The Rise and Fall of ECW\n"
     ]
    }
   ],
   "source": [
    "movie_id = 5\n",
    "print(df_title.loc[movie_id].Name)"
   ]
  },
  {
   "cell_type": "code",
   "execution_count": 7,
   "metadata": {},
   "outputs": [
    {
     "name": "stdout",
     "output_type": "stream",
     "text": [
      "['1:' '2:' '3:' ... '4497:' '4498:' '4499:']\n",
      "4499\n"
     ]
    }
   ],
   "source": [
    "# Si queremos contar cuántos identificadores hay, vamos a usar la siguiente información: al lado del identificador de la película, la columna `Rating` de `df1` tiene un `NaN`.\n",
    "\n",
    "movies_ids_df1 = df1.User[df1.Rating.isna()].values\n",
    "print(movies_ids_df1)\n",
    "print(len(movies_ids_df1))"
   ]
  },
  {
   "cell_type": "code",
   "execution_count": 8,
   "metadata": {},
   "outputs": [
    {
     "name": "stdout",
     "output_type": "stream",
     "text": [
      "[   1    2    3 ... 4497 4498 4499]\n"
     ]
    }
   ],
   "source": [
    "# Proceso para poder pasar los identificados a nombres\n",
    "\n",
    "movies_ids_df1 = np.arange(1,len(movies_ids_df1) + 1)\n",
    "print(movies_ids_df1)"
   ]
  },
  {
   "cell_type": "markdown",
   "metadata": {},
   "source": [
    "### **Movie id**\n",
    "\n",
    "Aquí, buscaremos agregar una columna con el ID de la película a la que corresponde cada calificación."
   ]
  },
  {
   "cell_type": "code",
   "execution_count": 9,
   "metadata": {},
   "outputs": [
    {
     "name": "stdout",
     "output_type": "stream",
     "text": [
      "[       0      548      694 ... 24056849 24057564 24057834]\n"
     ]
    }
   ],
   "source": [
    "df1_nan = pd.DataFrame(pd.isnull(df1.Rating))\n",
    "df1_nan = df1_nan[df1_nan['Rating'] == True]\n",
    "idx_movies_ids = df1_nan.index.values\n",
    "print(idx_movies_ids)"
   ]
  },
  {
   "cell_type": "markdown",
   "metadata": {},
   "source": [
    "Queremos crear un vector de tantas instancias como `df1`, donde en cada lugar esté el movie_id a cual corresponde la calificación. Como tenemos los índices donde está cada movie_id, podemos obtener cuántas calificaciones hay de cada película."
   ]
  },
  {
   "cell_type": "code",
   "execution_count": 10,
   "metadata": {},
   "outputs": [
    {
     "data": {
      "text/plain": [
       "array([ 548,  146, 2013, ...,  715,  270,  429], dtype=int64)"
      ]
     },
     "execution_count": 10,
     "metadata": {},
     "output_type": "execute_result"
    }
   ],
   "source": [
    "# Agregamos el índice de la última instancia del DataFrame\n",
    "\n",
    "idx_movies_ids = np.append(idx_movies_ids,df1.shape[0])\n",
    "cantidad_criticas = np.diff(idx_movies_ids)\n",
    "cantidad_criticas"
   ]
  },
  {
   "cell_type": "code",
   "execution_count": 11,
   "metadata": {},
   "outputs": [
    {
     "name": "stdout",
     "output_type": "stream",
     "text": [
      "Tardó 207 segundos\n"
     ]
    }
   ],
   "source": [
    "# Celda no apta para ansiosos\n",
    "\n",
    "import time\n",
    "\n",
    "comienzo = time.time()\n",
    "\n",
    "columna_movie_id = np.array([])\n",
    "for i in range(cantidad_criticas.size):\n",
    "    aux = np.full(cantidad_criticas[i], movies_ids_df1[i])\n",
    "    columna_movie_id = np.concatenate((columna_movie_id, aux))\n",
    "    \n",
    "tiempo = time.time() - comienzo\n",
    "\n",
    "print(f'Tardó {round(tiempo)} segundos')"
   ]
  },
  {
   "cell_type": "code",
   "execution_count": 12,
   "metadata": {},
   "outputs": [],
   "source": [
    "# Incorporamos la columna al DataFrame\n",
    "\n",
    "df1['movie_id'] = columna_movie_id\n",
    "del columna_movie_id\n",
    "\n",
    "df1.dropna(inplace = True)\n",
    "df1['User'] = df1['User'].astype(int)\n",
    "df1['movie_id'] = df1['movie_id'].astype(np.int16)\n",
    "df1['Rating'] = df1['Rating'].astype(np.int8)"
   ]
  },
  {
   "cell_type": "code",
   "execution_count": 13,
   "metadata": {},
   "outputs": [
    {
     "data": {
      "text/plain": [
       "0"
      ]
     },
     "execution_count": 13,
     "metadata": {},
     "output_type": "execute_result"
    }
   ],
   "source": [
    "gc.collect()"
   ]
  },
  {
   "cell_type": "code",
   "execution_count": 14,
   "metadata": {},
   "outputs": [
    {
     "data": {
      "text/html": [
       "<div>\n",
       "<style scoped>\n",
       "    .dataframe tbody tr th:only-of-type {\n",
       "        vertical-align: middle;\n",
       "    }\n",
       "\n",
       "    .dataframe tbody tr th {\n",
       "        vertical-align: top;\n",
       "    }\n",
       "\n",
       "    .dataframe thead th {\n",
       "        text-align: right;\n",
       "    }\n",
       "</style>\n",
       "<table border=\"1\" class=\"dataframe\">\n",
       "  <thead>\n",
       "    <tr style=\"text-align: right;\">\n",
       "      <th></th>\n",
       "      <th>User</th>\n",
       "      <th>Rating</th>\n",
       "      <th>movie_id</th>\n",
       "    </tr>\n",
       "  </thead>\n",
       "  <tbody>\n",
       "    <tr>\n",
       "      <th>1</th>\n",
       "      <td>1488844</td>\n",
       "      <td>3</td>\n",
       "      <td>1</td>\n",
       "    </tr>\n",
       "    <tr>\n",
       "      <th>2</th>\n",
       "      <td>822109</td>\n",
       "      <td>5</td>\n",
       "      <td>1</td>\n",
       "    </tr>\n",
       "    <tr>\n",
       "      <th>3</th>\n",
       "      <td>885013</td>\n",
       "      <td>4</td>\n",
       "      <td>1</td>\n",
       "    </tr>\n",
       "    <tr>\n",
       "      <th>4</th>\n",
       "      <td>30878</td>\n",
       "      <td>4</td>\n",
       "      <td>1</td>\n",
       "    </tr>\n",
       "    <tr>\n",
       "      <th>5</th>\n",
       "      <td>823519</td>\n",
       "      <td>3</td>\n",
       "      <td>1</td>\n",
       "    </tr>\n",
       "    <tr>\n",
       "      <th>...</th>\n",
       "      <td>...</td>\n",
       "      <td>...</td>\n",
       "      <td>...</td>\n",
       "    </tr>\n",
       "    <tr>\n",
       "      <th>24058258</th>\n",
       "      <td>2591364</td>\n",
       "      <td>2</td>\n",
       "      <td>4499</td>\n",
       "    </tr>\n",
       "    <tr>\n",
       "      <th>24058259</th>\n",
       "      <td>1791000</td>\n",
       "      <td>2</td>\n",
       "      <td>4499</td>\n",
       "    </tr>\n",
       "    <tr>\n",
       "      <th>24058260</th>\n",
       "      <td>512536</td>\n",
       "      <td>5</td>\n",
       "      <td>4499</td>\n",
       "    </tr>\n",
       "    <tr>\n",
       "      <th>24058261</th>\n",
       "      <td>988963</td>\n",
       "      <td>3</td>\n",
       "      <td>4499</td>\n",
       "    </tr>\n",
       "    <tr>\n",
       "      <th>24058262</th>\n",
       "      <td>1704416</td>\n",
       "      <td>3</td>\n",
       "      <td>4499</td>\n",
       "    </tr>\n",
       "  </tbody>\n",
       "</table>\n",
       "<p>24053764 rows × 3 columns</p>\n",
       "</div>"
      ],
      "text/plain": [
       "             User  Rating  movie_id\n",
       "1         1488844       3         1\n",
       "2          822109       5         1\n",
       "3          885013       4         1\n",
       "4           30878       4         1\n",
       "5          823519       3         1\n",
       "...           ...     ...       ...\n",
       "24058258  2591364       2      4499\n",
       "24058259  1791000       2      4499\n",
       "24058260   512536       5      4499\n",
       "24058261   988963       3      4499\n",
       "24058262  1704416       3      4499\n",
       "\n",
       "[24053764 rows x 3 columns]"
      ]
     },
     "execution_count": 14,
     "metadata": {},
     "output_type": "execute_result"
    }
   ],
   "source": [
    "# Observamos cómo quedó nuestra tabla\n",
    "\n",
    "df1"
   ]
  },
  {
   "cell_type": "code",
   "execution_count": 15,
   "metadata": {},
   "outputs": [],
   "source": [
    "# Guardamos\n",
    "switch = False #cambien acá si quieren guardarlo\n",
    "\n",
    "if switch:\n",
    "    df1.to_csv('../Dataset/Clase_08_RS/combined_data_1_con_movie_id.csv', index= False)"
   ]
  },
  {
   "cell_type": "markdown",
   "metadata": {},
   "source": [
    "- - -\n",
    "\n",
    "### **Análisis Exploratorio de Datos**"
   ]
  },
  {
   "cell_type": "code",
   "execution_count": 16,
   "metadata": {},
   "outputs": [
    {
     "name": "stdout",
     "output_type": "stream",
     "text": [
      "(24053764, 3)\n"
     ]
    },
    {
     "data": {
      "text/html": [
       "<div>\n",
       "<style scoped>\n",
       "    .dataframe tbody tr th:only-of-type {\n",
       "        vertical-align: middle;\n",
       "    }\n",
       "\n",
       "    .dataframe tbody tr th {\n",
       "        vertical-align: top;\n",
       "    }\n",
       "\n",
       "    .dataframe thead th {\n",
       "        text-align: right;\n",
       "    }\n",
       "</style>\n",
       "<table border=\"1\" class=\"dataframe\">\n",
       "  <thead>\n",
       "    <tr style=\"text-align: right;\">\n",
       "      <th></th>\n",
       "      <th>User</th>\n",
       "      <th>Rating</th>\n",
       "      <th>movie_id</th>\n",
       "    </tr>\n",
       "  </thead>\n",
       "  <tbody>\n",
       "    <tr>\n",
       "      <th>1</th>\n",
       "      <td>1488844</td>\n",
       "      <td>3</td>\n",
       "      <td>1</td>\n",
       "    </tr>\n",
       "    <tr>\n",
       "      <th>2</th>\n",
       "      <td>822109</td>\n",
       "      <td>5</td>\n",
       "      <td>1</td>\n",
       "    </tr>\n",
       "    <tr>\n",
       "      <th>3</th>\n",
       "      <td>885013</td>\n",
       "      <td>4</td>\n",
       "      <td>1</td>\n",
       "    </tr>\n",
       "    <tr>\n",
       "      <th>4</th>\n",
       "      <td>30878</td>\n",
       "      <td>4</td>\n",
       "      <td>1</td>\n",
       "    </tr>\n",
       "    <tr>\n",
       "      <th>5</th>\n",
       "      <td>823519</td>\n",
       "      <td>3</td>\n",
       "      <td>1</td>\n",
       "    </tr>\n",
       "  </tbody>\n",
       "</table>\n",
       "</div>"
      ],
      "text/plain": [
       "      User  Rating  movie_id\n",
       "1  1488844       3         1\n",
       "2   822109       5         1\n",
       "3   885013       4         1\n",
       "4    30878       4         1\n",
       "5   823519       3         1"
      ]
     },
     "execution_count": 16,
     "metadata": {},
     "output_type": "execute_result"
    }
   ],
   "source": [
    "print(df1.shape)\n",
    "df1.head()"
   ]
  },
  {
   "cell_type": "code",
   "execution_count": 17,
   "metadata": {},
   "outputs": [
    {
     "name": "stdout",
     "output_type": "stream",
     "text": [
      "(24053764, 3)\n"
     ]
    },
    {
     "data": {
      "text/html": [
       "<div>\n",
       "<style scoped>\n",
       "    .dataframe tbody tr th:only-of-type {\n",
       "        vertical-align: middle;\n",
       "    }\n",
       "\n",
       "    .dataframe tbody tr th {\n",
       "        vertical-align: top;\n",
       "    }\n",
       "\n",
       "    .dataframe thead th {\n",
       "        text-align: right;\n",
       "    }\n",
       "</style>\n",
       "<table border=\"1\" class=\"dataframe\">\n",
       "  <thead>\n",
       "    <tr style=\"text-align: right;\">\n",
       "      <th></th>\n",
       "      <th>User</th>\n",
       "      <th>Rating</th>\n",
       "      <th>movie_id</th>\n",
       "    </tr>\n",
       "  </thead>\n",
       "  <tbody>\n",
       "    <tr>\n",
       "      <th>0</th>\n",
       "      <td>1488844</td>\n",
       "      <td>3</td>\n",
       "      <td>1</td>\n",
       "    </tr>\n",
       "    <tr>\n",
       "      <th>1</th>\n",
       "      <td>822109</td>\n",
       "      <td>5</td>\n",
       "      <td>1</td>\n",
       "    </tr>\n",
       "    <tr>\n",
       "      <th>2</th>\n",
       "      <td>885013</td>\n",
       "      <td>4</td>\n",
       "      <td>1</td>\n",
       "    </tr>\n",
       "    <tr>\n",
       "      <th>3</th>\n",
       "      <td>30878</td>\n",
       "      <td>4</td>\n",
       "      <td>1</td>\n",
       "    </tr>\n",
       "    <tr>\n",
       "      <th>4</th>\n",
       "      <td>823519</td>\n",
       "      <td>3</td>\n",
       "      <td>1</td>\n",
       "    </tr>\n",
       "  </tbody>\n",
       "</table>\n",
       "</div>"
      ],
      "text/plain": [
       "      User  Rating  movie_id\n",
       "0  1488844       3         1\n",
       "1   822109       5         1\n",
       "2   885013       4         1\n",
       "3    30878       4         1\n",
       "4   823519       3         1"
      ]
     },
     "execution_count": 17,
     "metadata": {},
     "output_type": "execute_result"
    }
   ],
   "source": [
    "df1 = pd.read_csv('../Datasets/Clase_08_RS/combined_data_1_con_movie_id.csv', dtype={'Rating': np.int8, 'movie_id': np.int16})\n",
    "print(df1.shape)\n",
    "df1.head()"
   ]
  },
  {
   "cell_type": "code",
   "execution_count": 18,
   "metadata": {},
   "outputs": [
    {
     "data": {
      "text/plain": [
       "User        int64\n",
       "Rating       int8\n",
       "movie_id    int16\n",
       "dtype: object"
      ]
     },
     "execution_count": 18,
     "metadata": {},
     "output_type": "execute_result"
    }
   ],
   "source": [
    "df1.dtypes"
   ]
  },
  {
   "cell_type": "code",
   "execution_count": 19,
   "metadata": {},
   "outputs": [
    {
     "data": {
      "text/html": [
       "<div>\n",
       "<style scoped>\n",
       "    .dataframe tbody tr th:only-of-type {\n",
       "        vertical-align: middle;\n",
       "    }\n",
       "\n",
       "    .dataframe tbody tr th {\n",
       "        vertical-align: top;\n",
       "    }\n",
       "\n",
       "    .dataframe thead th {\n",
       "        text-align: right;\n",
       "    }\n",
       "</style>\n",
       "<table border=\"1\" class=\"dataframe\">\n",
       "  <thead>\n",
       "    <tr style=\"text-align: right;\">\n",
       "      <th></th>\n",
       "      <th>Name</th>\n",
       "    </tr>\n",
       "    <tr>\n",
       "      <th>Movie_Id</th>\n",
       "      <th></th>\n",
       "    </tr>\n",
       "  </thead>\n",
       "  <tbody>\n",
       "    <tr>\n",
       "      <th>1</th>\n",
       "      <td>Dinosaur Planet</td>\n",
       "    </tr>\n",
       "    <tr>\n",
       "      <th>2</th>\n",
       "      <td>Isle of Man TT 2004 Review</td>\n",
       "    </tr>\n",
       "    <tr>\n",
       "      <th>3</th>\n",
       "      <td>Character</td>\n",
       "    </tr>\n",
       "    <tr>\n",
       "      <th>4</th>\n",
       "      <td>Paula Abdul's Get Up &amp; Dance</td>\n",
       "    </tr>\n",
       "    <tr>\n",
       "      <th>5</th>\n",
       "      <td>The Rise and Fall of ECW</td>\n",
       "    </tr>\n",
       "    <tr>\n",
       "      <th>...</th>\n",
       "      <td>...</td>\n",
       "    </tr>\n",
       "    <tr>\n",
       "      <th>17766</th>\n",
       "      <td>Where the Wild Things Are and Other Maurice Se...</td>\n",
       "    </tr>\n",
       "    <tr>\n",
       "      <th>17767</th>\n",
       "      <td>Fidel Castro: American Experience</td>\n",
       "    </tr>\n",
       "    <tr>\n",
       "      <th>17768</th>\n",
       "      <td>Epoch</td>\n",
       "    </tr>\n",
       "    <tr>\n",
       "      <th>17769</th>\n",
       "      <td>The Company</td>\n",
       "    </tr>\n",
       "    <tr>\n",
       "      <th>17770</th>\n",
       "      <td>Alien Hunter</td>\n",
       "    </tr>\n",
       "  </tbody>\n",
       "</table>\n",
       "<p>17770 rows × 1 columns</p>\n",
       "</div>"
      ],
      "text/plain": [
       "                                                       Name\n",
       "Movie_Id                                                   \n",
       "1                                           Dinosaur Planet\n",
       "2                                Isle of Man TT 2004 Review\n",
       "3                                                 Character\n",
       "4                              Paula Abdul's Get Up & Dance\n",
       "5                                  The Rise and Fall of ECW\n",
       "...                                                     ...\n",
       "17766     Where the Wild Things Are and Other Maurice Se...\n",
       "17767                     Fidel Castro: American Experience\n",
       "17768                                                 Epoch\n",
       "17769                                           The Company\n",
       "17770                                          Alien Hunter\n",
       "\n",
       "[17770 rows x 1 columns]"
      ]
     },
     "execution_count": 19,
     "metadata": {},
     "output_type": "execute_result"
    }
   ],
   "source": [
    "df_title"
   ]
  },
  {
   "cell_type": "code",
   "execution_count": 20,
   "metadata": {},
   "outputs": [
    {
     "name": "stdout",
     "output_type": "stream",
     "text": [
      "470758\n"
     ]
    }
   ],
   "source": [
    "# Usuarios únicos\n",
    "\n",
    "print(len(df1['User'].unique()))"
   ]
  },
  {
   "cell_type": "code",
   "execution_count": 21,
   "metadata": {},
   "outputs": [
    {
     "data": {
      "text/html": [
       "<div>\n",
       "<style scoped>\n",
       "    .dataframe tbody tr th:only-of-type {\n",
       "        vertical-align: middle;\n",
       "    }\n",
       "\n",
       "    .dataframe tbody tr th {\n",
       "        vertical-align: top;\n",
       "    }\n",
       "\n",
       "    .dataframe thead th {\n",
       "        text-align: right;\n",
       "    }\n",
       "</style>\n",
       "<table border=\"1\" class=\"dataframe\">\n",
       "  <thead>\n",
       "    <tr style=\"text-align: right;\">\n",
       "      <th></th>\n",
       "      <th>Rating</th>\n",
       "      <th>movie_id</th>\n",
       "    </tr>\n",
       "    <tr>\n",
       "      <th>User</th>\n",
       "      <th></th>\n",
       "      <th></th>\n",
       "    </tr>\n",
       "  </thead>\n",
       "  <tbody>\n",
       "    <tr>\n",
       "      <th>6</th>\n",
       "      <td>153</td>\n",
       "      <td>153</td>\n",
       "    </tr>\n",
       "    <tr>\n",
       "      <th>7</th>\n",
       "      <td>195</td>\n",
       "      <td>195</td>\n",
       "    </tr>\n",
       "    <tr>\n",
       "      <th>8</th>\n",
       "      <td>21</td>\n",
       "      <td>21</td>\n",
       "    </tr>\n",
       "    <tr>\n",
       "      <th>10</th>\n",
       "      <td>49</td>\n",
       "      <td>49</td>\n",
       "    </tr>\n",
       "    <tr>\n",
       "      <th>25</th>\n",
       "      <td>4</td>\n",
       "      <td>4</td>\n",
       "    </tr>\n",
       "  </tbody>\n",
       "</table>\n",
       "</div>"
      ],
      "text/plain": [
       "      Rating  movie_id\n",
       "User                  \n",
       "6        153       153\n",
       "7        195       195\n",
       "8         21        21\n",
       "10        49        49\n",
       "25         4         4"
      ]
     },
     "execution_count": 21,
     "metadata": {},
     "output_type": "execute_result"
    }
   ],
   "source": [
    "# Calificaciones de películas por usuario\n",
    "\n",
    "df1_by_users = df1.groupby(['User']).count()\n",
    "df1_by_users.head()"
   ]
  },
  {
   "cell_type": "code",
   "execution_count": 22,
   "metadata": {},
   "outputs": [
    {
     "data": {
      "image/png": "[encoded data removed]",
      "text/plain": [
       "<Figure size 432x288 with 1 Axes>"
      ]
     },
     "metadata": {
      "needs_background": "light"
     },
     "output_type": "display_data"
    }
   ],
   "source": [
    "plt.hist(df1_by_users.Rating, log= True)\n",
    "plt.title('Calificaciones por usuario')\n",
    "plt.show()"
   ]
  },
  {
   "cell_type": "code",
   "execution_count": 23,
   "metadata": {},
   "outputs": [
    {
     "data": {
      "image/png": "[encoded data removed]",
      "text/plain": [
       "<Figure size 432x288 with 1 Axes>"
      ]
     },
     "metadata": {
      "needs_background": "light"
     },
     "output_type": "display_data"
    }
   ],
   "source": [
    "# Observamos la distribución de las calificaciones\n",
    "\n",
    "df1['Rating'].hist()\n",
    "plt.title('Distribución de calificaciones')\n",
    "plt.show()"
   ]
  },
  {
   "cell_type": "markdown",
   "metadata": {},
   "source": [
    "**Veamos cuál es la película que más calificaciones tiene y cuál la que menos**."
   ]
  },
  {
   "cell_type": "code",
   "execution_count": 24,
   "metadata": {},
   "outputs": [
    {
     "data": {
      "text/html": [
       "<div>\n",
       "<style scoped>\n",
       "    .dataframe tbody tr th:only-of-type {\n",
       "        vertical-align: middle;\n",
       "    }\n",
       "\n",
       "    .dataframe tbody tr th {\n",
       "        vertical-align: top;\n",
       "    }\n",
       "\n",
       "    .dataframe thead th {\n",
       "        text-align: right;\n",
       "    }\n",
       "</style>\n",
       "<table border=\"1\" class=\"dataframe\">\n",
       "  <thead>\n",
       "    <tr style=\"text-align: right;\">\n",
       "      <th></th>\n",
       "      <th>User</th>\n",
       "      <th>Rating</th>\n",
       "    </tr>\n",
       "    <tr>\n",
       "      <th>movie_id</th>\n",
       "      <th></th>\n",
       "      <th></th>\n",
       "    </tr>\n",
       "  </thead>\n",
       "  <tbody>\n",
       "    <tr>\n",
       "      <th>1</th>\n",
       "      <td>547</td>\n",
       "      <td>547</td>\n",
       "    </tr>\n",
       "    <tr>\n",
       "      <th>2</th>\n",
       "      <td>145</td>\n",
       "      <td>145</td>\n",
       "    </tr>\n",
       "    <tr>\n",
       "      <th>3</th>\n",
       "      <td>2012</td>\n",
       "      <td>2012</td>\n",
       "    </tr>\n",
       "    <tr>\n",
       "      <th>4</th>\n",
       "      <td>142</td>\n",
       "      <td>142</td>\n",
       "    </tr>\n",
       "    <tr>\n",
       "      <th>5</th>\n",
       "      <td>1140</td>\n",
       "      <td>1140</td>\n",
       "    </tr>\n",
       "  </tbody>\n",
       "</table>\n",
       "</div>"
      ],
      "text/plain": [
       "          User  Rating\n",
       "movie_id              \n",
       "1          547     547\n",
       "2          145     145\n",
       "3         2012    2012\n",
       "4          142     142\n",
       "5         1140    1140"
      ]
     },
     "execution_count": 24,
     "metadata": {},
     "output_type": "execute_result"
    }
   ],
   "source": [
    "df1_by_movies = df1.groupby(['movie_id']).count()\n",
    "df1_by_movies.head()"
   ]
  },
  {
   "cell_type": "code",
   "execution_count": 25,
   "metadata": {},
   "outputs": [
    {
     "name": "stdout",
     "output_type": "stream",
     "text": [
      "Pirates of the Caribbean: The Curse of the Black Pearl\n"
     ]
    }
   ],
   "source": [
    "idx_max = df1_by_movies['User'].idxmax()\n",
    "print(df_title.loc[idx_max].Name)"
   ]
  },
  {
   "cell_type": "code",
   "execution_count": 26,
   "metadata": {},
   "outputs": [
    {
     "name": "stdout",
     "output_type": "stream",
     "text": [
      "Bram Stoker's: To Die For\n"
     ]
    }
   ],
   "source": [
    "# Pelicula con menos calificaciones\n",
    "idx_min = df1_by_movies['User'].idxmin()\n",
    "print(df_title.loc[idx_min].Name)"
   ]
  },
  {
   "cell_type": "markdown",
   "metadata": {},
   "source": [
    "### **Películas por popularidad**"
   ]
  },
  {
   "cell_type": "code",
   "execution_count": 27,
   "metadata": {},
   "outputs": [
    {
     "data": {
      "text/html": [
       "<div>\n",
       "<style scoped>\n",
       "    .dataframe tbody tr th:only-of-type {\n",
       "        vertical-align: middle;\n",
       "    }\n",
       "\n",
       "    .dataframe tbody tr th {\n",
       "        vertical-align: top;\n",
       "    }\n",
       "\n",
       "    .dataframe thead th {\n",
       "        text-align: right;\n",
       "    }\n",
       "</style>\n",
       "<table border=\"1\" class=\"dataframe\">\n",
       "  <thead>\n",
       "    <tr style=\"text-align: right;\">\n",
       "      <th></th>\n",
       "      <th>Vistos</th>\n",
       "    </tr>\n",
       "    <tr>\n",
       "      <th>movie_id</th>\n",
       "      <th></th>\n",
       "    </tr>\n",
       "  </thead>\n",
       "  <tbody>\n",
       "    <tr>\n",
       "      <th>1905</th>\n",
       "      <td>193941</td>\n",
       "    </tr>\n",
       "    <tr>\n",
       "      <th>2152</th>\n",
       "      <td>162597</td>\n",
       "    </tr>\n",
       "    <tr>\n",
       "      <th>3860</th>\n",
       "      <td>160454</td>\n",
       "    </tr>\n",
       "    <tr>\n",
       "      <th>4432</th>\n",
       "      <td>156183</td>\n",
       "    </tr>\n",
       "    <tr>\n",
       "      <th>571</th>\n",
       "      <td>154832</td>\n",
       "    </tr>\n",
       "    <tr>\n",
       "      <th>3938</th>\n",
       "      <td>153996</td>\n",
       "    </tr>\n",
       "    <tr>\n",
       "      <th>4306</th>\n",
       "      <td>151292</td>\n",
       "    </tr>\n",
       "    <tr>\n",
       "      <th>2452</th>\n",
       "      <td>149866</td>\n",
       "    </tr>\n",
       "    <tr>\n",
       "      <th>1962</th>\n",
       "      <td>145519</td>\n",
       "    </tr>\n",
       "    <tr>\n",
       "      <th>3962</th>\n",
       "      <td>140979</td>\n",
       "    </tr>\n",
       "  </tbody>\n",
       "</table>\n",
       "</div>"
      ],
      "text/plain": [
       "          Vistos\n",
       "movie_id        \n",
       "1905      193941\n",
       "2152      162597\n",
       "3860      160454\n",
       "4432      156183\n",
       "571       154832\n",
       "3938      153996\n",
       "4306      151292\n",
       "2452      149866\n",
       "1962      145519\n",
       "3962      140979"
      ]
     },
     "execution_count": 27,
     "metadata": {},
     "output_type": "execute_result"
    }
   ],
   "source": [
    "df1_by_movies = df1.groupby(['movie_id']).count()\n",
    "df1_by_movies.sort_values('User', ascending = False, inplace = True)\n",
    "df1_by_movies['Vistos'] = df1_by_movies['User']\n",
    "df1_by_movies.drop(columns = ['User','Rating'], inplace = True)\n",
    "df1_by_movies.head(10)"
   ]
  },
  {
   "cell_type": "code",
   "execution_count": 28,
   "metadata": {},
   "outputs": [
    {
     "data": {
      "text/html": [
       "<div>\n",
       "<style scoped>\n",
       "    .dataframe tbody tr th:only-of-type {\n",
       "        vertical-align: middle;\n",
       "    }\n",
       "\n",
       "    .dataframe tbody tr th {\n",
       "        vertical-align: top;\n",
       "    }\n",
       "\n",
       "    .dataframe thead th {\n",
       "        text-align: right;\n",
       "    }\n",
       "</style>\n",
       "<table border=\"1\" class=\"dataframe\">\n",
       "  <thead>\n",
       "    <tr style=\"text-align: right;\">\n",
       "      <th></th>\n",
       "      <th>Name</th>\n",
       "    </tr>\n",
       "    <tr>\n",
       "      <th>Movie_Id</th>\n",
       "      <th></th>\n",
       "    </tr>\n",
       "  </thead>\n",
       "  <tbody>\n",
       "    <tr>\n",
       "      <th>1</th>\n",
       "      <td>Dinosaur Planet</td>\n",
       "    </tr>\n",
       "    <tr>\n",
       "      <th>2</th>\n",
       "      <td>Isle of Man TT 2004 Review</td>\n",
       "    </tr>\n",
       "    <tr>\n",
       "      <th>3</th>\n",
       "      <td>Character</td>\n",
       "    </tr>\n",
       "  </tbody>\n",
       "</table>\n",
       "</div>"
      ],
      "text/plain": [
       "                                Name\n",
       "Movie_Id                            \n",
       "1                    Dinosaur Planet\n",
       "2         Isle of Man TT 2004 Review\n",
       "3                          Character"
      ]
     },
     "execution_count": 28,
     "metadata": {},
     "output_type": "execute_result"
    }
   ],
   "source": [
    "df_title.head(3)"
   ]
  },
  {
   "cell_type": "code",
   "execution_count": 29,
   "metadata": {},
   "outputs": [],
   "source": [
    "df1_by_movies['Titulo'] = df_title.loc[df1_by_movies.index].Name"
   ]
  },
  {
   "cell_type": "code",
   "execution_count": 30,
   "metadata": {},
   "outputs": [
    {
     "data": {
      "text/html": [
       "<div>\n",
       "<style scoped>\n",
       "    .dataframe tbody tr th:only-of-type {\n",
       "        vertical-align: middle;\n",
       "    }\n",
       "\n",
       "    .dataframe tbody tr th {\n",
       "        vertical-align: top;\n",
       "    }\n",
       "\n",
       "    .dataframe thead th {\n",
       "        text-align: right;\n",
       "    }\n",
       "</style>\n",
       "<table border=\"1\" class=\"dataframe\">\n",
       "  <thead>\n",
       "    <tr style=\"text-align: right;\">\n",
       "      <th></th>\n",
       "      <th>Vistos</th>\n",
       "      <th>Titulo</th>\n",
       "    </tr>\n",
       "    <tr>\n",
       "      <th>movie_id</th>\n",
       "      <th></th>\n",
       "      <th></th>\n",
       "    </tr>\n",
       "  </thead>\n",
       "  <tbody>\n",
       "    <tr>\n",
       "      <th>1905</th>\n",
       "      <td>193941</td>\n",
       "      <td>Pirates of the Caribbean: The Curse of the Bla...</td>\n",
       "    </tr>\n",
       "    <tr>\n",
       "      <th>2152</th>\n",
       "      <td>162597</td>\n",
       "      <td>What Women Want</td>\n",
       "    </tr>\n",
       "    <tr>\n",
       "      <th>3860</th>\n",
       "      <td>160454</td>\n",
       "      <td>Bruce Almighty</td>\n",
       "    </tr>\n",
       "    <tr>\n",
       "      <th>4432</th>\n",
       "      <td>156183</td>\n",
       "      <td>The Italian Job</td>\n",
       "    </tr>\n",
       "    <tr>\n",
       "      <th>571</th>\n",
       "      <td>154832</td>\n",
       "      <td>American Beauty</td>\n",
       "    </tr>\n",
       "  </tbody>\n",
       "</table>\n",
       "</div>"
      ],
      "text/plain": [
       "          Vistos                                             Titulo\n",
       "movie_id                                                           \n",
       "1905      193941  Pirates of the Caribbean: The Curse of the Bla...\n",
       "2152      162597                                    What Women Want\n",
       "3860      160454                                     Bruce Almighty\n",
       "4432      156183                                    The Italian Job\n",
       "571       154832                                    American Beauty"
      ]
     },
     "execution_count": 30,
     "metadata": {},
     "output_type": "execute_result"
    }
   ],
   "source": [
    "df1_by_movies.head()"
   ]
  },
  {
   "cell_type": "code",
   "execution_count": 31,
   "metadata": {},
   "outputs": [
    {
     "data": {
      "image/png": "[encoded data removed]",
      "text/plain": [
       "<Figure size 576x288 with 1 Axes>"
      ]
     },
     "metadata": {
      "needs_background": "light"
     },
     "output_type": "display_data"
    }
   ],
   "source": [
    "plt.figure(figsize = (8,4))\n",
    "\n",
    "df1_by_movies.Vistos[df1_by_movies.Vistos<1000].hist(log = True, bins = 20)\n",
    "plt.title('Distribución de la cantidad de vistas')\n",
    "\n",
    "plt.show()"
   ]
  },
  {
   "cell_type": "markdown",
   "metadata": {},
   "source": [
    "En esta etapa, lo que haremos será filtrar de nuestro dataset a aquellas películas con pocas calificaciones. Para ello, establecemos un umbral."
   ]
  },
  {
   "cell_type": "code",
   "execution_count": 32,
   "metadata": {},
   "outputs": [],
   "source": [
    "umbral = 1000\n",
    "mascara_pocos_vistos = df1_by_movies.Vistos<umbral"
   ]
  },
  {
   "cell_type": "code",
   "execution_count": 33,
   "metadata": {},
   "outputs": [
    {
     "name": "stdout",
     "output_type": "stream",
     "text": [
      "2757 [1817  806 3486 ... 3656 4338 4362]\n"
     ]
    }
   ],
   "source": [
    "peliculas_pocos_vistos = mascara_pocos_vistos[mascara_pocos_vistos].index.values\n",
    "print(len(peliculas_pocos_vistos), peliculas_pocos_vistos)"
   ]
  },
  {
   "cell_type": "code",
   "execution_count": 34,
   "metadata": {},
   "outputs": [],
   "source": [
    "mascara_descartables = df1.movie_id.isin(peliculas_pocos_vistos)"
   ]
  },
  {
   "cell_type": "code",
   "execution_count": 35,
   "metadata": {},
   "outputs": [
    {
     "name": "stdout",
     "output_type": "stream",
     "text": [
      "(24053764, 3)\n",
      "(23163063, 3)\n"
     ]
    }
   ],
   "source": [
    "# Obsevamos cómo cambia la cantidad de registros a partir del filtrado\n",
    "\n",
    "print(df1.shape)\n",
    "df1 = df1[~mascara_descartables]\n",
    "print(df1.shape)"
   ]
  },
  {
   "cell_type": "markdown",
   "metadata": {},
   "source": [
    "## **`Machine Learning`**\n",
    "\n",
    "Para trabajar con sistemas de recomendación, emplearemos la librería `Surprise` de la que dejamos [aquí](https://surprise.readthedocs.io/en/stable/) la documentación.\n",
    "\n",
    "Tendremos que llevar nuestro dataset al formato con el que trabaja esta librería."
   ]
  },
  {
   "cell_type": "code",
   "execution_count": null,
   "metadata": {},
   "outputs": [],
   "source": [
    "import sys\n",
    "!conda activate henry-bootcamp\n",
    "!conda install -c conda-forge scikit-surprise \n",
    "#from scikit.surprise import Dataset\n",
    "#from surprise import Reader\n",
    "#from surprise.model_selection import train_test_split"
   ]
  },
  {
   "cell_type": "code",
   "execution_count": 74,
   "metadata": {},
   "outputs": [],
   "source": [
    "reader = Reader()"
   ]
  },
  {
   "cell_type": "code",
   "execution_count": 75,
   "metadata": {},
   "outputs": [],
   "source": [
    "N_filas = 100000 # Limitamos el dataset a N_filas\n",
    "\n",
    "data = Dataset.load_from_df(df1[['User', 'movie_id', 'Rating']][:N_filas], reader)"
   ]
  },
  {
   "cell_type": "code",
   "execution_count": 76,
   "metadata": {},
   "outputs": [],
   "source": [
    "# Separamos nuestros datos\n",
    "\n",
    "trainset, testset = train_test_split(data, test_size=.25)"
   ]
  },
  {
   "cell_type": "code",
   "execution_count": 80,
   "metadata": {},
   "outputs": [],
   "source": [
    "# Usaremos un modelo de Singular Value Decomposition\n",
    "\n",
    "from surprise import SVD\n",
    "model = SVD()"
   ]
  },
  {
   "cell_type": "code",
   "execution_count": 81,
   "metadata": {},
   "outputs": [
    {
     "data": {
      "text/plain": [
       "<surprise.prediction_algorithms.matrix_factorization.SVD at 0x20286bfc8b0>"
      ]
     },
     "execution_count": 81,
     "metadata": {},
     "output_type": "execute_result"
    }
   ],
   "source": [
    "# Entrenamos el modelo\n",
    "\n",
    "model.fit(trainset)"
   ]
  },
  {
   "cell_type": "code",
   "execution_count": 83,
   "metadata": {},
   "outputs": [],
   "source": [
    "# Predecimos\n",
    "\n",
    "predictions = model.test(testset)"
   ]
  },
  {
   "cell_type": "code",
   "execution_count": 84,
   "metadata": {},
   "outputs": [
    {
     "data": {
      "text/plain": [
       "Prediction(uid=2219491, iid=28, r_ui=4.0, est=3.8249210765751536, details={'was_impossible': False})"
      ]
     },
     "execution_count": 84,
     "metadata": {},
     "output_type": "execute_result"
    }
   ],
   "source": [
    "predictions[1]"
   ]
  },
  {
   "cell_type": "code",
   "execution_count": 85,
   "metadata": {},
   "outputs": [
    {
     "data": {
      "text/plain": [
       "Prediction(uid=1328945, iid=28, r_ui=None, est=3.8249210765751536, details={'was_impossible': False})"
      ]
     },
     "execution_count": 85,
     "metadata": {},
     "output_type": "execute_result"
    }
   ],
   "source": [
    "# Hacemos una predicción al azar para usuario y película\n",
    "\n",
    "model.predict(1328945,28)"
   ]
  },
  {
   "cell_type": "code",
   "execution_count": 86,
   "metadata": {},
   "outputs": [
    {
     "data": {
      "text/html": [
       "<div>\n",
       "<style scoped>\n",
       "    .dataframe tbody tr th:only-of-type {\n",
       "        vertical-align: middle;\n",
       "    }\n",
       "\n",
       "    .dataframe tbody tr th {\n",
       "        vertical-align: top;\n",
       "    }\n",
       "\n",
       "    .dataframe thead th {\n",
       "        text-align: right;\n",
       "    }\n",
       "</style>\n",
       "<table border=\"1\" class=\"dataframe\">\n",
       "  <thead>\n",
       "    <tr style=\"text-align: right;\">\n",
       "      <th></th>\n",
       "      <th>User</th>\n",
       "      <th>Rating</th>\n",
       "      <th>movie_id</th>\n",
       "      <th>Name</th>\n",
       "    </tr>\n",
       "  </thead>\n",
       "  <tbody>\n",
       "    <tr>\n",
       "      <th>0</th>\n",
       "      <td>1539350</td>\n",
       "      <td>4</td>\n",
       "      <td>111</td>\n",
       "      <td>Duplex (Widescreen)</td>\n",
       "    </tr>\n",
       "    <tr>\n",
       "      <th>1</th>\n",
       "      <td>1539350</td>\n",
       "      <td>4</td>\n",
       "      <td>175</td>\n",
       "      <td>Reservoir Dogs</td>\n",
       "    </tr>\n",
       "    <tr>\n",
       "      <th>2</th>\n",
       "      <td>1539350</td>\n",
       "      <td>4</td>\n",
       "      <td>197</td>\n",
       "      <td>Taking Lives</td>\n",
       "    </tr>\n",
       "    <tr>\n",
       "      <th>3</th>\n",
       "      <td>1539350</td>\n",
       "      <td>5</td>\n",
       "      <td>269</td>\n",
       "      <td>Parenthood</td>\n",
       "    </tr>\n",
       "    <tr>\n",
       "      <th>4</th>\n",
       "      <td>1539350</td>\n",
       "      <td>5</td>\n",
       "      <td>270</td>\n",
       "      <td>Sex and the City: Season 4</td>\n",
       "    </tr>\n",
       "    <tr>\n",
       "      <th>5</th>\n",
       "      <td>1539350</td>\n",
       "      <td>4</td>\n",
       "      <td>367</td>\n",
       "      <td>Spun</td>\n",
       "    </tr>\n",
       "    <tr>\n",
       "      <th>6</th>\n",
       "      <td>1539350</td>\n",
       "      <td>5</td>\n",
       "      <td>406</td>\n",
       "      <td>Hostage</td>\n",
       "    </tr>\n",
       "    <tr>\n",
       "      <th>7</th>\n",
       "      <td>1539350</td>\n",
       "      <td>4</td>\n",
       "      <td>457</td>\n",
       "      <td>Kill Bill: Vol. 2</td>\n",
       "    </tr>\n",
       "    <tr>\n",
       "      <th>8</th>\n",
       "      <td>1539350</td>\n",
       "      <td>4</td>\n",
       "      <td>692</td>\n",
       "      <td>The Hand that Rocks the Cradle</td>\n",
       "    </tr>\n",
       "    <tr>\n",
       "      <th>9</th>\n",
       "      <td>1539350</td>\n",
       "      <td>4</td>\n",
       "      <td>758</td>\n",
       "      <td>Mean Girls</td>\n",
       "    </tr>\n",
       "    <tr>\n",
       "      <th>10</th>\n",
       "      <td>1539350</td>\n",
       "      <td>4</td>\n",
       "      <td>798</td>\n",
       "      <td>Jaws</td>\n",
       "    </tr>\n",
       "    <tr>\n",
       "      <th>11</th>\n",
       "      <td>1539350</td>\n",
       "      <td>4</td>\n",
       "      <td>831</td>\n",
       "      <td>Mannequin</td>\n",
       "    </tr>\n",
       "    <tr>\n",
       "      <th>12</th>\n",
       "      <td>1539350</td>\n",
       "      <td>4</td>\n",
       "      <td>963</td>\n",
       "      <td>A Streetcar Named Desire</td>\n",
       "    </tr>\n",
       "    <tr>\n",
       "      <th>13</th>\n",
       "      <td>1539350</td>\n",
       "      <td>4</td>\n",
       "      <td>1102</td>\n",
       "      <td>Training Day</td>\n",
       "    </tr>\n",
       "    <tr>\n",
       "      <th>14</th>\n",
       "      <td>1539350</td>\n",
       "      <td>5</td>\n",
       "      <td>1202</td>\n",
       "      <td>National Lampoon's Vacation</td>\n",
       "    </tr>\n",
       "    <tr>\n",
       "      <th>15</th>\n",
       "      <td>1539350</td>\n",
       "      <td>4</td>\n",
       "      <td>1220</td>\n",
       "      <td>Man on Fire</td>\n",
       "    </tr>\n",
       "    <tr>\n",
       "      <th>16</th>\n",
       "      <td>1539350</td>\n",
       "      <td>4</td>\n",
       "      <td>1307</td>\n",
       "      <td>S.W.A.T.</td>\n",
       "    </tr>\n",
       "    <tr>\n",
       "      <th>17</th>\n",
       "      <td>1539350</td>\n",
       "      <td>4</td>\n",
       "      <td>1509</td>\n",
       "      <td>National Lampoon's Van Wilder</td>\n",
       "    </tr>\n",
       "    <tr>\n",
       "      <th>18</th>\n",
       "      <td>1539350</td>\n",
       "      <td>4</td>\n",
       "      <td>1659</td>\n",
       "      <td>Grumpy Old Men</td>\n",
       "    </tr>\n",
       "    <tr>\n",
       "      <th>19</th>\n",
       "      <td>1539350</td>\n",
       "      <td>4</td>\n",
       "      <td>1744</td>\n",
       "      <td>Beverly Hills Cop</td>\n",
       "    </tr>\n",
       "    <tr>\n",
       "      <th>20</th>\n",
       "      <td>1539350</td>\n",
       "      <td>4</td>\n",
       "      <td>1754</td>\n",
       "      <td>Sixteen Candles</td>\n",
       "    </tr>\n",
       "    <tr>\n",
       "      <th>21</th>\n",
       "      <td>1539350</td>\n",
       "      <td>4</td>\n",
       "      <td>1770</td>\n",
       "      <td>Trainspotting</td>\n",
       "    </tr>\n",
       "    <tr>\n",
       "      <th>22</th>\n",
       "      <td>1539350</td>\n",
       "      <td>4</td>\n",
       "      <td>1798</td>\n",
       "      <td>Lethal Weapon</td>\n",
       "    </tr>\n",
       "    <tr>\n",
       "      <th>23</th>\n",
       "      <td>1539350</td>\n",
       "      <td>4</td>\n",
       "      <td>1799</td>\n",
       "      <td>Die Hard 2: Die Harder</td>\n",
       "    </tr>\n",
       "    <tr>\n",
       "      <th>24</th>\n",
       "      <td>1539350</td>\n",
       "      <td>4</td>\n",
       "      <td>1843</td>\n",
       "      <td>Beverly Hills Cop III</td>\n",
       "    </tr>\n",
       "    <tr>\n",
       "      <th>25</th>\n",
       "      <td>1539350</td>\n",
       "      <td>4</td>\n",
       "      <td>1905</td>\n",
       "      <td>Pirates of the Caribbean: The Curse of the Bla...</td>\n",
       "    </tr>\n",
       "    <tr>\n",
       "      <th>26</th>\n",
       "      <td>1539350</td>\n",
       "      <td>4</td>\n",
       "      <td>1962</td>\n",
       "      <td>50 First Dates</td>\n",
       "    </tr>\n",
       "    <tr>\n",
       "      <th>27</th>\n",
       "      <td>1539350</td>\n",
       "      <td>4</td>\n",
       "      <td>2152</td>\n",
       "      <td>What Women Want</td>\n",
       "    </tr>\n",
       "    <tr>\n",
       "      <th>28</th>\n",
       "      <td>1539350</td>\n",
       "      <td>4</td>\n",
       "      <td>2161</td>\n",
       "      <td>Six Degrees of Separation</td>\n",
       "    </tr>\n",
       "    <tr>\n",
       "      <th>29</th>\n",
       "      <td>1539350</td>\n",
       "      <td>4</td>\n",
       "      <td>2178</td>\n",
       "      <td>Lock</td>\n",
       "    </tr>\n",
       "    <tr>\n",
       "      <th>30</th>\n",
       "      <td>1539350</td>\n",
       "      <td>4</td>\n",
       "      <td>2252</td>\n",
       "      <td>Bram Stoker's Dracula</td>\n",
       "    </tr>\n",
       "    <tr>\n",
       "      <th>31</th>\n",
       "      <td>1539350</td>\n",
       "      <td>4</td>\n",
       "      <td>2391</td>\n",
       "      <td>Along Came Polly</td>\n",
       "    </tr>\n",
       "    <tr>\n",
       "      <th>32</th>\n",
       "      <td>1539350</td>\n",
       "      <td>4</td>\n",
       "      <td>2395</td>\n",
       "      <td>Scream</td>\n",
       "    </tr>\n",
       "    <tr>\n",
       "      <th>33</th>\n",
       "      <td>1539350</td>\n",
       "      <td>4</td>\n",
       "      <td>2462</td>\n",
       "      <td>Planes</td>\n",
       "    </tr>\n",
       "    <tr>\n",
       "      <th>34</th>\n",
       "      <td>1539350</td>\n",
       "      <td>4</td>\n",
       "      <td>2612</td>\n",
       "      <td>Don't Say a Word</td>\n",
       "    </tr>\n",
       "    <tr>\n",
       "      <th>35</th>\n",
       "      <td>1539350</td>\n",
       "      <td>5</td>\n",
       "      <td>2862</td>\n",
       "      <td>The Silence of the Lambs</td>\n",
       "    </tr>\n",
       "    <tr>\n",
       "      <th>36</th>\n",
       "      <td>1539350</td>\n",
       "      <td>4</td>\n",
       "      <td>3079</td>\n",
       "      <td>The Lion King: Special Edition</td>\n",
       "    </tr>\n",
       "    <tr>\n",
       "      <th>37</th>\n",
       "      <td>1539350</td>\n",
       "      <td>5</td>\n",
       "      <td>3151</td>\n",
       "      <td>Napoleon Dynamite</td>\n",
       "    </tr>\n",
       "    <tr>\n",
       "      <th>38</th>\n",
       "      <td>1539350</td>\n",
       "      <td>4</td>\n",
       "      <td>3182</td>\n",
       "      <td>Private Parts</td>\n",
       "    </tr>\n",
       "    <tr>\n",
       "      <th>39</th>\n",
       "      <td>1539350</td>\n",
       "      <td>4</td>\n",
       "      <td>3418</td>\n",
       "      <td>Sister Act 2: Back in the Habit</td>\n",
       "    </tr>\n",
       "    <tr>\n",
       "      <th>40</th>\n",
       "      <td>1539350</td>\n",
       "      <td>5</td>\n",
       "      <td>3605</td>\n",
       "      <td>The Wizard of Oz: Collector's Edition</td>\n",
       "    </tr>\n",
       "    <tr>\n",
       "      <th>41</th>\n",
       "      <td>1539350</td>\n",
       "      <td>4</td>\n",
       "      <td>3610</td>\n",
       "      <td>Lethal Weapon 3</td>\n",
       "    </tr>\n",
       "    <tr>\n",
       "      <th>42</th>\n",
       "      <td>1539350</td>\n",
       "      <td>4</td>\n",
       "      <td>3648</td>\n",
       "      <td>Who Framed Roger Rabbit?: Special Edition</td>\n",
       "    </tr>\n",
       "    <tr>\n",
       "      <th>43</th>\n",
       "      <td>1539350</td>\n",
       "      <td>4</td>\n",
       "      <td>3864</td>\n",
       "      <td>Batman Begins</td>\n",
       "    </tr>\n",
       "    <tr>\n",
       "      <th>44</th>\n",
       "      <td>1539350</td>\n",
       "      <td>5</td>\n",
       "      <td>3928</td>\n",
       "      <td>Nip/Tuck: Season 2</td>\n",
       "    </tr>\n",
       "    <tr>\n",
       "      <th>45</th>\n",
       "      <td>1539350</td>\n",
       "      <td>4</td>\n",
       "      <td>3938</td>\n",
       "      <td>Shrek 2</td>\n",
       "    </tr>\n",
       "    <tr>\n",
       "      <th>46</th>\n",
       "      <td>1539350</td>\n",
       "      <td>4</td>\n",
       "      <td>3962</td>\n",
       "      <td>Finding Nemo (Widescreen)</td>\n",
       "    </tr>\n",
       "    <tr>\n",
       "      <th>47</th>\n",
       "      <td>1539350</td>\n",
       "      <td>4</td>\n",
       "      <td>4145</td>\n",
       "      <td>Law &amp; Order: Special Victims Unit: The First Year</td>\n",
       "    </tr>\n",
       "    <tr>\n",
       "      <th>48</th>\n",
       "      <td>1539350</td>\n",
       "      <td>5</td>\n",
       "      <td>4159</td>\n",
       "      <td>Barbershop</td>\n",
       "    </tr>\n",
       "    <tr>\n",
       "      <th>49</th>\n",
       "      <td>1539350</td>\n",
       "      <td>4</td>\n",
       "      <td>4227</td>\n",
       "      <td>The Full Monty</td>\n",
       "    </tr>\n",
       "    <tr>\n",
       "      <th>50</th>\n",
       "      <td>1539350</td>\n",
       "      <td>4</td>\n",
       "      <td>4306</td>\n",
       "      <td>The Sixth Sense</td>\n",
       "    </tr>\n",
       "    <tr>\n",
       "      <th>51</th>\n",
       "      <td>1539350</td>\n",
       "      <td>4</td>\n",
       "      <td>4345</td>\n",
       "      <td>Bowling for Columbine</td>\n",
       "    </tr>\n",
       "    <tr>\n",
       "      <th>52</th>\n",
       "      <td>1539350</td>\n",
       "      <td>4</td>\n",
       "      <td>4369</td>\n",
       "      <td>Porky's</td>\n",
       "    </tr>\n",
       "    <tr>\n",
       "      <th>53</th>\n",
       "      <td>1539350</td>\n",
       "      <td>4</td>\n",
       "      <td>4384</td>\n",
       "      <td>Dawn of the Dead</td>\n",
       "    </tr>\n",
       "    <tr>\n",
       "      <th>54</th>\n",
       "      <td>1539350</td>\n",
       "      <td>4</td>\n",
       "      <td>4465</td>\n",
       "      <td>The Big One</td>\n",
       "    </tr>\n",
       "  </tbody>\n",
       "</table>\n",
       "</div>"
      ],
      "text/plain": [
       "       User  Rating  movie_id  \\\n",
       "0   1539350       4       111   \n",
       "1   1539350       4       175   \n",
       "2   1539350       4       197   \n",
       "3   1539350       5       269   \n",
       "4   1539350       5       270   \n",
       "5   1539350       4       367   \n",
       "6   1539350       5       406   \n",
       "7   1539350       4       457   \n",
       "8   1539350       4       692   \n",
       "9   1539350       4       758   \n",
       "10  1539350       4       798   \n",
       "11  1539350       4       831   \n",
       "12  1539350       4       963   \n",
       "13  1539350       4      1102   \n",
       "14  1539350       5      1202   \n",
       "15  1539350       4      1220   \n",
       "16  1539350       4      1307   \n",
       "17  1539350       4      1509   \n",
       "18  1539350       4      1659   \n",
       "19  1539350       4      1744   \n",
       "20  1539350       4      1754   \n",
       "21  1539350       4      1770   \n",
       "22  1539350       4      1798   \n",
       "23  1539350       4      1799   \n",
       "24  1539350       4      1843   \n",
       "25  1539350       4      1905   \n",
       "26  1539350       4      1962   \n",
       "27  1539350       4      2152   \n",
       "28  1539350       4      2161   \n",
       "29  1539350       4      2178   \n",
       "30  1539350       4      2252   \n",
       "31  1539350       4      2391   \n",
       "32  1539350       4      2395   \n",
       "33  1539350       4      2462   \n",
       "34  1539350       4      2612   \n",
       "35  1539350       5      2862   \n",
       "36  1539350       4      3079   \n",
       "37  1539350       5      3151   \n",
       "38  1539350       4      3182   \n",
       "39  1539350       4      3418   \n",
       "40  1539350       5      3605   \n",
       "41  1539350       4      3610   \n",
       "42  1539350       4      3648   \n",
       "43  1539350       4      3864   \n",
       "44  1539350       5      3928   \n",
       "45  1539350       4      3938   \n",
       "46  1539350       4      3962   \n",
       "47  1539350       4      4145   \n",
       "48  1539350       5      4159   \n",
       "49  1539350       4      4227   \n",
       "50  1539350       4      4306   \n",
       "51  1539350       4      4345   \n",
       "52  1539350       4      4369   \n",
       "53  1539350       4      4384   \n",
       "54  1539350       4      4465   \n",
       "\n",
       "                                                 Name  \n",
       "0                                 Duplex (Widescreen)  \n",
       "1                                      Reservoir Dogs  \n",
       "2                                        Taking Lives  \n",
       "3                                          Parenthood  \n",
       "4                          Sex and the City: Season 4  \n",
       "5                                                Spun  \n",
       "6                                             Hostage  \n",
       "7                                   Kill Bill: Vol. 2  \n",
       "8                      The Hand that Rocks the Cradle  \n",
       "9                                          Mean Girls  \n",
       "10                                               Jaws  \n",
       "11                                          Mannequin  \n",
       "12                           A Streetcar Named Desire  \n",
       "13                                       Training Day  \n",
       "14                        National Lampoon's Vacation  \n",
       "15                                        Man on Fire  \n",
       "16                                           S.W.A.T.  \n",
       "17                      National Lampoon's Van Wilder  \n",
       "18                                     Grumpy Old Men  \n",
       "19                                  Beverly Hills Cop  \n",
       "20                                    Sixteen Candles  \n",
       "21                                      Trainspotting  \n",
       "22                                      Lethal Weapon  \n",
       "23                             Die Hard 2: Die Harder  \n",
       "24                              Beverly Hills Cop III  \n",
       "25  Pirates of the Caribbean: The Curse of the Bla...  \n",
       "26                                     50 First Dates  \n",
       "27                                    What Women Want  \n",
       "28                          Six Degrees of Separation  \n",
       "29                                               Lock  \n",
       "30                              Bram Stoker's Dracula  \n",
       "31                                   Along Came Polly  \n",
       "32                                             Scream  \n",
       "33                                             Planes  \n",
       "34                                   Don't Say a Word  \n",
       "35                           The Silence of the Lambs  \n",
       "36                     The Lion King: Special Edition  \n",
       "37                                  Napoleon Dynamite  \n",
       "38                                      Private Parts  \n",
       "39                    Sister Act 2: Back in the Habit  \n",
       "40              The Wizard of Oz: Collector's Edition  \n",
       "41                                    Lethal Weapon 3  \n",
       "42          Who Framed Roger Rabbit?: Special Edition  \n",
       "43                                      Batman Begins  \n",
       "44                                 Nip/Tuck: Season 2  \n",
       "45                                            Shrek 2  \n",
       "46                          Finding Nemo (Widescreen)  \n",
       "47  Law & Order: Special Victims Unit: The First Year  \n",
       "48                                         Barbershop  \n",
       "49                                     The Full Monty  \n",
       "50                                    The Sixth Sense  \n",
       "51                              Bowling for Columbine  \n",
       "52                                            Porky's  \n",
       "53                                   Dawn of the Dead  \n",
       "54                                        The Big One  "
      ]
     },
     "execution_count": 86,
     "metadata": {},
     "output_type": "execute_result"
    }
   ],
   "source": [
    "# Tomaremos un usuario para hacerle una recomendación\n",
    "\n",
    "usuario = 1539350\n",
    "rating = 4   # Tomamos películas a las que haya calificado con 4 o 5 estrellas\n",
    "df_user = df1[(df1['User'] == usuario) & (df1['Rating'] >= rating)]\n",
    "df_user = df_user.reset_index(drop=True)\n",
    "df_user['Name'] = df_title['Name'].loc[df_user.movie_id].values\n",
    "df_user"
   ]
  },
  {
   "cell_type": "code",
   "execution_count": 87,
   "metadata": {},
   "outputs": [
    {
     "name": "stdout",
     "output_type": "stream",
     "text": [
      "(4499, 1)\n"
     ]
    },
    {
     "data": {
      "text/html": [
       "<div>\n",
       "<style scoped>\n",
       "    .dataframe tbody tr th:only-of-type {\n",
       "        vertical-align: middle;\n",
       "    }\n",
       "\n",
       "    .dataframe tbody tr th {\n",
       "        vertical-align: top;\n",
       "    }\n",
       "\n",
       "    .dataframe thead th {\n",
       "        text-align: right;\n",
       "    }\n",
       "</style>\n",
       "<table border=\"1\" class=\"dataframe\">\n",
       "  <thead>\n",
       "    <tr style=\"text-align: right;\">\n",
       "      <th></th>\n",
       "      <th>Name</th>\n",
       "    </tr>\n",
       "    <tr>\n",
       "      <th>Movie_Id</th>\n",
       "      <th></th>\n",
       "    </tr>\n",
       "  </thead>\n",
       "  <tbody>\n",
       "    <tr>\n",
       "      <th>1</th>\n",
       "      <td>Dinosaur Planet</td>\n",
       "    </tr>\n",
       "    <tr>\n",
       "      <th>2</th>\n",
       "      <td>Isle of Man TT 2004 Review</td>\n",
       "    </tr>\n",
       "    <tr>\n",
       "      <th>3</th>\n",
       "      <td>Character</td>\n",
       "    </tr>\n",
       "    <tr>\n",
       "      <th>4</th>\n",
       "      <td>Paula Abdul's Get Up &amp; Dance</td>\n",
       "    </tr>\n",
       "    <tr>\n",
       "      <th>5</th>\n",
       "      <td>The Rise and Fall of ECW</td>\n",
       "    </tr>\n",
       "  </tbody>\n",
       "</table>\n",
       "</div>"
      ],
      "text/plain": [
       "                                  Name\n",
       "Movie_Id                              \n",
       "1                      Dinosaur Planet\n",
       "2           Isle of Man TT 2004 Review\n",
       "3                            Character\n",
       "4         Paula Abdul's Get Up & Dance\n",
       "5             The Rise and Fall of ECW"
      ]
     },
     "execution_count": 87,
     "metadata": {},
     "output_type": "execute_result"
    }
   ],
   "source": [
    "recomendaciones_usuario = df_title.iloc[:4499].copy()\n",
    "print(recomendaciones_usuario.shape)\n",
    "recomendaciones_usuario.head()"
   ]
  },
  {
   "cell_type": "code",
   "execution_count": 89,
   "metadata": {},
   "outputs": [
    {
     "name": "stdout",
     "output_type": "stream",
     "text": [
      "(97, 3)\n"
     ]
    },
    {
     "data": {
      "text/html": [
       "<div>\n",
       "<style scoped>\n",
       "    .dataframe tbody tr th:only-of-type {\n",
       "        vertical-align: middle;\n",
       "    }\n",
       "\n",
       "    .dataframe tbody tr th {\n",
       "        vertical-align: top;\n",
       "    }\n",
       "\n",
       "    .dataframe thead th {\n",
       "        text-align: right;\n",
       "    }\n",
       "</style>\n",
       "<table border=\"1\" class=\"dataframe\">\n",
       "  <thead>\n",
       "    <tr style=\"text-align: right;\">\n",
       "      <th></th>\n",
       "      <th>User</th>\n",
       "      <th>Rating</th>\n",
       "      <th>movie_id</th>\n",
       "    </tr>\n",
       "  </thead>\n",
       "  <tbody>\n",
       "    <tr>\n",
       "      <th>219870</th>\n",
       "      <td>1539350</td>\n",
       "      <td>3</td>\n",
       "      <td>33</td>\n",
       "    </tr>\n",
       "    <tr>\n",
       "      <th>409717</th>\n",
       "      <td>1539350</td>\n",
       "      <td>4</td>\n",
       "      <td>111</td>\n",
       "    </tr>\n",
       "    <tr>\n",
       "      <th>445206</th>\n",
       "      <td>1539350</td>\n",
       "      <td>3</td>\n",
       "      <td>127</td>\n",
       "    </tr>\n",
       "    <tr>\n",
       "      <th>664099</th>\n",
       "      <td>1539350</td>\n",
       "      <td>4</td>\n",
       "      <td>175</td>\n",
       "    </tr>\n",
       "    <tr>\n",
       "      <th>894718</th>\n",
       "      <td>1539350</td>\n",
       "      <td>4</td>\n",
       "      <td>197</td>\n",
       "    </tr>\n",
       "  </tbody>\n",
       "</table>\n",
       "</div>"
      ],
      "text/plain": [
       "           User  Rating  movie_id\n",
       "219870  1539350       3        33\n",
       "409717  1539350       4       111\n",
       "445206  1539350       3       127\n",
       "664099  1539350       4       175\n",
       "894718  1539350       4       197"
      ]
     },
     "execution_count": 89,
     "metadata": {},
     "output_type": "execute_result"
    }
   ],
   "source": [
    "# Debemos extraer las películas que ya ha visto\n",
    "\n",
    "usuario_vistas = df1[df1['User'] == usuario]\n",
    "print(usuario_vistas.shape)\n",
    "usuario_vistas.head()"
   ]
  },
  {
   "cell_type": "code",
   "execution_count": 90,
   "metadata": {},
   "outputs": [],
   "source": [
    "if True: # Sacamos las que filtramos\n",
    "    recomendaciones_usuario.drop(peliculas_pocos_vistos, inplace = True)"
   ]
  },
  {
   "cell_type": "code",
   "execution_count": 91,
   "metadata": {},
   "outputs": [
    {
     "data": {
      "text/html": [
       "<div>\n",
       "<style scoped>\n",
       "    .dataframe tbody tr th:only-of-type {\n",
       "        vertical-align: middle;\n",
       "    }\n",
       "\n",
       "    .dataframe tbody tr th {\n",
       "        vertical-align: top;\n",
       "    }\n",
       "\n",
       "    .dataframe thead th {\n",
       "        text-align: right;\n",
       "    }\n",
       "</style>\n",
       "<table border=\"1\" class=\"dataframe\">\n",
       "  <thead>\n",
       "    <tr style=\"text-align: right;\">\n",
       "      <th></th>\n",
       "      <th>Movie_Id</th>\n",
       "      <th>Name</th>\n",
       "    </tr>\n",
       "  </thead>\n",
       "  <tbody>\n",
       "    <tr>\n",
       "      <th>0</th>\n",
       "      <td>3</td>\n",
       "      <td>Character</td>\n",
       "    </tr>\n",
       "    <tr>\n",
       "      <th>1</th>\n",
       "      <td>5</td>\n",
       "      <td>The Rise and Fall of ECW</td>\n",
       "    </tr>\n",
       "    <tr>\n",
       "      <th>2</th>\n",
       "      <td>6</td>\n",
       "      <td>Sick</td>\n",
       "    </tr>\n",
       "    <tr>\n",
       "      <th>3</th>\n",
       "      <td>8</td>\n",
       "      <td>What the #$*! Do We Know!?</td>\n",
       "    </tr>\n",
       "    <tr>\n",
       "      <th>4</th>\n",
       "      <td>16</td>\n",
       "      <td>Screamers</td>\n",
       "    </tr>\n",
       "  </tbody>\n",
       "</table>\n",
       "</div>"
      ],
      "text/plain": [
       "   Movie_Id                        Name\n",
       "0         3                   Character\n",
       "1         5    The Rise and Fall of ECW\n",
       "2         6                        Sick\n",
       "3         8  What the #$*! Do We Know!?\n",
       "4        16                   Screamers"
      ]
     },
     "execution_count": 91,
     "metadata": {},
     "output_type": "execute_result"
    }
   ],
   "source": [
    "recomendaciones_usuario.drop(usuario_vistas.movie_id, inplace = True)\n",
    "recomendaciones_usuario = recomendaciones_usuario.reset_index()\n",
    "recomendaciones_usuario.head()"
   ]
  },
  {
   "cell_type": "code",
   "execution_count": 93,
   "metadata": {},
   "outputs": [],
   "source": [
    "# Recomendamos\n",
    "\n",
    "recomendaciones_usuario['Estimate_Score'] = recomendaciones_usuario['Movie_Id'].apply(lambda x: model.predict(usuario, x).est)"
   ]
  },
  {
   "cell_type": "code",
   "execution_count": 94,
   "metadata": {},
   "outputs": [
    {
     "name": "stdout",
     "output_type": "stream",
     "text": [
      "      Movie_Id                                           Name  Estimate_Score\n",
      "8           25  Inspector Morse 31: Death Is Now My Neighbour        3.993816\n",
      "1            5                       The Rise and Fall of ECW        3.922796\n",
      "6           18                               Immortal Beloved        3.828125\n",
      "10          28                                Lilo and Stitch        3.824921\n",
      "11          30                         Something's Gotta Give        3.675472\n",
      "0            3                                      Character        3.642784\n",
      "1102      3054                                 I'm Not Scared        3.549960\n",
      "1101      3047                        The Fabulous Baker Boys        3.549960\n",
      "1094      3023                                       Upstairs        3.549960\n",
      "1100      3046              The Simpsons: Treehouse of Horror        3.549960\n"
     ]
    }
   ],
   "source": [
    "recomendaciones_usuario = recomendaciones_usuario.sort_values('Estimate_Score', ascending=False)\n",
    "print(recomendaciones_usuario.head(10))"
   ]
  },
  {
   "cell_type": "markdown",
   "metadata": {},
   "source": [
    "### **Evaluación**"
   ]
  },
  {
   "cell_type": "code",
   "execution_count": 95,
   "metadata": {},
   "outputs": [
    {
     "name": "stdout",
     "output_type": "stream",
     "text": [
      "RMSE: 1.0357\n"
     ]
    },
    {
     "data": {
      "text/plain": [
       "1.0356704607271807"
      ]
     },
     "execution_count": 95,
     "metadata": {},
     "output_type": "execute_result"
    }
   ],
   "source": [
    "from surprise import accuracy\n",
    "\n",
    "accuracy.rmse(predictions)"
   ]
  },
  {
   "cell_type": "markdown",
   "metadata": {},
   "source": [
    "### **Optimización de hiperparámetros**"
   ]
  },
  {
   "cell_type": "code",
   "execution_count": 98,
   "metadata": {},
   "outputs": [
    {
     "name": "stdout",
     "output_type": "stream",
     "text": [
      "1\n",
      "Evaluating RMSE of algorithm SVD on 3 split(s).\n",
      "\n",
      "                  Fold 1  Fold 2  Fold 3  Mean    Std     \n",
      "RMSE (testset)    1.0425  1.0346  1.0411  1.0394  0.0034  \n",
      "Fit time          1.45    1.45    1.42    1.44    0.01    \n",
      "Test time         0.50    0.26    0.46    0.41    0.10    \n",
      "2\n",
      "Evaluating RMSE of algorithm SVD on 3 split(s).\n",
      "\n",
      "                  Fold 1  Fold 2  Fold 3  Mean    Std     \n",
      "RMSE (testset)    1.0423  1.0374  1.0376  1.0391  0.0023  \n",
      "Fit time          1.09    0.97    1.01    1.02    0.05    \n",
      "Test time         0.17    0.17    0.17    0.17    0.00    \n",
      "4\n",
      "Evaluating RMSE of algorithm SVD on 3 split(s).\n",
      "\n",
      "                  Fold 1  Fold 2  Fold 3  Mean    Std     \n",
      "RMSE (testset)    1.0379  1.0422  1.0401  1.0401  0.0018  \n",
      "Fit time          1.05    1.01    1.02    1.02    0.02    \n",
      "Test time         0.16    0.16    0.17    0.16    0.00    \n",
      "8\n",
      "Evaluating RMSE of algorithm SVD on 3 split(s).\n",
      "\n",
      "                  Fold 1  Fold 2  Fold 3  Mean    Std     \n",
      "RMSE (testset)    1.0443  1.0372  1.0452  1.0422  0.0036  \n",
      "Fit time          1.13    1.17    1.14    1.15    0.02    \n",
      "Test time         0.18    0.15    0.17    0.17    0.01    \n",
      "16\n",
      "Evaluating RMSE of algorithm SVD on 3 split(s).\n",
      "\n",
      "                  Fold 1  Fold 2  Fold 3  Mean    Std     \n",
      "RMSE (testset)    1.0457  1.0425  1.0401  1.0428  0.0023  \n",
      "Fit time          1.38    1.34    1.36    1.36    0.02    \n",
      "Test time         0.17    0.19    0.15    0.17    0.01    \n",
      "32\n",
      "Evaluating RMSE of algorithm SVD on 3 split(s).\n",
      "\n",
      "                  Fold 1  Fold 2  Fold 3  Mean    Std     \n",
      "RMSE (testset)    1.0416  1.0395  1.0508  1.0440  0.0049  \n",
      "Fit time          1.67    1.69    1.70    1.69    0.02    \n",
      "Test time         0.17    0.16    0.18    0.17    0.01    \n",
      "64\n",
      "Evaluating RMSE of algorithm SVD on 3 split(s).\n",
      "\n",
      "                  Fold 1  Fold 2  Fold 3  Mean    Std     \n",
      "RMSE (testset)    1.0407  1.0435  1.0529  1.0457  0.0052  \n",
      "Fit time          2.45    2.53    2.57    2.52    0.05    \n",
      "Test time         0.17    0.35    0.16    0.23    0.09    \n",
      "128\n",
      "Evaluating RMSE of algorithm SVD on 3 split(s).\n",
      "\n",
      "                  Fold 1  Fold 2  Fold 3  Mean    Std     \n",
      "RMSE (testset)    1.0433  1.0468  1.0491  1.0464  0.0024  \n",
      "Fit time          3.86    3.93    3.98    3.92    0.05    \n",
      "Test time         0.38    0.15    0.35    0.29    0.10    \n",
      "256\n",
      "Evaluating RMSE of algorithm SVD on 3 split(s).\n",
      "\n",
      "                  Fold 1  Fold 2  Fold 3  Mean    Std     \n",
      "RMSE (testset)    1.0540  1.0470  1.0407  1.0472  0.0054  \n",
      "Fit time          6.91    6.91    6.93    6.92    0.01    \n",
      "Test time         0.16    0.38    0.18    0.24    0.10    \n"
     ]
    }
   ],
   "source": [
    "from surprise.model_selection import cross_validate\n",
    "\n",
    "rmse_test_means = []\n",
    "factores = [1,2,4,8,16,32,64,128,256]\n",
    "\n",
    "for factor in factores:\n",
    "    print(factor)\n",
    "    model = SVD(n_factors=factor)\n",
    "    cv = cross_validate(model, data, measures=['RMSE'], cv = 3, verbose=True)\n",
    "    rmse_test_means.append(np.mean(cv['test_rmse']))"
   ]
  },
  {
   "cell_type": "code",
   "execution_count": 99,
   "metadata": {},
   "outputs": [
    {
     "data": {
      "image/png": "[encoded data removed]",
      "text/plain": [
       "<Figure size 432x288 with 1 Axes>"
      ]
     },
     "metadata": {},
     "output_type": "display_data"
    }
   ],
   "source": [
    "# Ploteamos desempeño según cantidad de factores de SVD\n",
    "\n",
    "plt.scatter(factores, rmse_test_means)\n",
    "plt.xlabel('Numero de factores')\n",
    "plt.ylabel('Error RMSE')\n",
    "plt.show()"
   ]
  },
  {
   "cell_type": "code",
   "execution_count": 100,
   "metadata": {},
   "outputs": [],
   "source": [
    "# Nuevamente, no apto para ansiosos\n",
    "\n",
    "from surprise.model_selection import GridSearchCV\n",
    "\n",
    "param_grid = {'n_factors': [5,50,100],'n_epochs': [5, 10,20], 'lr_all': [0.001, 0.002, 0.005],\n",
    "              'reg_all': [0.002, 0.02, 0.2]}\n",
    "gs = GridSearchCV(SVD, param_grid, measures=['rmse'], cv=3, n_jobs = -1)\n",
    "gs.fit(data)"
   ]
  },
  {
   "cell_type": "code",
   "execution_count": 101,
   "metadata": {},
   "outputs": [
    {
     "name": "stdout",
     "output_type": "stream",
     "text": [
      "1.0402300239724742\n",
      "{'n_factors': 5, 'n_epochs': 20, 'lr_all': 0.005, 'reg_all': 0.2}\n"
     ]
    }
   ],
   "source": [
    "# Observamos performance del mejor modelo\n",
    "\n",
    "print(gs.best_score['rmse'])\n",
    "print(gs.best_params['rmse'])"
   ]
  },
  {
   "cell_type": "markdown",
   "metadata": {},
   "source": [
    "Para entender un poco más estas métricas podemos irnos [aquí](https://surprise.readthedocs.io/en/stable/matrix_factorization.html)."
   ]
  },
  {
   "cell_type": "markdown",
   "metadata": {},
   "source": [
    "- - -"
   ]
  },
  {
   "cell_type": "markdown",
   "metadata": {},
   "source": [
    "## **Incorporación de nuevos datos**\n",
    "\n",
    "Vamos a ver cómo sumar las calificaciones que no hemos usado."
   ]
  },
  {
   "cell_type": "code",
   "execution_count": 102,
   "metadata": {},
   "outputs": [
    {
     "name": "stdout",
     "output_type": "stream",
     "text": [
      "(26982302, 2)\n"
     ]
    }
   ],
   "source": [
    "# 1\n",
    "\n",
    "def load_data(name):\n",
    "    df = pd.read_csv(name, header = None, names = ['User','Rating'], usecols = [0,1])\n",
    "    \n",
    "    # En ciertos casos, forzar un tipo de dato hace que se ahorre mucho lugar en memoria.\n",
    "    df['Rating'] = df['Rating']#.astype(float) \n",
    "    return df\n",
    "\n",
    "\n",
    "df2 = load_data('../Datasets/Clase_08_RS/combined_data_2.txt')\n",
    "print(df2.shape)"
   ]
  },
  {
   "cell_type": "code",
   "execution_count": 103,
   "metadata": {},
   "outputs": [
    {
     "name": "stdout",
     "output_type": "stream",
     "text": [
      "['4500:' '4501:' '4502:' ... '9208:' '9209:' '9210:']\n",
      "4711\n",
      "[4500 4501 4502 ... 9208 9209 9210]\n"
     ]
    }
   ],
   "source": [
    "# 2\n",
    "\n",
    "movies_ids_df2 = df2.User[df2.Rating.isna()].values\n",
    "print(movies_ids_df2)\n",
    "print(len(movies_ids_df2))\n",
    "\n",
    "movies_ids_df2 = np.arange(4500,len(movies_ids_df2) + 4500)\n",
    "print(movies_ids_df2)"
   ]
  },
  {
   "cell_type": "code",
   "execution_count": 104,
   "metadata": {},
   "outputs": [
    {
     "name": "stdout",
     "output_type": "stream",
     "text": [
      "[       0      259      855 ... 26961403 26980373 26980497]\n"
     ]
    }
   ],
   "source": [
    "df2_nan = pd.DataFrame(pd.isnull(df2.Rating))\n",
    "df2_nan = df2_nan[df2_nan['Rating'] == True]\n",
    "idx_movies_ids = df2_nan.index.values\n",
    "print(idx_movies_ids)"
   ]
  },
  {
   "cell_type": "code",
   "execution_count": 105,
   "metadata": {},
   "outputs": [],
   "source": [
    "# Agregamos el índice de la última instancia del DataFrame\n",
    "\n",
    "idx_movies_ids = np.append(idx_movies_ids,df2.shape[0])"
   ]
  },
  {
   "cell_type": "code",
   "execution_count": 106,
   "metadata": {},
   "outputs": [],
   "source": [
    "cantidad_criticas = np.diff(idx_movies_ids)"
   ]
  },
  {
   "cell_type": "code",
   "execution_count": 107,
   "metadata": {},
   "outputs": [
    {
     "data": {
      "text/plain": [
       "array([  259,   596,   105, ..., 18970,   124,  1805], dtype=int64)"
      ]
     },
     "execution_count": 107,
     "metadata": {},
     "output_type": "execute_result"
    }
   ],
   "source": [
    "cantidad_criticas"
   ]
  },
  {
   "cell_type": "code",
   "execution_count": 108,
   "metadata": {},
   "outputs": [],
   "source": [
    "columna_movie_id = np.array([])\n",
    "for i in range(cantidad_criticas.size):\n",
    "    aux = np.full(cantidad_criticas[i], movies_ids_df2[i])\n",
    "    columna_movie_id = np.concatenate((columna_movie_id, aux))"
   ]
  },
  {
   "cell_type": "code",
   "execution_count": 109,
   "metadata": {},
   "outputs": [
    {
     "data": {
      "text/plain": [
       "2493"
      ]
     },
     "execution_count": 109,
     "metadata": {},
     "output_type": "execute_result"
    }
   ],
   "source": [
    "df2['movie_id'] = columna_movie_id\n",
    "del columna_movie_id\n",
    "\n",
    "df2.dropna(inplace = True)\n",
    "df2['User'] = df2['User'].astype(int)\n",
    "df2['movie_id'] = df2['movie_id'].astype(np.int16)\n",
    "df2['Rating'] = df2['Rating'].astype(np.int8)\n",
    "\n",
    "gc.collect()"
   ]
  },
  {
   "cell_type": "code",
   "execution_count": 110,
   "metadata": {},
   "outputs": [
    {
     "data": {
      "text/html": [
       "<div>\n",
       "<style scoped>\n",
       "    .dataframe tbody tr th:only-of-type {\n",
       "        vertical-align: middle;\n",
       "    }\n",
       "\n",
       "    .dataframe tbody tr th {\n",
       "        vertical-align: top;\n",
       "    }\n",
       "\n",
       "    .dataframe thead th {\n",
       "        text-align: right;\n",
       "    }\n",
       "</style>\n",
       "<table border=\"1\" class=\"dataframe\">\n",
       "  <thead>\n",
       "    <tr style=\"text-align: right;\">\n",
       "      <th></th>\n",
       "      <th>User</th>\n",
       "      <th>Rating</th>\n",
       "      <th>movie_id</th>\n",
       "    </tr>\n",
       "  </thead>\n",
       "  <tbody>\n",
       "    <tr>\n",
       "      <th>1</th>\n",
       "      <td>2532865</td>\n",
       "      <td>4</td>\n",
       "      <td>4500</td>\n",
       "    </tr>\n",
       "    <tr>\n",
       "      <th>2</th>\n",
       "      <td>573364</td>\n",
       "      <td>3</td>\n",
       "      <td>4500</td>\n",
       "    </tr>\n",
       "    <tr>\n",
       "      <th>3</th>\n",
       "      <td>1696725</td>\n",
       "      <td>3</td>\n",
       "      <td>4500</td>\n",
       "    </tr>\n",
       "    <tr>\n",
       "      <th>4</th>\n",
       "      <td>1253431</td>\n",
       "      <td>3</td>\n",
       "      <td>4500</td>\n",
       "    </tr>\n",
       "    <tr>\n",
       "      <th>5</th>\n",
       "      <td>1265574</td>\n",
       "      <td>2</td>\n",
       "      <td>4500</td>\n",
       "    </tr>\n",
       "    <tr>\n",
       "      <th>...</th>\n",
       "      <td>...</td>\n",
       "      <td>...</td>\n",
       "      <td>...</td>\n",
       "    </tr>\n",
       "    <tr>\n",
       "      <th>26982297</th>\n",
       "      <td>2420260</td>\n",
       "      <td>1</td>\n",
       "      <td>9210</td>\n",
       "    </tr>\n",
       "    <tr>\n",
       "      <th>26982298</th>\n",
       "      <td>761176</td>\n",
       "      <td>3</td>\n",
       "      <td>9210</td>\n",
       "    </tr>\n",
       "    <tr>\n",
       "      <th>26982299</th>\n",
       "      <td>459277</td>\n",
       "      <td>3</td>\n",
       "      <td>9210</td>\n",
       "    </tr>\n",
       "    <tr>\n",
       "      <th>26982300</th>\n",
       "      <td>2407365</td>\n",
       "      <td>4</td>\n",
       "      <td>9210</td>\n",
       "    </tr>\n",
       "    <tr>\n",
       "      <th>26982301</th>\n",
       "      <td>627867</td>\n",
       "      <td>3</td>\n",
       "      <td>9210</td>\n",
       "    </tr>\n",
       "  </tbody>\n",
       "</table>\n",
       "<p>26977591 rows × 3 columns</p>\n",
       "</div>"
      ],
      "text/plain": [
       "             User  Rating  movie_id\n",
       "1         2532865       4      4500\n",
       "2          573364       3      4500\n",
       "3         1696725       3      4500\n",
       "4         1253431       3      4500\n",
       "5         1265574       2      4500\n",
       "...           ...     ...       ...\n",
       "26982297  2420260       1      9210\n",
       "26982298   761176       3      9210\n",
       "26982299   459277       3      9210\n",
       "26982300  2407365       4      9210\n",
       "26982301   627867       3      9210\n",
       "\n",
       "[26977591 rows x 3 columns]"
      ]
     },
     "execution_count": 110,
     "metadata": {},
     "output_type": "execute_result"
    }
   ],
   "source": [
    "df2"
   ]
  },
  {
   "cell_type": "code",
   "execution_count": 111,
   "metadata": {},
   "outputs": [
    {
     "name": "stdout",
     "output_type": "stream",
     "text": [
      "(24053764, 3)\n"
     ]
    },
    {
     "data": {
      "text/html": [
       "<div>\n",
       "<style scoped>\n",
       "    .dataframe tbody tr th:only-of-type {\n",
       "        vertical-align: middle;\n",
       "    }\n",
       "\n",
       "    .dataframe tbody tr th {\n",
       "        vertical-align: top;\n",
       "    }\n",
       "\n",
       "    .dataframe thead th {\n",
       "        text-align: right;\n",
       "    }\n",
       "</style>\n",
       "<table border=\"1\" class=\"dataframe\">\n",
       "  <thead>\n",
       "    <tr style=\"text-align: right;\">\n",
       "      <th></th>\n",
       "      <th>User</th>\n",
       "      <th>Rating</th>\n",
       "      <th>movie_id</th>\n",
       "    </tr>\n",
       "  </thead>\n",
       "  <tbody>\n",
       "    <tr>\n",
       "      <th>0</th>\n",
       "      <td>1488844</td>\n",
       "      <td>3</td>\n",
       "      <td>1</td>\n",
       "    </tr>\n",
       "    <tr>\n",
       "      <th>1</th>\n",
       "      <td>822109</td>\n",
       "      <td>5</td>\n",
       "      <td>1</td>\n",
       "    </tr>\n",
       "    <tr>\n",
       "      <th>2</th>\n",
       "      <td>885013</td>\n",
       "      <td>4</td>\n",
       "      <td>1</td>\n",
       "    </tr>\n",
       "    <tr>\n",
       "      <th>3</th>\n",
       "      <td>30878</td>\n",
       "      <td>4</td>\n",
       "      <td>1</td>\n",
       "    </tr>\n",
       "    <tr>\n",
       "      <th>4</th>\n",
       "      <td>823519</td>\n",
       "      <td>3</td>\n",
       "      <td>1</td>\n",
       "    </tr>\n",
       "  </tbody>\n",
       "</table>\n",
       "</div>"
      ],
      "text/plain": [
       "      User  Rating  movie_id\n",
       "0  1488844       3         1\n",
       "1   822109       5         1\n",
       "2   885013       4         1\n",
       "3    30878       4         1\n",
       "4   823519       3         1"
      ]
     },
     "execution_count": 111,
     "metadata": {},
     "output_type": "execute_result"
    }
   ],
   "source": [
    "### 4.\n",
    "\n",
    "df1 = pd.read_csv('../Datasets/Clase_08_RS/combined_data_1_con_movie_id.csv', dtype={'Rating': np.int8, 'movie_id': np.int16})\n",
    "print(df1.shape)\n",
    "df1.head()"
   ]
  },
  {
   "cell_type": "code",
   "execution_count": 112,
   "metadata": {},
   "outputs": [
    {
     "name": "stderr",
     "output_type": "stream",
     "text": [
      "C:\\Users\\leand\\AppData\\Local\\Temp\\ipykernel_54968\\395377864.py:4: FutureWarning: The frame.append method is deprecated and will be removed from pandas in a future version. Use pandas.concat instead.\n",
      "  df = df.append(df2)\n"
     ]
    },
    {
     "name": "stdout",
     "output_type": "stream",
     "text": [
      "(51031355, 3)\n"
     ]
    }
   ],
   "source": [
    "### 5.\n",
    "df = df1.copy()\n",
    "del df1\n",
    "df = df.append(df2)\n",
    "print(df.shape)"
   ]
  },
  {
   "cell_type": "code",
   "execution_count": 113,
   "metadata": {},
   "outputs": [
    {
     "data": {
      "text/plain": [
       "array([   1,    2,    3, ..., 9208, 9209, 9210], dtype=int16)"
      ]
     },
     "execution_count": 113,
     "metadata": {},
     "output_type": "execute_result"
    }
   ],
   "source": [
    "# Corroboramos que estén todas las películas\n",
    "\n",
    "peliculas_presentes = df.movie_id.unique()\n",
    "peliculas_presentes"
   ]
  },
  {
   "cell_type": "code",
   "execution_count": 114,
   "metadata": {},
   "outputs": [
    {
     "name": "stdout",
     "output_type": "stream",
     "text": [
      "0\n"
     ]
    }
   ],
   "source": [
    "print((peliculas_presentes - np.arange(1,9210 + 1)).sum())"
   ]
  },
  {
   "cell_type": "code",
   "execution_count": 115,
   "metadata": {},
   "outputs": [],
   "source": [
    "switch = False\n",
    "if switch:\n",
    "    df.to_csv('../Datasets/Clase_08_RS/combined_data_1y2_con_movie_id.csv', index= False)"
   ]
  },
  {
   "cell_type": "markdown",
   "metadata": {},
   "source": [
    "- - -"
   ]
  }
 ],
 "metadata": {
  "kernelspec": {
   "display_name": "Python 3 (ipykernel)",
   "language": "python",
   "name": "python3"
  },
  "language_info": {
   "codemirror_mode": {
    "name": "ipython",
    "version": 3
   },
   "file_extension": ".py",
   "mimetype": "text/x-python",
   "name": "python",
   "nbconvert_exporter": "python",
   "pygments_lexer": "ipython3",
   "version": "3.10.5"
  },
  "vscode": {
   "interpreter": {
    "hash": "9b0261dadc93494a3555537365c322d83416c4a1ed03d5df7c77bc94b07686c8"
   }
  }
 },
 "nbformat": 4,
 "nbformat_minor": 4
}
