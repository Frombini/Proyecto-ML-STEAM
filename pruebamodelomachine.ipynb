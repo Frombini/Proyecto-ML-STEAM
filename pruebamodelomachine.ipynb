{
 "cells": [
  {
   "cell_type": "code",
   "execution_count": 389,
   "metadata": {},
   "outputs": [],
   "source": [
    "import pandas as pd\n",
    "import os\n",
    "from sklearn.feature_extraction.text import CountVectorizer\n",
    "from sklearn.metrics.pairwise import cosine_similarity\n",
    "import numpy as np\n",
    "import ast"
   ]
  },
  {
   "cell_type": "code",
   "execution_count": 390,
   "metadata": {},
   "outputs": [],
   "source": [
    "# creamos las variables para las Rutas relativas a los archivos JSON\n",
    "ruta_Output_Steam_Games = os.path.join('Datasets-Limpios', 'output_games.parquet')\n",
    "ruta_AUS_User_Items = os.path.join('Datasets-Limpios', 'user_items.parquet')\n",
    "ruta_AUS_User_Reviews = os.path.join('Datasets-Limpios', 'user_reviews.parquet')"
   ]
  },
  {
   "cell_type": "code",
   "execution_count": 391,
   "metadata": {},
   "outputs": [],
   "source": [
    "games = pd.read_parquet(ruta_Output_Steam_Games)\n",
    "items = pd.read_parquet(ruta_AUS_User_Items)\n",
    "reviews = pd.read_parquet(ruta_AUS_User_Reviews)"
   ]
  },
  {
   "cell_type": "code",
   "execution_count": 392,
   "metadata": {},
   "outputs": [
    {
     "name": "stdout",
     "output_type": "stream",
     "text": [
      "<class 'pandas.core.frame.DataFrame'>\n",
      "RangeIndex: 58431 entries, 0 to 58430\n",
      "Data columns (total 5 columns):\n",
      " #   Column      Non-Null Count  Dtype \n",
      "---  ------      --------------  ----- \n",
      " 0   ItemId      58431 non-null  int32 \n",
      " 1   Recommend   58431 non-null  bool  \n",
      " 2   Review      58431 non-null  object\n",
      " 3   UserId      58431 non-null  object\n",
      " 4   YearPosted  58431 non-null  int32 \n",
      "dtypes: bool(1), int32(2), object(2)\n",
      "memory usage: 1.4+ MB\n"
     ]
    }
   ],
   "source": [
    "reviews.info()"
   ]
  },
  {
   "cell_type": "code",
   "execution_count": 393,
   "metadata": {},
   "outputs": [
    {
     "name": "stdout",
     "output_type": "stream",
     "text": [
      "<class 'pandas.core.frame.DataFrame'>\n",
      "RangeIndex: 5094092 entries, 0 to 5094091\n",
      "Data columns (total 5 columns):\n",
      " #   Column           Dtype \n",
      "---  ------           ----- \n",
      " 0   ItemId           int32 \n",
      " 1   ItemName         object\n",
      " 2   PlaytimeForever  int32 \n",
      " 3   UserId           object\n",
      " 4   ItemsCount       int32 \n",
      "dtypes: int32(3), object(2)\n",
      "memory usage: 136.0+ MB\n"
     ]
    }
   ],
   "source": [
    "items.info()"
   ]
  },
  {
   "cell_type": "code",
   "execution_count": 394,
   "metadata": {},
   "outputs": [
    {
     "name": "stdout",
     "output_type": "stream",
     "text": [
      "<class 'pandas.core.frame.DataFrame'>\n",
      "RangeIndex: 31994 entries, 0 to 31993\n",
      "Data columns (total 6 columns):\n",
      " #   Column       Non-Null Count  Dtype         \n",
      "---  ------       --------------  -----         \n",
      " 0   Genres       31994 non-null  object        \n",
      " 1   ItemName     31994 non-null  object        \n",
      " 2   ReleaseDate  29686 non-null  datetime64[ns]\n",
      " 3   Price        31994 non-null  float64       \n",
      " 4   ItemId       31994 non-null  int32         \n",
      " 5   Developer    31994 non-null  object        \n",
      "dtypes: datetime64[ns](1), float64(1), int32(1), object(3)\n",
      "memory usage: 1.3+ MB\n"
     ]
    }
   ],
   "source": [
    "games.info()"
   ]
  },
  {
   "cell_type": "markdown",
   "metadata": {},
   "source": [
    "    Distribución de Datos:\n",
    "        Examina la distribución de las similitudes de coseno entre los elementos del conjunto de datos. Esto puede darte una idea de cómo están distribuidas las similitudes y si hay algún patrón interesante.\n",
    "\n",
    "    Estadísticas Descriptivas:\n",
    "        Calcula estadísticas descriptivas como la media, mediana, desviación estándar, etc., de las similitudes de coseno. Esto puede ayudarte a entender la tendencia central y la dispersión de las similitudes.\n",
    "\n",
    "    Visualizaciones:\n",
    "        Utiliza visualizaciones como histogramas, gráficos de dispersión y cajas para explorar la variabilidad y la distribución de las similitudes de coseno.\n",
    "\n",
    "    Análisis de Outliers:\n",
    "        Identifica y analiza posibles valores atípicos en las similitudes. Los valores atípicos pueden afectar significativamente el rendimiento del modelo y es importante entender su impacto.\n",
    "\n",
    "    Variabilidad entre Grupos:\n",
    "        Si tienes información sobre diferentes grupos de usuarios o elementos, investiga la variabilidad de las similitudes dentro y entre estos grupos. Puede ser útil entender si hay ciertas categorías que tienen similitudes más altas o más bajas en promedio.\n",
    "\n",
    "    Matriz de Correlación (Opcional):\n",
    "        Aunque la matriz de correlación es más comúnmente utilizada en el contexto de variables numéricas, podrías explorar la posibilidad de calcular la matriz de correlación entre las similitudes de coseno de diferentes elementos. Esto puede revelar patrones interesantes en la similitud entre elementos.\n",
    "\n",
    "    Análisis de Sesgo:\n",
    "        Examina si hay sesgo en las recomendaciones hacia ciertos usuarios o elementos. Puedes analizar si ciertos grupos están recibiendo recomendaciones de manera desproporcionada.\n",
    "\n",
    "    Validación Cruzada:\n",
    "        Si tienes un conjunto de datos grande, considera realizar validación cruzada para evaluar la estabilidad y robustez del modelo de recomendación basado en similitud de coseno.\n",
    "\n",
    "Recuerda que el EDA es un proceso iterativo y depende en gran medida de la naturaleza específica de tus datos y del problema de recomendación que estás abordando. A medida que explores los datos, es posible que surjan nuevas preguntas y consideraciones que puedan guiar tu análisis."
   ]
  },
  {
   "cell_type": "markdown",
   "metadata": {},
   "source": [
    "Si es un sistema de recomendación item-item:\n",
    "\n",
    "    def recomendacion_juego( id de producto ): Ingresando el id de producto, deberíamos recibir una lista con 5 juegos recomendados similares al ingresado.\n"
   ]
  },
  {
   "cell_type": "code",
   "execution_count": 395,
   "metadata": {},
   "outputs": [],
   "source": [
    "modelo_df = games.loc[:, [\"Genres\", \"ItemId\",'ItemName']]"
   ]
  },
  {
   "cell_type": "code",
   "execution_count": 396,
   "metadata": {},
   "outputs": [
    {
     "data": {
      "text/html": [
       "<div>\n",
       "<style scoped>\n",
       "    .dataframe tbody tr th:only-of-type {\n",
       "        vertical-align: middle;\n",
       "    }\n",
       "\n",
       "    .dataframe tbody tr th {\n",
       "        vertical-align: top;\n",
       "    }\n",
       "\n",
       "    .dataframe thead th {\n",
       "        text-align: right;\n",
       "    }\n",
       "</style>\n",
       "<table border=\"1\" class=\"dataframe\">\n",
       "  <thead>\n",
       "    <tr style=\"text-align: right;\">\n",
       "      <th></th>\n",
       "      <th>Genres</th>\n",
       "      <th>ItemId</th>\n",
       "      <th>ItemName</th>\n",
       "    </tr>\n",
       "  </thead>\n",
       "  <tbody>\n",
       "    <tr>\n",
       "      <th>0</th>\n",
       "      <td>[Action, Casual, Indie, Simulation, Strategy]</td>\n",
       "      <td>761140</td>\n",
       "      <td>Lost Summoner Kitty</td>\n",
       "    </tr>\n",
       "    <tr>\n",
       "      <th>1</th>\n",
       "      <td>[Free to Play, Indie, RPG, Strategy]</td>\n",
       "      <td>643980</td>\n",
       "      <td>Ironbound</td>\n",
       "    </tr>\n",
       "    <tr>\n",
       "      <th>2</th>\n",
       "      <td>[Casual, Free to Play, Indie, Simulation, Sports]</td>\n",
       "      <td>670290</td>\n",
       "      <td>Real Pool 3D - Poolians</td>\n",
       "    </tr>\n",
       "    <tr>\n",
       "      <th>3</th>\n",
       "      <td>[Action, Adventure, Casual]</td>\n",
       "      <td>767400</td>\n",
       "      <td>弹炸人2222</td>\n",
       "    </tr>\n",
       "    <tr>\n",
       "      <th>4</th>\n",
       "      <td>[Action, Indie, Casual, Sports]</td>\n",
       "      <td>773570</td>\n",
       "      <td>Log Challenge</td>\n",
       "    </tr>\n",
       "  </tbody>\n",
       "</table>\n",
       "</div>"
      ],
      "text/plain": [
       "                                              Genres  ItemId  \\\n",
       "0      [Action, Casual, Indie, Simulation, Strategy]  761140   \n",
       "1               [Free to Play, Indie, RPG, Strategy]  643980   \n",
       "2  [Casual, Free to Play, Indie, Simulation, Sports]  670290   \n",
       "3                        [Action, Adventure, Casual]  767400   \n",
       "4                    [Action, Indie, Casual, Sports]  773570   \n",
       "\n",
       "                  ItemName  \n",
       "0      Lost Summoner Kitty  \n",
       "1                Ironbound  \n",
       "2  Real Pool 3D - Poolians  \n",
       "3                  弹炸人2222  \n",
       "4            Log Challenge  "
      ]
     },
     "execution_count": 396,
     "metadata": {},
     "output_type": "execute_result"
    }
   ],
   "source": [
    "modelo_df.head()"
   ]
  },
  {
   "cell_type": "code",
   "execution_count": 397,
   "metadata": {},
   "outputs": [
    {
     "name": "stdout",
     "output_type": "stream",
     "text": [
      "<class 'pandas.core.frame.DataFrame'>\n",
      "RangeIndex: 31994 entries, 0 to 31993\n",
      "Data columns (total 3 columns):\n",
      " #   Column    Non-Null Count  Dtype \n",
      "---  ------    --------------  ----- \n",
      " 0   Genres    31994 non-null  object\n",
      " 1   ItemId    31994 non-null  int32 \n",
      " 2   ItemName  31994 non-null  object\n",
      "dtypes: int32(1), object(2)\n",
      "memory usage: 625.0+ KB\n"
     ]
    }
   ],
   "source": [
    "modelo_df.info()"
   ]
  },
  {
   "cell_type": "code",
   "execution_count": 398,
   "metadata": {},
   "outputs": [
    {
     "data": {
      "text/plain": [
       "dtype('O')"
      ]
     },
     "execution_count": 398,
     "metadata": {},
     "output_type": "execute_result"
    }
   ],
   "source": [
    "modelo_df['Genres'].dtype"
   ]
  },
  {
   "cell_type": "code",
   "execution_count": 399,
   "metadata": {},
   "outputs": [
    {
     "name": "stdout",
     "output_type": "stream",
     "text": [
      "0              Action, Casual, Indie, Simulation, Strategy\n",
      "1                       Free to Play, Indie, RPG, Strategy\n",
      "2          Casual, Free to Play, Indie, Simulation, Sports\n",
      "3                                Action, Adventure, Casual\n",
      "4                            Action, Indie, Casual, Sports\n",
      "                               ...                        \n",
      "31989                  Casual, Indie, Simulation, Strategy\n",
      "31990                              Casual, Indie, Strategy\n",
      "31991                            Indie, Racing, Simulation\n",
      "31992                                        Casual, Indie\n",
      "31993    Early Access, Adventure, Indie, Action, Simula...\n",
      "Name: Genres, Length: 31994, dtype: object\n"
     ]
    }
   ],
   "source": [
    "# Asignar la columna 'Genres' a una variable\n",
    "genres_variable = modelo_df['Genres'].copy()\n",
    "# Convertir a cadena antes de reemplazar los corchetes\n",
    "genres_variable = genres_variable.apply(lambda x: str(x).replace('[', '').replace(']', ''))\n",
    "# Eliminar comillas y agregar comas entre los géneros\n",
    "genres_variable = genres_variable.apply(lambda x: ', '.join(filter(None, map(str.strip, x.split(\"'\")))) if isinstance(x, str) else x)\n",
    "# Reemplazar la columna 'Genres' en el DataFrame original\n",
    "modelo_df['Genres'] = genres_variable\n",
    "\n",
    "# Imprimir la columna después de reemplazar\n",
    "print(modelo_df['Genres'])"
   ]
  },
  {
   "cell_type": "code",
   "execution_count": 400,
   "metadata": {},
   "outputs": [],
   "source": [
    "#vamos a cambiar unos errores que hay en la columna Genres\n",
    "# como vemos hay unos errores de caracteres, que vamos a solucionar de la siguiente manera\n",
    "modelo_df['Genres'] = modelo_df['Genres'].replace('Design &amp; Illustration', 'Design & Illustration')\n",
    "modelo_df['Genres'] = modelo_df['Genres'].replace('Animation &amp; Modeling', 'Animation & Modeling')"
   ]
  },
  {
   "cell_type": "code",
   "execution_count": 401,
   "metadata": {},
   "outputs": [
    {
     "name": "stdout",
     "output_type": "stream",
     "text": [
      "['Action, Casual, Indie, Simulation, Strategy'\n",
      " 'Free to Play, Indie, RPG, Strategy'\n",
      " 'Casual, Free to Play, Indie, Simulation, Sports' ...\n",
      " 'Action, Massively Multiplayer, Strategy'\n",
      " 'Video Production, Utilities, Web Publishing'\n",
      " 'Early Access, Adventure, Indie, Action, Simulation']\n"
     ]
    }
   ],
   "source": [
    "print(modelo_df['Genres'].unique())"
   ]
  },
  {
   "cell_type": "markdown",
   "metadata": {},
   "source": [
    "Porque consideramos poner dummies"
   ]
  },
  {
   "cell_type": "code",
   "execution_count": 402,
   "metadata": {},
   "outputs": [
    {
     "name": "stdout",
     "output_type": "stream",
     "text": [
      "Error en la entrada: Action, Casual, Indie, Simulation, Strategy\n"
     ]
    },
    {
     "ename": "SyntaxError",
     "evalue": "invalid syntax (<unknown>, line 1)",
     "output_type": "error",
     "traceback": [
      "Traceback \u001b[1;36m(most recent call last)\u001b[0m:\n",
      "\u001b[0m  File \u001b[0;32m~\\AppData\\Local\\Packages\\PythonSoftwareFoundation.Python.3.11_qbz5n2kfra8p0\\LocalCache\\local-packages\\Python311\\site-packages\\IPython\\core\\interactiveshell.py:3508\u001b[0m in \u001b[0;35mrun_code\u001b[0m\n    exec(code_obj, self.user_global_ns, self.user_ns)\u001b[0m\n",
      "\u001b[0m  Cell \u001b[0;32mIn[402], line 4\u001b[0m\n    ast.literal_eval(x)\u001b[0m\n",
      "\u001b[0m  File \u001b[0;32mC:\\Program Files\\WindowsApps\\PythonSoftwareFoundation.Python.3.11_3.11.1776.0_x64__qbz5n2kfra8p0\\Lib\\ast.py:64\u001b[0m in \u001b[0;35mliteral_eval\u001b[0m\n    node_or_string = parse(node_or_string.lstrip(\" \\t\"), mode='eval')\u001b[0m\n",
      "\u001b[1;36m  File \u001b[1;32mC:\\Program Files\\WindowsApps\\PythonSoftwareFoundation.Python.3.11_3.11.1776.0_x64__qbz5n2kfra8p0\\Lib\\ast.py:50\u001b[1;36m in \u001b[1;35mparse\u001b[1;36m\n\u001b[1;33m    return compile(source, filename, mode, flags,\u001b[1;36m\n",
      "\u001b[1;36m  File \u001b[1;32m<unknown>:1\u001b[1;36m\u001b[0m\n\u001b[1;33m    Free to Play, Indie, RPG, Strategy\u001b[0m\n\u001b[1;37m         ^\u001b[0m\n\u001b[1;31mSyntaxError\u001b[0m\u001b[1;31m:\u001b[0m invalid syntax\n"
     ]
    }
   ],
   "source": [
    "# Imprimir algunas entradas problemáticas\n",
    "for x in modelo_df['Genres']:\n",
    "    try:\n",
    "        ast.literal_eval(x)\n",
    "    except ValueError:\n",
    "        print(f'Error en la entrada: {x}')"
   ]
  },
  {
   "cell_type": "code",
   "execution_count": null,
   "metadata": {},
   "outputs": [],
   "source": [
    "# Convertir la cadena a una lista usando split\n",
    "modelo_df['Genres'] = modelo_df['Genres'].apply(lambda x: x.split(', ') if isinstance(x, str) else x)"
   ]
  },
  {
   "cell_type": "code",
   "execution_count": null,
   "metadata": {},
   "outputs": [
    {
     "name": "stderr",
     "output_type": "stream",
     "text": [
      "C:\\Users\\frank\\AppData\\Local\\Temp\\ipykernel_21940\\337183157.py:2: FutureWarning: Using the level keyword in DataFrame and Series aggregations is deprecated and will be removed in a future version. Use groupby instead. df.sum(level=1) should use df.groupby(level=1).sum().\n",
      "  generos_dummies = pd.get_dummies(modelo_df['Genres'].apply(pd.Series).stack()).sum(level=0)\n"
     ]
    }
   ],
   "source": [
    "# Obtener columnas de dummies para los géneros\n",
    "generos_dummies = pd.get_dummies(modelo_df['Genres'].apply(pd.Series).stack()).sum(level=0)"
   ]
  },
  {
   "cell_type": "code",
   "execution_count": null,
   "metadata": {},
   "outputs": [
    {
     "data": {
      "text/html": [
       "<div>\n",
       "<style scoped>\n",
       "    .dataframe tbody tr th:only-of-type {\n",
       "        vertical-align: middle;\n",
       "    }\n",
       "\n",
       "    .dataframe tbody tr th {\n",
       "        vertical-align: top;\n",
       "    }\n",
       "\n",
       "    .dataframe thead th {\n",
       "        text-align: right;\n",
       "    }\n",
       "</style>\n",
       "<table border=\"1\" class=\"dataframe\">\n",
       "  <thead>\n",
       "    <tr style=\"text-align: right;\">\n",
       "      <th></th>\n",
       "      <th></th>\n",
       "      <th>Accounting</th>\n",
       "      <th>Action</th>\n",
       "      <th>Adventure</th>\n",
       "      <th>Animation &amp; Modeling</th>\n",
       "      <th>Animation &amp;amp; Modeling</th>\n",
       "      <th>Audio Production</th>\n",
       "      <th>Casual</th>\n",
       "      <th>Design &amp; Illustration</th>\n",
       "      <th>Design &amp;amp; Illustration</th>\n",
       "      <th>...</th>\n",
       "      <th>Photo Editing</th>\n",
       "      <th>RPG</th>\n",
       "      <th>Racing</th>\n",
       "      <th>Simulation</th>\n",
       "      <th>Software Training</th>\n",
       "      <th>Sports</th>\n",
       "      <th>Strategy</th>\n",
       "      <th>Utilities</th>\n",
       "      <th>Video Production</th>\n",
       "      <th>Web Publishing</th>\n",
       "    </tr>\n",
       "  </thead>\n",
       "  <tbody>\n",
       "    <tr>\n",
       "      <th>0</th>\n",
       "      <td>0</td>\n",
       "      <td>0</td>\n",
       "      <td>1</td>\n",
       "      <td>0</td>\n",
       "      <td>0</td>\n",
       "      <td>0</td>\n",
       "      <td>0</td>\n",
       "      <td>1</td>\n",
       "      <td>0</td>\n",
       "      <td>0</td>\n",
       "      <td>...</td>\n",
       "      <td>0</td>\n",
       "      <td>0</td>\n",
       "      <td>0</td>\n",
       "      <td>1</td>\n",
       "      <td>0</td>\n",
       "      <td>0</td>\n",
       "      <td>1</td>\n",
       "      <td>0</td>\n",
       "      <td>0</td>\n",
       "      <td>0</td>\n",
       "    </tr>\n",
       "  </tbody>\n",
       "</table>\n",
       "<p>1 rows × 25 columns</p>\n",
       "</div>"
      ],
      "text/plain": [
       "      Accounting  Action  Adventure  Animation & Modeling  \\\n",
       "0  0           0       1          0                     0   \n",
       "\n",
       "   Animation &amp; Modeling  Audio Production  Casual  Design & Illustration  \\\n",
       "0                         0                 0       1                      0   \n",
       "\n",
       "   Design &amp; Illustration  ...  Photo Editing  RPG  Racing  Simulation  \\\n",
       "0                          0  ...              0    0       0           1   \n",
       "\n",
       "   Software Training  Sports  Strategy  Utilities  Video Production  \\\n",
       "0                  0       0         1          0                 0   \n",
       "\n",
       "   Web Publishing  \n",
       "0               0  \n",
       "\n",
       "[1 rows x 25 columns]"
      ]
     },
     "execution_count": 368,
     "metadata": {},
     "output_type": "execute_result"
    }
   ],
   "source": [
    "generos_dummies.head(1)"
   ]
  },
  {
   "cell_type": "code",
   "execution_count": null,
   "metadata": {},
   "outputs": [
    {
     "data": {
      "text/plain": [
       "Index(['', 'Accounting', 'Action', 'Adventure', 'Animation & Modeling',\n",
       "       'Animation &amp; Modeling', 'Audio Production', 'Casual',\n",
       "       'Design & Illustration', 'Design &amp; Illustration', 'Early Access',\n",
       "       'Education', 'Free to Play', 'Indie', 'Massively Multiplayer',\n",
       "       'Photo Editing', 'RPG', 'Racing', 'Simulation', 'Software Training',\n",
       "       'Sports', 'Strategy', 'Utilities', 'Video Production',\n",
       "       'Web Publishing'],\n",
       "      dtype='object')"
      ]
     },
     "execution_count": 369,
     "metadata": {},
     "output_type": "execute_result"
    }
   ],
   "source": [
    "generos_dummies.columns"
   ]
  },
  {
   "cell_type": "code",
   "execution_count": null,
   "metadata": {},
   "outputs": [],
   "source": [
    "generos_dummies.drop(columns=['Animation &amp; Modeling','Design &amp; Illustration',''], inplace=True)"
   ]
  },
  {
   "cell_type": "code",
   "execution_count": null,
   "metadata": {},
   "outputs": [],
   "source": [
    "# Concatenar las columnas de dummies al DataFrame original\n",
    "modelo_df = pd.concat([modelo_df, generos_dummies], axis=1)"
   ]
  },
  {
   "cell_type": "code",
   "execution_count": null,
   "metadata": {},
   "outputs": [
    {
     "data": {
      "text/html": [
       "<div>\n",
       "<style scoped>\n",
       "    .dataframe tbody tr th:only-of-type {\n",
       "        vertical-align: middle;\n",
       "    }\n",
       "\n",
       "    .dataframe tbody tr th {\n",
       "        vertical-align: top;\n",
       "    }\n",
       "\n",
       "    .dataframe thead th {\n",
       "        text-align: right;\n",
       "    }\n",
       "</style>\n",
       "<table border=\"1\" class=\"dataframe\">\n",
       "  <thead>\n",
       "    <tr style=\"text-align: right;\">\n",
       "      <th></th>\n",
       "      <th>Genres</th>\n",
       "      <th>ItemId</th>\n",
       "      <th>ItemName</th>\n",
       "      <th>Accounting</th>\n",
       "      <th>Action</th>\n",
       "      <th>Adventure</th>\n",
       "      <th>Animation &amp; Modeling</th>\n",
       "      <th>Audio Production</th>\n",
       "      <th>Casual</th>\n",
       "      <th>Design &amp; Illustration</th>\n",
       "      <th>...</th>\n",
       "      <th>Photo Editing</th>\n",
       "      <th>RPG</th>\n",
       "      <th>Racing</th>\n",
       "      <th>Simulation</th>\n",
       "      <th>Software Training</th>\n",
       "      <th>Sports</th>\n",
       "      <th>Strategy</th>\n",
       "      <th>Utilities</th>\n",
       "      <th>Video Production</th>\n",
       "      <th>Web Publishing</th>\n",
       "    </tr>\n",
       "  </thead>\n",
       "  <tbody>\n",
       "    <tr>\n",
       "      <th>0</th>\n",
       "      <td>Action, Casual, Indie, Simulation, Strategy</td>\n",
       "      <td>761140</td>\n",
       "      <td>Lost Summoner Kitty</td>\n",
       "      <td>0</td>\n",
       "      <td>1</td>\n",
       "      <td>0</td>\n",
       "      <td>0</td>\n",
       "      <td>0</td>\n",
       "      <td>1</td>\n",
       "      <td>0</td>\n",
       "      <td>...</td>\n",
       "      <td>0</td>\n",
       "      <td>0</td>\n",
       "      <td>0</td>\n",
       "      <td>1</td>\n",
       "      <td>0</td>\n",
       "      <td>0</td>\n",
       "      <td>1</td>\n",
       "      <td>0</td>\n",
       "      <td>0</td>\n",
       "      <td>0</td>\n",
       "    </tr>\n",
       "  </tbody>\n",
       "</table>\n",
       "<p>1 rows × 25 columns</p>\n",
       "</div>"
      ],
      "text/plain": [
       "                                        Genres  ItemId             ItemName  \\\n",
       "0  Action, Casual, Indie, Simulation, Strategy  761140  Lost Summoner Kitty   \n",
       "\n",
       "   Accounting  Action  Adventure  Animation & Modeling  Audio Production  \\\n",
       "0           0       1          0                     0                 0   \n",
       "\n",
       "   Casual  Design & Illustration  ...  Photo Editing  RPG  Racing  Simulation  \\\n",
       "0       1                      0  ...              0    0       0           1   \n",
       "\n",
       "   Software Training  Sports  Strategy  Utilities  Video Production  \\\n",
       "0                  0       0         1          0                 0   \n",
       "\n",
       "   Web Publishing  \n",
       "0               0  \n",
       "\n",
       "[1 rows x 25 columns]"
      ]
     },
     "execution_count": 387,
     "metadata": {},
     "output_type": "execute_result"
    }
   ],
   "source": [
    "modelo_df.head(1)"
   ]
  },
  {
   "cell_type": "code",
   "execution_count": null,
   "metadata": {},
   "outputs": [
    {
     "name": "stdout",
     "output_type": "stream",
     "text": [
      "<class 'pandas.core.frame.DataFrame'>\n",
      "RangeIndex: 31994 entries, 0 to 31993\n",
      "Data columns (total 25 columns):\n",
      " #   Column                 Non-Null Count  Dtype \n",
      "---  ------                 --------------  ----- \n",
      " 0   Genres                 31994 non-null  object\n",
      " 1   ItemId                 31994 non-null  int32 \n",
      " 2   ItemName               31994 non-null  object\n",
      " 3   Accounting             31994 non-null  uint8 \n",
      " 4   Action                 31994 non-null  uint8 \n",
      " 5   Adventure              31994 non-null  uint8 \n",
      " 6   Animation & Modeling   31994 non-null  uint8 \n",
      " 7   Audio Production       31994 non-null  uint8 \n",
      " 8   Casual                 31994 non-null  uint8 \n",
      " 9   Design & Illustration  31994 non-null  uint8 \n",
      " 10  Early Access           31994 non-null  uint8 \n",
      " 11  Education              31994 non-null  uint8 \n",
      " 12  Free to Play           31994 non-null  uint8 \n",
      " 13  Indie                  31994 non-null  uint8 \n",
      " 14  Massively Multiplayer  31994 non-null  uint8 \n",
      " 15  Photo Editing          31994 non-null  uint8 \n",
      " 16  RPG                    31994 non-null  uint8 \n",
      " 17  Racing                 31994 non-null  uint8 \n",
      " 18  Simulation             31994 non-null  uint8 \n",
      " 19  Software Training      31994 non-null  uint8 \n",
      " 20  Sports                 31994 non-null  uint8 \n",
      " 21  Strategy               31994 non-null  uint8 \n",
      " 22  Utilities              31994 non-null  uint8 \n",
      " 23  Video Production       31994 non-null  uint8 \n",
      " 24  Web Publishing         31994 non-null  uint8 \n",
      "dtypes: int32(1), object(2), uint8(22)\n",
      "memory usage: 1.3+ MB\n"
     ]
    }
   ],
   "source": [
    "modelo_df.info()"
   ]
  },
  {
   "cell_type": "markdown",
   "metadata": {},
   "source": [
    "Modelo de recomendacion item- item"
   ]
  },
  {
   "cell_type": "code",
   "execution_count": null,
   "metadata": {},
   "outputs": [],
   "source": [
    "'''similarity_matrix = cosine_similarity(X)  \n",
    "df_similarity = pd.DataFrame(similarity_matrix, index=generos_dummies['id'], columns=df_dummies['id'])\n",
    "Salida={}\n",
    "for columna in df_similarity.columns:\n",
    "    prueba=df_similarity[columna].nlargest(6).index[1:].to_list()\n",
    "    prueba3=df_Juegos['app_name'][df_Juegos['id'].isin(prueba)].to_list()\n",
    "    Salida.update({columna:prueba3})'''"
   ]
  },
  {
   "cell_type": "code",
   "execution_count": 45,
   "metadata": {},
   "outputs": [],
   "source": [
    "cv = CountVectorizer()"
   ]
  },
  {
   "cell_type": "code",
   "execution_count": 46,
   "metadata": {},
   "outputs": [
    {
     "ename": "AttributeError",
     "evalue": "'numpy.ndarray' object has no attribute 'lower'",
     "output_type": "error",
     "traceback": [
      "\u001b[1;31m---------------------------------------------------------------------------\u001b[0m",
      "\u001b[1;31mAttributeError\u001b[0m                            Traceback (most recent call last)",
      "\u001b[1;32mc:\\Users\\frank\\OneDrive\\Documentos\\GitHub\\Proyecto-ML-STEAM\\3-ETL-EDA-ML.ipynb Cell 14\u001b[0m line \u001b[0;36m1\n\u001b[1;32m----> <a href='vscode-notebook-cell:/c%3A/Users/frank/OneDrive/Documentos/GitHub/Proyecto-ML-STEAM/3-ETL-EDA-ML.ipynb#X30sZmlsZQ%3D%3D?line=0'>1</a>\u001b[0m cv\u001b[39m.\u001b[39;49mfit_transform(modelo_df[\u001b[39m'\u001b[39;49m\u001b[39mGenres\u001b[39;49m\u001b[39m'\u001b[39;49m])\u001b[39m.\u001b[39mtoarray()\u001b[39m.\u001b[39mshape\n",
      "File \u001b[1;32m~\\AppData\\Local\\Packages\\PythonSoftwareFoundation.Python.3.11_qbz5n2kfra8p0\\LocalCache\\local-packages\\Python311\\site-packages\\sklearn\\base.py:1152\u001b[0m, in \u001b[0;36m_fit_context.<locals>.decorator.<locals>.wrapper\u001b[1;34m(estimator, *args, **kwargs)\u001b[0m\n\u001b[0;32m   1145\u001b[0m     estimator\u001b[39m.\u001b[39m_validate_params()\n\u001b[0;32m   1147\u001b[0m \u001b[39mwith\u001b[39;00m config_context(\n\u001b[0;32m   1148\u001b[0m     skip_parameter_validation\u001b[39m=\u001b[39m(\n\u001b[0;32m   1149\u001b[0m         prefer_skip_nested_validation \u001b[39mor\u001b[39;00m global_skip_validation\n\u001b[0;32m   1150\u001b[0m     )\n\u001b[0;32m   1151\u001b[0m ):\n\u001b[1;32m-> 1152\u001b[0m     \u001b[39mreturn\u001b[39;00m fit_method(estimator, \u001b[39m*\u001b[39;49margs, \u001b[39m*\u001b[39;49m\u001b[39m*\u001b[39;49mkwargs)\n",
      "File \u001b[1;32m~\\AppData\\Local\\Packages\\PythonSoftwareFoundation.Python.3.11_qbz5n2kfra8p0\\LocalCache\\local-packages\\Python311\\site-packages\\sklearn\\feature_extraction\\text.py:1389\u001b[0m, in \u001b[0;36mCountVectorizer.fit_transform\u001b[1;34m(self, raw_documents, y)\u001b[0m\n\u001b[0;32m   1381\u001b[0m             warnings\u001b[39m.\u001b[39mwarn(\n\u001b[0;32m   1382\u001b[0m                 \u001b[39m\"\u001b[39m\u001b[39mUpper case characters found in\u001b[39m\u001b[39m\"\u001b[39m\n\u001b[0;32m   1383\u001b[0m                 \u001b[39m\"\u001b[39m\u001b[39m vocabulary while \u001b[39m\u001b[39m'\u001b[39m\u001b[39mlowercase\u001b[39m\u001b[39m'\u001b[39m\u001b[39m\"\u001b[39m\n\u001b[0;32m   1384\u001b[0m                 \u001b[39m\"\u001b[39m\u001b[39m is True. These entries will not\u001b[39m\u001b[39m\"\u001b[39m\n\u001b[0;32m   1385\u001b[0m                 \u001b[39m\"\u001b[39m\u001b[39m be matched with any documents\u001b[39m\u001b[39m\"\u001b[39m\n\u001b[0;32m   1386\u001b[0m             )\n\u001b[0;32m   1387\u001b[0m             \u001b[39mbreak\u001b[39;00m\n\u001b[1;32m-> 1389\u001b[0m vocabulary, X \u001b[39m=\u001b[39m \u001b[39mself\u001b[39;49m\u001b[39m.\u001b[39;49m_count_vocab(raw_documents, \u001b[39mself\u001b[39;49m\u001b[39m.\u001b[39;49mfixed_vocabulary_)\n\u001b[0;32m   1391\u001b[0m \u001b[39mif\u001b[39;00m \u001b[39mself\u001b[39m\u001b[39m.\u001b[39mbinary:\n\u001b[0;32m   1392\u001b[0m     X\u001b[39m.\u001b[39mdata\u001b[39m.\u001b[39mfill(\u001b[39m1\u001b[39m)\n",
      "File \u001b[1;32m~\\AppData\\Local\\Packages\\PythonSoftwareFoundation.Python.3.11_qbz5n2kfra8p0\\LocalCache\\local-packages\\Python311\\site-packages\\sklearn\\feature_extraction\\text.py:1276\u001b[0m, in \u001b[0;36mCountVectorizer._count_vocab\u001b[1;34m(self, raw_documents, fixed_vocab)\u001b[0m\n\u001b[0;32m   1274\u001b[0m \u001b[39mfor\u001b[39;00m doc \u001b[39min\u001b[39;00m raw_documents:\n\u001b[0;32m   1275\u001b[0m     feature_counter \u001b[39m=\u001b[39m {}\n\u001b[1;32m-> 1276\u001b[0m     \u001b[39mfor\u001b[39;00m feature \u001b[39min\u001b[39;00m analyze(doc):\n\u001b[0;32m   1277\u001b[0m         \u001b[39mtry\u001b[39;00m:\n\u001b[0;32m   1278\u001b[0m             feature_idx \u001b[39m=\u001b[39m vocabulary[feature]\n",
      "File \u001b[1;32m~\\AppData\\Local\\Packages\\PythonSoftwareFoundation.Python.3.11_qbz5n2kfra8p0\\LocalCache\\local-packages\\Python311\\site-packages\\sklearn\\feature_extraction\\text.py:110\u001b[0m, in \u001b[0;36m_analyze\u001b[1;34m(doc, analyzer, tokenizer, ngrams, preprocessor, decoder, stop_words)\u001b[0m\n\u001b[0;32m    108\u001b[0m \u001b[39melse\u001b[39;00m:\n\u001b[0;32m    109\u001b[0m     \u001b[39mif\u001b[39;00m preprocessor \u001b[39mis\u001b[39;00m \u001b[39mnot\u001b[39;00m \u001b[39mNone\u001b[39;00m:\n\u001b[1;32m--> 110\u001b[0m         doc \u001b[39m=\u001b[39m preprocessor(doc)\n\u001b[0;32m    111\u001b[0m     \u001b[39mif\u001b[39;00m tokenizer \u001b[39mis\u001b[39;00m \u001b[39mnot\u001b[39;00m \u001b[39mNone\u001b[39;00m:\n\u001b[0;32m    112\u001b[0m         doc \u001b[39m=\u001b[39m tokenizer(doc)\n",
      "File \u001b[1;32m~\\AppData\\Local\\Packages\\PythonSoftwareFoundation.Python.3.11_qbz5n2kfra8p0\\LocalCache\\local-packages\\Python311\\site-packages\\sklearn\\feature_extraction\\text.py:68\u001b[0m, in \u001b[0;36m_preprocess\u001b[1;34m(doc, accent_function, lower)\u001b[0m\n\u001b[0;32m     49\u001b[0m \u001b[39m\u001b[39m\u001b[39m\"\"\"Chain together an optional series of text preprocessing steps to\u001b[39;00m\n\u001b[0;32m     50\u001b[0m \u001b[39mapply to a document.\u001b[39;00m\n\u001b[0;32m     51\u001b[0m \n\u001b[1;32m   (...)\u001b[0m\n\u001b[0;32m     65\u001b[0m \u001b[39m    preprocessed string\u001b[39;00m\n\u001b[0;32m     66\u001b[0m \u001b[39m\"\"\"\u001b[39;00m\n\u001b[0;32m     67\u001b[0m \u001b[39mif\u001b[39;00m lower:\n\u001b[1;32m---> 68\u001b[0m     doc \u001b[39m=\u001b[39m doc\u001b[39m.\u001b[39;49mlower()\n\u001b[0;32m     69\u001b[0m \u001b[39mif\u001b[39;00m accent_function \u001b[39mis\u001b[39;00m \u001b[39mnot\u001b[39;00m \u001b[39mNone\u001b[39;00m:\n\u001b[0;32m     70\u001b[0m     doc \u001b[39m=\u001b[39m accent_function(doc)\n",
      "\u001b[1;31mAttributeError\u001b[0m: 'numpy.ndarray' object has no attribute 'lower'"
     ]
    }
   ],
   "source": [
    "cv.fit_transform(modelo_df['Genres']).toarray().shape"
   ]
  }
 ],
 "metadata": {
  "kernelspec": {
   "display_name": "Python 3",
   "language": "python",
   "name": "python3"
  },
  "language_info": {
   "codemirror_mode": {
    "name": "ipython",
    "version": 3
   },
   "file_extension": ".py",
   "mimetype": "text/x-python",
   "name": "python",
   "nbconvert_exporter": "python",
   "pygments_lexer": "ipython3",
   "version": "3.11.6"
  }
 },
 "nbformat": 4,
 "nbformat_minor": 2
}
